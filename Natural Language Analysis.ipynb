{
 "cells": [
  {
   "cell_type": "markdown",
   "metadata": {
    "heading_collapsed": true
   },
   "source": [
    "## News articles : **<font color = blue>World, Business, Sports, Sci/Tech</font>**"
   ]
  },
  {
   "cell_type": "markdown",
   "metadata": {
    "heading_collapsed": true,
    "hidden": true
   },
   "source": [
    "### Data exploration"
   ]
  },
  {
   "cell_type": "code",
   "execution_count": 1,
   "metadata": {
    "ExecuteTime": {
     "end_time": "2020-03-10T08:26:16.958567Z",
     "start_time": "2020-03-10T08:26:07.660957Z"
    },
    "hidden": true
   },
   "outputs": [],
   "source": [
    "import pandas as pd"
   ]
  },
  {
   "cell_type": "code",
   "execution_count": 2,
   "metadata": {
    "ExecuteTime": {
     "end_time": "2020-03-10T08:26:17.223887Z",
     "start_time": "2020-03-10T08:26:16.961155Z"
    },
    "hidden": true
   },
   "outputs": [
    {
     "data": {
      "text/html": [
       "<div>\n",
       "<style scoped>\n",
       "    .dataframe tbody tr th:only-of-type {\n",
       "        vertical-align: middle;\n",
       "    }\n",
       "\n",
       "    .dataframe tbody tr th {\n",
       "        vertical-align: top;\n",
       "    }\n",
       "\n",
       "    .dataframe thead th {\n",
       "        text-align: right;\n",
       "    }\n",
       "</style>\n",
       "<table border=\"1\" class=\"dataframe\">\n",
       "  <thead>\n",
       "    <tr style=\"text-align: right;\">\n",
       "      <th></th>\n",
       "      <th>Category</th>\n",
       "      <th>Text</th>\n",
       "    </tr>\n",
       "  </thead>\n",
       "  <tbody>\n",
       "    <tr>\n",
       "      <th>0</th>\n",
       "      <td>Sports</td>\n",
       "      <td>AP - Washington Wizards point guard Steve Blak...</td>\n",
       "    </tr>\n",
       "    <tr>\n",
       "      <th>1</th>\n",
       "      <td>Sci/Tech</td>\n",
       "      <td>In a move designed to help it better compete i...</td>\n",
       "    </tr>\n",
       "    <tr>\n",
       "      <th>2</th>\n",
       "      <td>Business</td>\n",
       "      <td>US Airways #39; pilots voted to approve a new ...</td>\n",
       "    </tr>\n",
       "    <tr>\n",
       "      <th>3</th>\n",
       "      <td>Sci/Tech</td>\n",
       "      <td>A UK panel examining radiation risks says offi...</td>\n",
       "    </tr>\n",
       "    <tr>\n",
       "      <th>4</th>\n",
       "      <td>World</td>\n",
       "      <td>CARACAS -- Partisans on both sides are calling...</td>\n",
       "    </tr>\n",
       "  </tbody>\n",
       "</table>\n",
       "</div>"
      ],
      "text/plain": [
       "   Category                                               Text\n",
       "0    Sports  AP - Washington Wizards point guard Steve Blak...\n",
       "1  Sci/Tech  In a move designed to help it better compete i...\n",
       "2  Business  US Airways #39; pilots voted to approve a new ...\n",
       "3  Sci/Tech  A UK panel examining radiation risks says offi...\n",
       "4     World  CARACAS -- Partisans on both sides are calling..."
      ]
     },
     "execution_count": 2,
     "metadata": {},
     "output_type": "execute_result"
    }
   ],
   "source": [
    "# csv has transfered id into name and focus on the Text\n",
    "df = pd.read_csv('train3.csv', header=None)\n",
    "df.columns = ['Category', 'Text']\n",
    "df.head()"
   ]
  },
  {
   "cell_type": "code",
   "execution_count": 3,
   "metadata": {
    "ExecuteTime": {
     "end_time": "2020-03-10T08:26:17.243832Z",
     "start_time": "2020-03-10T08:26:17.227876Z"
    },
    "hidden": true
   },
   "outputs": [
    {
     "data": {
      "text/plain": [
       "0    0\n",
       "1    1\n",
       "2    2\n",
       "3    1\n",
       "4    3\n",
       "5    2\n",
       "6    3\n",
       "7    3\n",
       "8    0\n",
       "9    0\n",
       "Name: category_id, dtype: int64"
      ]
     },
     "execution_count": 3,
     "metadata": {},
     "output_type": "execute_result"
    }
   ],
   "source": [
    "# Create new column and new category_id for each category\n",
    "df['category_id'] = df['Category'].factorize()[0]\n",
    "\n",
    "# View first 10 entries of category_idk\n",
    "df['category_id'][0:10]"
   ]
  },
  {
   "cell_type": "markdown",
   "metadata": {
    "hidden": true
   },
   "source": [
    "`0 Sport\n",
    " 1 Sci/Tech\n",
    " 2 Business\n",
    " 3 World `"
   ]
  },
  {
   "cell_type": "code",
   "execution_count": 4,
   "metadata": {
    "ExecuteTime": {
     "end_time": "2020-03-10T08:26:17.270760Z",
     "start_time": "2020-03-10T08:26:17.246825Z"
    },
    "code_folding": [],
    "hidden": true
   },
   "outputs": [
    {
     "data": {
      "text/html": [
       "<div>\n",
       "<style scoped>\n",
       "    .dataframe tbody tr th:only-of-type {\n",
       "        vertical-align: middle;\n",
       "    }\n",
       "\n",
       "    .dataframe tbody tr th {\n",
       "        vertical-align: top;\n",
       "    }\n",
       "\n",
       "    .dataframe thead th {\n",
       "        text-align: right;\n",
       "    }\n",
       "</style>\n",
       "<table border=\"1\" class=\"dataframe\">\n",
       "  <thead>\n",
       "    <tr style=\"text-align: right;\">\n",
       "      <th></th>\n",
       "      <th>Category</th>\n",
       "      <th>category_id</th>\n",
       "    </tr>\n",
       "  </thead>\n",
       "  <tbody>\n",
       "    <tr>\n",
       "      <th>0</th>\n",
       "      <td>Sports</td>\n",
       "      <td>0</td>\n",
       "    </tr>\n",
       "    <tr>\n",
       "      <th>1</th>\n",
       "      <td>Sci/Tech</td>\n",
       "      <td>1</td>\n",
       "    </tr>\n",
       "    <tr>\n",
       "      <th>2</th>\n",
       "      <td>Business</td>\n",
       "      <td>2</td>\n",
       "    </tr>\n",
       "    <tr>\n",
       "      <th>4</th>\n",
       "      <td>World</td>\n",
       "      <td>3</td>\n",
       "    </tr>\n",
       "  </tbody>\n",
       "</table>\n",
       "</div>"
      ],
      "text/plain": [
       "   Category  category_id\n",
       "0    Sports            0\n",
       "1  Sci/Tech            1\n",
       "2  Business            2\n",
       "4     World            3"
      ]
     },
     "execution_count": 4,
     "metadata": {},
     "output_type": "execute_result"
    }
   ],
   "source": [
    "# Create a new pandas dataframe \"category_id_df\", use it to iterate over the categories\n",
    "category_id_df = df[['Category', 'category_id']\n",
    "                    ].drop_duplicates().sort_values('category_id')\n",
    "category_id_df"
   ]
  },
  {
   "cell_type": "code",
   "execution_count": 5,
   "metadata": {
    "ExecuteTime": {
     "end_time": "2020-03-10T08:26:17.284724Z",
     "start_time": "2020-03-10T08:26:17.272756Z"
    },
    "hidden": true
   },
   "outputs": [
    {
     "data": {
      "text/plain": [
       "{0: 'Sports', 1: 'Sci/Tech', 2: 'Business', 3: 'World'}"
      ]
     },
     "execution_count": 5,
     "metadata": {},
     "output_type": "execute_result"
    }
   ],
   "source": [
    "# Create a dictionary that can easily convert category names into category_ids\n",
    "category_to_id = dict(category_id_df.values)\n",
    "id_to_category = dict(category_id_df[['category_id', 'Category']].values)\n",
    "id_to_category"
   ]
  },
  {
   "cell_type": "code",
   "execution_count": 6,
   "metadata": {
    "ExecuteTime": {
     "end_time": "2020-03-10T08:26:17.308697Z",
     "start_time": "2020-03-10T08:26:17.286716Z"
    },
    "hidden": true,
    "scrolled": true
   },
   "outputs": [
    {
     "data": {
      "text/html": [
       "<div>\n",
       "<style scoped>\n",
       "    .dataframe tbody tr th:only-of-type {\n",
       "        vertical-align: middle;\n",
       "    }\n",
       "\n",
       "    .dataframe tbody tr th {\n",
       "        vertical-align: top;\n",
       "    }\n",
       "\n",
       "    .dataframe thead th {\n",
       "        text-align: right;\n",
       "    }\n",
       "</style>\n",
       "<table border=\"1\" class=\"dataframe\">\n",
       "  <thead>\n",
       "    <tr style=\"text-align: right;\">\n",
       "      <th></th>\n",
       "      <th>Category</th>\n",
       "      <th>Text</th>\n",
       "      <th>category_id</th>\n",
       "    </tr>\n",
       "  </thead>\n",
       "  <tbody>\n",
       "    <tr>\n",
       "      <th>12836</th>\n",
       "      <td>Business</td>\n",
       "      <td>NEW YORK (Reuters) - Consumer products compan...</td>\n",
       "      <td>2</td>\n",
       "    </tr>\n",
       "    <tr>\n",
       "      <th>10913</th>\n",
       "      <td>World</td>\n",
       "      <td>NEW DELHI/ISLAMABAD (Reuters) - India gave a ...</td>\n",
       "      <td>3</td>\n",
       "    </tr>\n",
       "    <tr>\n",
       "      <th>4214</th>\n",
       "      <td>World</td>\n",
       "      <td>More than 1,000 people have been killed or are...</td>\n",
       "      <td>3</td>\n",
       "    </tr>\n",
       "    <tr>\n",
       "      <th>8198</th>\n",
       "      <td>Sci/Tech</td>\n",
       "      <td>LONDON: This one is surely good news for Simps...</td>\n",
       "      <td>1</td>\n",
       "    </tr>\n",
       "    <tr>\n",
       "      <th>31403</th>\n",
       "      <td>Business</td>\n",
       "      <td>TELSTRA #39;S board, not the Federal Governmen...</td>\n",
       "      <td>2</td>\n",
       "    </tr>\n",
       "  </tbody>\n",
       "</table>\n",
       "</div>"
      ],
      "text/plain": [
       "       Category                                               Text  \\\n",
       "12836  Business   NEW YORK (Reuters) - Consumer products compan...   \n",
       "10913     World   NEW DELHI/ISLAMABAD (Reuters) - India gave a ...   \n",
       "4214      World  More than 1,000 people have been killed or are...   \n",
       "8198   Sci/Tech  LONDON: This one is surely good news for Simps...   \n",
       "31403  Business  TELSTRA #39;S board, not the Federal Governmen...   \n",
       "\n",
       "       category_id  \n",
       "12836            2  \n",
       "10913            3  \n",
       "4214             3  \n",
       "8198             1  \n",
       "31403            2  "
      ]
     },
     "execution_count": 6,
     "metadata": {},
     "output_type": "execute_result"
    }
   ],
   "source": [
    "# Take a look at new dataframe\n",
    "df.sample(5, random_state=0)"
   ]
  },
  {
   "cell_type": "code",
   "execution_count": 7,
   "metadata": {
    "ExecuteTime": {
     "end_time": "2020-03-10T08:26:17.324630Z",
     "start_time": "2020-03-10T08:26:17.310653Z"
    },
    "hidden": true
   },
   "outputs": [
    {
     "data": {
      "text/plain": [
       "Category\n",
       "Business    10000\n",
       "Sci/Tech    10000\n",
       "Sports      10000\n",
       "World       10000\n",
       "Name: category_id, dtype: int64"
      ]
     },
     "execution_count": 7,
     "metadata": {},
     "output_type": "execute_result"
    }
   ],
   "source": [
    "# Group and count each category\n",
    "df.groupby('Category').category_id.count()"
   ]
  },
  {
   "cell_type": "markdown",
   "metadata": {
    "heading_collapsed": true
   },
   "source": [
    "## 1) Apply the following feature extraction techniques"
   ]
  },
  {
   "cell_type": "markdown",
   "metadata": {
    "heading_collapsed": true,
    "hidden": true
   },
   "source": [
    "### <mark>a) Term Frequency-Inverse Document Frequency (TF-IDF)<mark>\n",
    "Using TfidfVectorizer to transfer news article into numerical features\n",
    "\n",
    "Setting few TfidfVectorizer parameters: \n",
    "    1. sublinear_df: use a logarithmic form \n",
    "    2. min_df: the minimum numbers of documents a word must be present in.\n",
    "       Setting it to 5 to avoid drastically increase the size of features \n",
    "       and overfitting.\n",
    "    3. norm is set to l2, \n",
    "    4. encoding is set to latin-1 \n",
    "    5. ngram_range: set to (1, 2) to consider both unigrams and bigrams,\n",
    "    6. stop_words: set to \"english\" \n",
    "    7. max_features: set to 100"
   ]
  },
  {
   "cell_type": "code",
   "execution_count": 8,
   "metadata": {
    "ExecuteTime": {
     "end_time": "2020-03-10T08:26:24.910837Z",
     "start_time": "2020-03-10T08:26:18.667351Z"
    },
    "hidden": true
   },
   "outputs": [],
   "source": [
    "from sklearn.feature_extraction.text import TfidfVectorizer\n",
    "from sklearn.feature_selection import chi2\n",
    "import numpy as np\n",
    "from sklearn.manifold import TSNE\n",
    "import matplotlib.pyplot as plt"
   ]
  },
  {
   "cell_type": "markdown",
   "metadata": {
    "hidden": true
   },
   "source": [
    "<mark> Call the fit() function in order to learn a vocabulary from tokens.<mark>\n",
    "\n",
    "<mark> Call the transform() function to encode each document as a vector.<mark>\n",
    "    \n",
    "<mark> Call the .toarray() function for better understanding.<mark>"
   ]
  },
  {
   "cell_type": "code",
   "execution_count": 9,
   "metadata": {
    "ExecuteTime": {
     "end_time": "2020-03-10T08:26:29.848004Z",
     "start_time": "2020-03-10T08:26:24.913479Z"
    },
    "hidden": true
   },
   "outputs": [],
   "source": [
    "# create the transform\n",
    "tfidf = TfidfVectorizer(sublinear_tf=True, min_df=5, norm='l2', encoding='latin-1',\n",
    "                        ngram_range=(1, 2), stop_words='english', max_features=100)\n",
    "# tokenize and encode document\n",
    "features = tfidf.fit_transform(df.Text).toarray()\n",
    "# There are 100 features\n",
    "features.shape\n",
    "# represents each article news\n",
    "labels = df.category_id"
   ]
  },
  {
   "cell_type": "markdown",
   "metadata": {
    "hidden": true
   },
   "source": [
    "<mark> use the chi-squared test to find the terms are the most correlated with each of the categories: <mark>"
   ]
  },
  {
   "cell_type": "code",
   "execution_count": 10,
   "metadata": {
    "ExecuteTime": {
     "end_time": "2020-03-10T08:26:32.118649Z",
     "start_time": "2020-03-10T08:26:30.594496Z"
    },
    "hidden": true
   },
   "outputs": [
    {
     "name": "stdout",
     "output_type": "stream",
     "text": [
      "# 'Business':\n",
      "  . Most correlated unigrams:\n",
      "       . stocks\n",
      "       . prices\n",
      "       . oil\n",
      "  . Most correlated bigrams:\n",
      "       . united states\n",
      "       . lt gt\n",
      "       . new york\n",
      "# 'Sci/Tech':\n",
      "  . Most correlated unigrams:\n",
      "       . internet\n",
      "       . software\n",
      "       . microsoft\n",
      "  . Most correlated bigrams:\n",
      "       . united states\n",
      "       . lt gt\n",
      "       . new york\n",
      "# 'Sports':\n",
      "  . Most correlated unigrams:\n",
      "       . game\n",
      "       . team\n",
      "       . season\n",
      "  . Most correlated bigrams:\n",
      "       . united states\n",
      "       . new york\n",
      "       . lt gt\n",
      "# 'World':\n",
      "  . Most correlated unigrams:\n",
      "       . killed\n",
      "       . minister\n",
      "       . iraq\n",
      "  . Most correlated bigrams:\n",
      "       . united states\n",
      "       . lt gt\n",
      "       . new york\n"
     ]
    }
   ],
   "source": [
    "# Use chi-square analysis to find corelation between features (importantce of words) and labels(news category)\n",
    "N = 3  # look for top 3 highly corelated to the category\n",
    "\n",
    "# For each category, find words that are highly corelated to it\n",
    "for Category, category_id in sorted(category_to_id.items()):\n",
    "    # Do chi2 analyses of all items in this category\n",
    "    features_chi2 = chi2(features, labels == category_id)\n",
    "    # Sorts the indices of features_chi2[0] - the chi-squared stats of each feature\n",
    "    indices = np.argsort(features_chi2[0])\n",
    "    # Converts indices to feature names ( in increasing order of chi-squared stat values)\n",
    "    feature_names = np.array(tfidf.get_feature_names())[indices]\n",
    "    # List of single word features ( in increasing order of chi-squared stat values)\n",
    "    unigrams = [v for v in feature_names if len(v.split(' ')) == 1]\n",
    "    # List for two-word features ( in increasing order of chi-squared stat values)\n",
    "    bigrams = [v for v in feature_names if len(v.split(' ')) == 2]\n",
    "    print(\"# '{}':\".format(Category))\n",
    "    print(\"  . Most correlated unigrams:\\n       . {}\".format('\\n       . '.join(\n",
    "        unigrams[-N:])))  # Print 3 unigrams with highest Chi squared stat\n",
    "    print(\"  . Most correlated bigrams:\\n       . {}\".format('\\n       . '.join(\n",
    "        bigrams[-N:])))  # Print 3 bigrams with highest Chi squared stat"
   ]
  },
  {
   "cell_type": "markdown",
   "metadata": {
    "hidden": true
   },
   "source": [
    "<mark>Visualization: use t-SNE to project high dimensional tf-idf features into a 2D plane <mark>\n",
    "\n",
    "    Keeps similar instances close and not similar instances apart"
   ]
  },
  {
   "cell_type": "code",
   "execution_count": 11,
   "metadata": {
    "ExecuteTime": {
     "end_time": "2020-03-10T08:26:53.011294Z",
     "start_time": "2020-03-10T08:26:32.213393Z"
    },
    "hidden": true
   },
   "outputs": [],
   "source": [
    "# Sampling a subset of dataset because t-SNE need to run for a long time\n",
    "SAMPLE_SIZE = int(len(features) * 0.05)\n",
    "np.random.seed(0)\n",
    "# Randomly select 5 % of samples\n",
    "indices = np.random.choice(\n",
    "    range(len(features)), size=SAMPLE_SIZE, replace=False)\n",
    "# Array of all projected features of 5% of Randomly chosen samples\n",
    "projected_features = TSNE(n_components=2, random_state=0).fit_transform(\n",
    "    features[indices])"
   ]
  },
  {
   "cell_type": "code",
   "execution_count": 12,
   "metadata": {
    "ExecuteTime": {
     "end_time": "2020-03-10T08:26:55.477932Z",
     "start_time": "2020-03-10T08:26:53.014287Z"
    },
    "hidden": true
   },
   "outputs": [
    {
     "data": {
      "text/plain": [
       "<matplotlib.legend.Legend at 0x25c26409448>"
      ]
     },
     "execution_count": 12,
     "metadata": {},
     "output_type": "execute_result"
    },
    {
     "data": {
      "image/png": "[encoded data removed]",
      "text/plain": [
       "<Figure size 432x288 with 1 Axes>"
      ]
     },
     "metadata": {
      "needs_background": "light"
     },
     "output_type": "display_data"
    }
   ],
   "source": [
    "# Setting colors for each topics\n",
    "colors = ['pink', 'green', 'midnightblue', 'orange']\n",
    "\n",
    "# Find points belonging to each category and plot them\n",
    "for category, category_id in sorted(category_to_id.items()):\n",
    "    points = projected_features[(labels[indices] == category_id).values]\n",
    "    plt.scatter(points[:, 0], points[:, 1], s=30,\n",
    "                c=colors[category_id], label=category)\n",
    "plt.title(\"tf-idf feature vector for each article, projected on 2 dimensions.\",\n",
    "          fontdict=dict(fontsize=15))\n",
    "plt.legend()"
   ]
  },
  {
   "cell_type": "markdown",
   "metadata": {
    "heading_collapsed": true,
    "hidden": true
   },
   "source": [
    "### <mark>b) Word2vec<mark>\n",
    "<mark>Setting parameters<mark>\n",
    "        \n",
    "    1. size: (100) The number of dimensions of the embedding, \n",
    "       e.g. the length of the dense vector to represent each token (word).\n",
    "    2. window: (30) The maximum distance between a target word and \n",
    "       words around the target word.\n",
    "    3. min count: (1) The minimum count of words to consider when \n",
    "       training the model; words with an occurrence less than this count  \n",
    "       will be ignored.\n",
    "    4. workers: (default 3) The number of threads to use while training.\n",
    "    5. sg: (default 0 or CBOW) The training algorithm, either CBOW (0) or \n",
    "       skip gram (1)."
   ]
  },
  {
   "cell_type": "code",
   "execution_count": 9,
   "metadata": {
    "ExecuteTime": {
     "end_time": "2020-03-11T10:10:14.319637Z",
     "start_time": "2020-03-11T10:10:14.311663Z"
    },
    "hidden": true
   },
   "outputs": [],
   "source": [
    "from nltk.corpus import stopwords\n",
    "import string\n",
    "import re\n",
    "import pandas as pd\n",
    "import numpy as np\n",
    "import re\n",
    "import nltk\n",
    "import matplotlib.pyplot as plt\n",
    "from gensim.models import word2vec\n",
    "import random\n",
    "from sklearn.manifold import TSNE\n",
    "pd.options.display.max_colwidth = 200\n",
    "%matplotlib inline"
   ]
  },
  {
   "cell_type": "markdown",
   "metadata": {
    "hidden": true
   },
   "source": [
    "<mark>Loading and cleaning data<mark>"
   ]
  },
  {
   "cell_type": "code",
   "execution_count": 10,
   "metadata": {
    "ExecuteTime": {
     "end_time": "2020-03-11T10:10:24.587501Z",
     "start_time": "2020-03-11T10:10:20.719824Z"
    },
    "hidden": true
   },
   "outputs": [
    {
     "data": {
      "text/plain": [
       "(40000,)"
      ]
     },
     "execution_count": 10,
     "metadata": {},
     "output_type": "execute_result"
    }
   ],
   "source": [
    "# Load data\n",
    "corpus_df = pd.read_csv('train3.csv', header=None)\n",
    "corpus_df.columns = ['Category', 'Document']\n",
    "corpus = corpus_df['Document'].values\n",
    "\n",
    "# Cleaning training data\n",
    "wpt = nltk.WordPunctTokenizer()\n",
    "stop_words = nltk.corpus.stopwords.words('english')\n",
    "\n",
    "\n",
    "def normalize_document(doc):\n",
    "    # lower case and remove special characters\\whitespaces\n",
    "    doc = re.sub(r'[^a-zA-Z\\s]', '', doc, re.I | re.A)\n",
    "    doc = doc.lower()\n",
    "    doc = doc.strip()\n",
    "    # tokenize document\n",
    "    tokens = wpt.tokenize(doc)\n",
    "    # filter stopwords out of document\n",
    "    filtered_tokens = [token for token in tokens if token not in stop_words]\n",
    "    # re-create document from filtered tokens\n",
    "    doc = ' '.join(filtered_tokens)\n",
    "    return doc\n",
    "\n",
    "\n",
    "normalize_corpus = np.vectorize(normalize_document)\n",
    "\n",
    "norm_corpus = normalize_corpus(corpus)\n",
    "norm_corpus.shape"
   ]
  },
  {
   "cell_type": "markdown",
   "metadata": {
    "hidden": true
   },
   "source": [
    "<mark>Build Word2Vec model<mark>"
   ]
  },
  {
   "cell_type": "code",
   "execution_count": 11,
   "metadata": {
    "ExecuteTime": {
     "end_time": "2020-03-11T10:14:51.047334Z",
     "start_time": "2020-03-11T10:13:30.591681Z"
    },
    "hidden": true
   },
   "outputs": [],
   "source": [
    "# Build model\n",
    "# tokenize sentences in corpus\n",
    "wpt = nltk.WordPunctTokenizer()\n",
    "tokenized_corpus = [wpt.tokenize(document) for document in norm_corpus]\n",
    "\n",
    "# Set values for various parameters\n",
    "feature_size = 100    # Word vector dimensionality\n",
    "window_context = 30          # Context window size\n",
    "min_word_count = 1   # Minimum word count\n",
    "sample = 1e-3   # Downsample setting for frequent words\n",
    "\n",
    "w2v_model = word2vec.Word2Vec(tokenized_corpus, size=feature_size,\n",
    "                              window=window_context, min_count=min_word_count,\n",
    "                              sample=sample, iter=50)"
   ]
  },
  {
   "cell_type": "markdown",
   "metadata": {
    "ExecuteTime": {
     "end_time": "2020-03-11T10:14:52.681370Z",
     "start_time": "2020-03-11T10:14:52.675384Z"
    },
    "hidden": true
   },
   "source": [
    "<mark>Explore Word2Vec model<mark>"
   ]
  },
  {
   "cell_type": "code",
   "execution_count": 19,
   "metadata": {
    "ExecuteTime": {
     "end_time": "2020-03-11T10:41:12.451529Z",
     "start_time": "2020-03-11T10:41:12.181215Z"
    },
    "hidden": true
   },
   "outputs": [
    {
     "name": "stdout",
     "output_type": "stream",
     "text": [
      "Vocabulary Size: 50182 - Embedding Dim: 100\n",
      "['ap', 'washington', 'wizards', 'point', 'guard', 'steve', 'blake', 'miss', 'first', 'month']\n",
      "[  3.3716004   -2.9603984   -3.640577    -3.2386382    0.4065305\n",
      "   1.067771    -0.53054786   2.11635     -5.978272    -0.6338882\n",
      "   5.1897883    0.57497823  -4.9498196    2.8827465    1.5240488\n",
      "   3.6161666    3.6119282    4.004375    -0.2223328   -1.0752296\n",
      "  -0.78175664  -1.1810039    0.04156739   2.146526    -5.0244846\n",
      "   0.5011676   -3.2687488    0.3786276    4.295191     1.6838958\n",
      "   4.165937    -4.1440396   -6.8276305   -0.50004095  -0.8251122\n",
      "   1.9076904    0.39307225   0.5192674   -0.3864958   -2.1152892\n",
      "   1.6740458  -11.040649     2.3372052    1.4754444    2.0602553\n",
      "   0.7038459    0.33479595   3.789001     2.9695334    0.6384416\n",
      "   1.8551805    6.3221846    1.4172565    0.12949617  -1.754605\n",
      "  -0.4233755    1.3177272    3.9077969   -1.1028183   -2.9941688\n",
      "   3.2620463   -2.5176756    0.96278834  -1.8086783    0.13493995\n",
      "  -5.2254353   -0.5972671    5.431391     2.6134467   -0.48072198\n",
      "   0.8476443   -3.1165693   -1.0212001   -1.6652974   -4.145467\n",
      "  -1.5866175   -2.8200953   -2.7455685    0.71517265  -4.2268214\n",
      "   0.9903733   -4.1283703   -1.5423509    0.82014817   4.3784018\n",
      "   1.6402118    3.8886216   -0.08661611  -0.62433463   2.1127183\n",
      "  -0.54827213  -0.6658465   -1.809998    -0.9141547    2.0226622\n",
      "   1.6845591    3.3827128    1.0183187   -5.4218163   -0.5181709 ]\n",
      "[('energy', 0.5714025497436523), ('fuel', 0.4981953203678131), ('petroleum', 0.4911891222000122), ('hikes', 0.4736659526824951), ('heatingoil', 0.47077348828315735), ('commodity', 0.4707026779651642), ('soaringoil', 0.46576347947120667), ('fivedays', 0.4636039137840271), ('evaporating', 0.4613800048828125), ('eon', 0.45447713136672974)]\n",
      "0.20923428\n"
     ]
    },
    {
     "name": "stderr",
     "output_type": "stream",
     "text": [
      "D:\\Anaconda\\envs\\tf5-nogpu\\lib\\site-packages\\ipykernel_launcher.py:11: DeprecationWarning: Call to deprecated `__getitem__` (Method will be removed in 4.0.0, use self.wv.__getitem__() instead).\n",
      "  # This is added back by InteractiveShellApp.init_path()\n"
     ]
    },
    {
     "name": "stdout",
     "output_type": "stream",
     "text": [
      "Maximum length: 88\n"
     ]
    }
   ],
   "source": [
    "# Model Vocabulary Size: 50182 - Embedding Dim: 100\n",
    "w2v_weights = w2v_model.wv.vectors\n",
    "vocab_size, embedding_size = w2v_weights.shape\n",
    "print(\"Vocabulary Size: {} - Embedding Dim: {}\".format(vocab_size, embedding_size))\n",
    "\n",
    "# Model vocabuary list\n",
    "words = list(w2v_model.wv.vocab)\n",
    "print(words[:10])\n",
    "\n",
    "# access vector for one word\n",
    "print(w2v_model['guard'])\n",
    "\n",
    "# Most related words\n",
    "print(w2v_model.wv.most_similar(positive=[\"oil\"]))\n",
    "\n",
    "# Correlation between 2 words\n",
    "print(w2v_model.wv.similarity(\"league\", \"baseball\"))\n",
    "\n",
    "# calculate the maximum sequence length\n",
    "max_length = max([len(s.split()) for s in norm_corpus])\n",
    "print(f'Maximum length: {max_length}')"
   ]
  },
  {
   "cell_type": "markdown",
   "metadata": {
    "hidden": true
   },
   "source": [
    "<mark>Visualizing word2vec word embeddings using t-SNE (print 50 words)<mark>"
   ]
  },
  {
   "cell_type": "code",
   "execution_count": 27,
   "metadata": {
    "ExecuteTime": {
     "end_time": "2020-03-11T10:45:19.286873Z",
     "start_time": "2020-03-11T10:45:19.281886Z"
    },
    "hidden": true
   },
   "outputs": [],
   "source": [
    "def word2token(word):\n",
    "    try:\n",
    "        return w2v_model.wv.vocab[word].index\n",
    "    except KeyError:\n",
    "        return 0\n",
    "\n",
    "\n",
    "def token2word(token):\n",
    "    return w2v_model.wv.index2word[token]"
   ]
  },
  {
   "cell_type": "code",
   "execution_count": 29,
   "metadata": {
    "ExecuteTime": {
     "end_time": "2020-03-11T10:46:19.594955Z",
     "start_time": "2020-03-11T10:46:17.348245Z"
    },
    "hidden": true
   },
   "outputs": [
    {
     "name": "stderr",
     "output_type": "stream",
     "text": [
      "D:\\Anaconda\\envs\\tf5-nogpu\\lib\\site-packages\\ipykernel_launcher.py:10: DeprecationWarning: Call to deprecated `__getitem__` (Method will be removed in 4.0.0, use self.wv.__getitem__() instead).\n",
      "  # Remove the CWD from sys.path while we load stuff.\n"
     ]
    },
    {
     "data": {
      "image/png": "[encoded data removed]",
      "text/plain": [
       "<Figure size 2304x2304 with 1 Axes>"
      ]
     },
     "metadata": {
      "needs_background": "light"
     },
     "output_type": "display_data"
    }
   ],
   "source": [
    "n_samples = 100\n",
    "# Sample random words from model dictionary\n",
    "random_i = random.sample(range(vocab_size), n_samples)\n",
    "random_w = [token2word(i) for i in random_i]\n",
    "\n",
    "# Generate Word2Vec embeddings of each word\n",
    "word_vecs = np.array([w2v_model[w] for w in random_w])\n",
    "\n",
    "# Apply t-SNE to Word2Vec embeddings, reducing to 2 dims\n",
    "tsne = TSNE()\n",
    "tsne_e = tsne.fit_transform(word_vecs)\n",
    "\n",
    "# Plot t-SNE result\n",
    "plt.figure(figsize=(32, 32))\n",
    "plt.scatter(tsne_e[:, 0], tsne_e[:, 1], marker='o', c=range(\n",
    "    len(random_w)), cmap=plt.get_cmap('Spectral'))\n",
    "\n",
    "for label, x, y, in zip(random_w, tsne_e[:, 0], tsne_e[:, 1]):\n",
    "    plt.annotate(label,\n",
    "                 xy=(x, y), xytext=(0, 15),\n",
    "                 textcoords='offset points', ha='right', va='bottom',\n",
    "                 bbox=dict(boxstyle='round, pad=0.2', fc='yellow', alpha=0.1))"
   ]
  },
  {
   "cell_type": "markdown",
   "metadata": {
    "heading_collapsed": true
   },
   "source": [
    "## 2) Use features extractions from step above to train a Machine Learning algorithm"
   ]
  },
  {
   "cell_type": "markdown",
   "metadata": {
    "ExecuteTime": {
     "end_time": "2020-03-10T08:30:01.675292Z",
     "start_time": "2020-03-10T08:30:01.668311Z"
    },
    "heading_collapsed": true,
    "hidden": true
   },
   "source": [
    "### Try 5 different classification models on TF-IFDF & Word2Vec features"
   ]
  },
  {
   "cell_type": "markdown",
   "metadata": {
    "hidden": true
   },
   "source": [
    "<mark>Logistic Regression<mark>\n",
    "    \n",
    "<mark>ForestClassifier<mark>\n",
    "    \n",
    "<mark>MultinomialNB (Naive Bayes)<mark>   \n",
    "    \n",
    "<mark>KNeighborsClassifier<mark>  \n",
    "    \n",
    "<mark>SVM<mark> \n",
    "    \n",
    "Choose the best classifier by runnung their accuracy"
   ]
  },
  {
   "cell_type": "code",
   "execution_count": 22,
   "metadata": {
    "ExecuteTime": {
     "end_time": "2020-03-10T08:31:54.354308Z",
     "start_time": "2020-03-10T08:31:54.102111Z"
    },
    "hidden": true
   },
   "outputs": [],
   "source": [
    "from sklearn.model_selection import cross_val_score\n",
    "from sklearn.linear_model import LogisticRegression\n",
    "from sklearn.ensemble import RandomForestClassifier\n",
    "from sklearn.naive_bayes import MultinomialNB\n",
    "from sklearn.neighbors import KNeighborsClassifier\n",
    "from sklearn.svm import SVC\n",
    "import seaborn as sns\n",
    "import warnings\n",
    "warnings.filterwarnings('ignore')"
   ]
  },
  {
   "cell_type": "markdown",
   "metadata": {
    "hidden": true
   },
   "source": [
    "<mark>Each model will be run 5 times with different test sets of 20%<mark> \n"
   ]
  },
  {
   "cell_type": "code",
   "execution_count": 21,
   "metadata": {
    "ExecuteTime": {
     "end_time": "2020-03-08T14:35:53.435869Z",
     "start_time": "2020-03-08T14:12:38.775986Z"
    },
    "hidden": true
   },
   "outputs": [],
   "source": [
    "# Set models\n",
    "models = [\n",
    "    RandomForestClassifier(n_estimators=200, max_depth=3, random_state=0),\n",
    "    MultinomialNB(),\n",
    "    LogisticRegression(random_state=0),\n",
    "    KNeighborsClassifier(n_neighbors=3),\n",
    "    SVC()\n",
    "]\n",
    "\n",
    "# Cross Validate with 5 different folds of 20% data ( 80-20 split with 5 folds )\n",
    "CV = 5\n",
    "cv_df = pd.DataFrame(index=range(CV * len(models)))\n",
    "entries = []  # Initially all entries are empty\n",
    "\n",
    "# For each Algorithm\n",
    "for model in models:\n",
    "    model_name = model.__class__.__name__\n",
    "    # create 5 models with different 20% test sets, and store their accuracies\n",
    "    accuracies = cross_val_score(\n",
    "        model, features, labels, scoring='accuracy', cv=CV)\n",
    "    # Append all 5 accuracies into the entries list\n",
    "    for fold_idx, accuracy in enumerate(accuracies):\n",
    "        entries.append((model_name, fold_idx, accuracy))"
   ]
  },
  {
   "cell_type": "markdown",
   "metadata": {
    "hidden": true
   },
   "source": [
    "<mark>Plot the results<mark> "
   ]
  },
  {
   "cell_type": "code",
   "execution_count": 22,
   "metadata": {
    "ExecuteTime": {
     "end_time": "2020-03-08T14:35:56.025946Z",
     "start_time": "2020-03-08T14:35:53.439850Z"
    },
    "hidden": true
   },
   "outputs": [
    {
     "data": {
      "text/plain": [
       "<matplotlib.axes._subplots.AxesSubplot at 0x2677c0c3ec8>"
      ]
     },
     "execution_count": 22,
     "metadata": {},
     "output_type": "execute_result"
    },
    {
     "data": {
      "image/png": "[encoded data removed]",
      "text/plain": [
       "<Figure size 864x576 with 1 Axes>"
      ]
     },
     "metadata": {
      "needs_background": "light"
     },
     "output_type": "display_data"
    }
   ],
   "source": [
    "# Store the entries into the results dataframe and name its columns\n",
    "cv_df = pd.DataFrame(entries, columns=['model_name', 'fold_idx', 'accuracy'])\n",
    "\n",
    "plt.figure(figsize=(12, 8))\n",
    "sns.boxplot(x='model_name', y='accuracy', data=cv_df)\n",
    "sns.stripplot(x='model_name', y='accuracy', data=cv_df,\n",
    "              size=6, jitter=True, edgecolor=\"gray\", linewidth=2)"
   ]
  },
  {
   "cell_type": "markdown",
   "metadata": {
    "hidden": true
   },
   "source": [
    "<mark>Mean accuracy of each algorithm<mark> "
   ]
  },
  {
   "cell_type": "code",
   "execution_count": 23,
   "metadata": {
    "ExecuteTime": {
     "end_time": "2020-03-08T14:35:56.039899Z",
     "start_time": "2020-03-08T14:35:56.029927Z"
    },
    "hidden": true
   },
   "outputs": [
    {
     "data": {
      "text/plain": [
       "model_name\n",
       "KNeighborsClassifier      0.600075\n",
       "LogisticRegression        0.670275\n",
       "MultinomialNB             0.653725\n",
       "RandomForestClassifier    0.558425\n",
       "SVC                       0.679300\n",
       "Name: accuracy, dtype: float64"
      ]
     },
     "execution_count": 23,
     "metadata": {},
     "output_type": "execute_result"
    }
   ],
   "source": [
    "# Mean accuracy of each algorithm\n",
    "cv_df.groupby('model_name').accuracy.mean()"
   ]
  },
  {
   "cell_type": "markdown",
   "metadata": {
    "hidden": true
   },
   "source": [
    "**<font color = red>Thus, choose SVM and Logistic Regression</font>**\n"
   ]
  },
  {
   "cell_type": "markdown",
   "metadata": {
    "heading_collapsed": true,
    "hidden": true
   },
   "source": [
    "### Fitting Model: SVM (TF-IDF features) (TF-IDF)"
   ]
  },
  {
   "cell_type": "code",
   "execution_count": null,
   "metadata": {
    "hidden": true
   },
   "outputs": [],
   "source": [
    "from sklearn.feature_extraction.text import TfidfVectorizer\n",
    "from sklearn.svm import SVC\n",
    "from sklearn.model_selection import train_test_split\n",
    "from sklearn.metrics import accuracy_score, confusion_matrix\n",
    "from IPython.display import display\n",
    "from sklearn.metrics import classification_report\n",
    "\n",
    "import seaborn as sns\n",
    "import warnings\n",
    "warnings.filterwarnings('ignore')"
   ]
  },
  {
   "cell_type": "code",
   "execution_count": 13,
   "metadata": {
    "ExecuteTime": {
     "end_time": "2020-03-08T21:25:48.522494Z",
     "start_time": "2020-03-08T21:25:43.086339Z"
    },
    "hidden": true
   },
   "outputs": [
    {
     "name": "stdout",
     "output_type": "stream",
     "text": [
      "   Category  category_id\n",
      "0    Sports            0\n",
      "1  Sci/Tech            1\n",
      "2  Business            2\n",
      "3     World            3\n",
      "{0: 'Sports', 1: 'Sci/Tech', 2: 'Business', 3: 'World'}\n"
     ]
    }
   ],
   "source": [
    "# (Training data from train.csv, Testing data from test.csv)\n",
    "# csv has transfered id into name and first focus on the Text\n",
    "#import test.csv\n",
    "df2 = pd.read_csv('test3.csv', header=None)\n",
    "df2.columns = ['Category', 'Text']\n",
    "df2.head()\n",
    "df2['category_id'] = df2['Category'].factorize()[0]\n",
    "\n",
    "# Create a new pandas dataframe \"category_id_df\", use it to iterate over the categories\n",
    "category_id_df2 = df2[['Category', 'category_id']\n",
    "                      ].drop_duplicates().sort_values('category_id')\n",
    "print(category_id_df2)\n",
    "\n",
    "# Create a dictionary that can easily convert category names into category_ids\n",
    "category_to_id2 = dict(category_id_df2.values)\n",
    "id_to_category2 = dict(category_id_df2[['category_id', 'Category']].values)\n",
    "print(id_to_category2)\n",
    "\n",
    "# tokenize and encode document\n",
    "features2 = tfidf.fit_transform(df2.Text).toarray()\n",
    "# There are 100 features\n",
    "features2.shape\n",
    "# represents each article news\n",
    "labels2 = df2.category_id\n",
    "\n",
    "# tokenize and encode document\n",
    "features = tfidf.fit_transform(df.Text).toarray()\n",
    "features2 = tfidf.fit_transform(df2.Text).toarray()\n",
    "\n",
    "# represents each article news\n",
    "labels = df.category_id\n",
    "labels2 = df2.category_id"
   ]
  },
  {
   "cell_type": "code",
   "execution_count": 14,
   "metadata": {
    "ExecuteTime": {
     "end_time": "2020-03-08T21:26:05.731333Z",
     "start_time": "2020-03-08T21:26:05.724355Z"
    },
    "hidden": true
   },
   "outputs": [
    {
     "name": "stdout",
     "output_type": "stream",
     "text": [
      "(40000, 100)\n",
      "(40000,)\n",
      "(4000, 100)\n",
      "(4000,)\n"
     ]
    }
   ],
   "source": [
    "# Set training & testing data\n",
    "X_train = features\n",
    "y_train = labels\n",
    "X_test = features2\n",
    "y_test = labels2\n",
    "print(X_train.shape)\n",
    "print(y_train.shape)\n",
    "print(X_test.shape)\n",
    "print(y_test.shape)"
   ]
  },
  {
   "cell_type": "markdown",
   "metadata": {
    "hidden": true
   },
   "source": [
    "<mark>Train & Make predictions by SVM<mark> "
   ]
  },
  {
   "cell_type": "code",
   "execution_count": 19,
   "metadata": {
    "ExecuteTime": {
     "end_time": "2020-03-08T22:53:18.790080Z",
     "start_time": "2020-03-08T22:47:51.865823Z"
    },
    "hidden": true
   },
   "outputs": [],
   "source": [
    "# Set model\n",
    "model = SVC()\n",
    "\n",
    "# Train Algorithm\n",
    "model.fit(X_train, y_train)\n",
    "\n",
    "# Make Predictions\n",
    "y_pred = model.predict(X_test)"
   ]
  },
  {
   "cell_type": "markdown",
   "metadata": {
    "hidden": true
   },
   "source": [
    "<mark>Print SVM confusion matrix in test data <mark> "
   ]
  },
  {
   "cell_type": "code",
   "execution_count": 20,
   "metadata": {
    "ExecuteTime": {
     "end_time": "2020-03-08T22:53:19.253781Z",
     "start_time": "2020-03-08T22:53:18.793015Z"
    },
    "hidden": true
   },
   "outputs": [
    {
     "data": {
      "text/plain": [
       "Text(0.5, 15.0, 'Predicted')"
      ]
     },
     "execution_count": 20,
     "metadata": {},
     "output_type": "execute_result"
    },
    {
     "data": {
      "image/png": "[encoded data removed]",
      "text/plain": [
       "<Figure size 432x288 with 2 Axes>"
      ]
     },
     "metadata": {
      "needs_background": "light"
     },
     "output_type": "display_data"
    }
   ],
   "source": [
    "conf_mat = confusion_matrix(y_test, y_pred)\n",
    "sns.heatmap(conf_mat, annot=True, fmt='d',\n",
    "            xticklabels=category_id_df.Category.values, yticklabels=category_id_df.Category.values)\n",
    "plt.ylabel('Actual')\n",
    "plt.xlabel('Predicted')"
   ]
  },
  {
   "cell_type": "markdown",
   "metadata": {
    "hidden": true
   },
   "source": [
    "<mark>Print some miscategorised articles<mark>"
   ]
  },
  {
   "cell_type": "code",
   "execution_count": 21,
   "metadata": {
    "ExecuteTime": {
     "end_time": "2020-03-08T22:53:19.361494Z",
     "start_time": "2020-03-08T22:53:19.256776Z"
    },
    "hidden": true
   },
   "outputs": [
    {
     "name": "stdout",
     "output_type": "stream",
     "text": [
      "'Sci/Tech' predicted as 'Sports' : 133 examples.\n"
     ]
    },
    {
     "data": {
      "text/plain": [
       "113     AP - President Vladimir Putin says he will fig...\n",
       "152     The US military was investigating Thursday a N...\n",
       "160     It is reported that another  quot;Champion Sup...\n",
       "164     Computer Associates International Inc. (CA) pl...\n",
       "195     NEW YORK - Nervous investors sent stocks mostl...\n",
       "                              ...                        \n",
       "3851    Newest HDTV is the largest such device designe...\n",
       "3879    The Chase for the Nextel Cup will begin in ear...\n",
       "3891    EILAT, Israel Thousands of Israelis trudged th...\n",
       "3902    In an official message broadcast on national T...\n",
       "3932    Jennifer Capriati believes she has what it tak...\n",
       "Name: Text, Length: 133, dtype: object"
      ]
     },
     "metadata": {},
     "output_type": "display_data"
    },
    {
     "name": "stdout",
     "output_type": "stream",
     "text": [
      "\n",
      "'Business' predicted as 'Sports' : 134 examples.\n"
     ]
    },
    {
     "data": {
      "text/plain": [
       "11      With insurance claim projections from Hurrican...\n",
       "40      MONTERREY, Mexico - Governments throughout Mex...\n",
       "93       Manassas took a major step this week toward e...\n",
       "103     Sears, Roebuck and Co., which has successfully...\n",
       "136     RMC Group was founded by Danish engineer Kjeld...\n",
       "                              ...                        \n",
       "3923    California will become hotter and drier by the...\n",
       "3931    America Online reversed course and said it wou...\n",
       "3953    Reuters - Javier Valentin smacked a three-run\\...\n",
       "3965    ACE Ltd. yesterday became the latest insurance...\n",
       "3980    AP - Reformist opposition candidate Traian Bas...\n",
       "Name: Text, Length: 134, dtype: object"
      ]
     },
     "metadata": {},
     "output_type": "display_data"
    },
    {
     "name": "stdout",
     "output_type": "stream",
     "text": [
      "\n",
      "'World' predicted as 'Sports' : 238 examples.\n"
     ]
    },
    {
     "data": {
      "text/plain": [
       "14      Reuters - Drugstore chain Rite Aid Corp. \\on T...\n",
       "24      Companies are accused of infecting PCs, and th...\n",
       "57      The government of Prime Minister Ariel Sharon ...\n",
       "68      Agrees to \\$210M Justice Dept. deal and propos...\n",
       "69      One of the men most wanted for war crimes comm...\n",
       "                              ...                        \n",
       "3906    AP - Yoshikazu Ogawa stood outside the pile of...\n",
       "3933    Lycos Europe has axed the distribution of a co...\n",
       "3940    CAIRO, Nov 15 (AFP) - The Arab world is abuzz ...\n",
       "3956    The scientist who created Dolly the Sheep at E...\n",
       "3985    Home builder Lennar Corp. (LEN.N: Quote, Profi...\n",
       "Name: Text, Length: 238, dtype: object"
      ]
     },
     "metadata": {},
     "output_type": "display_data"
    },
    {
     "name": "stdout",
     "output_type": "stream",
     "text": [
      "\n",
      "'Sports' predicted as 'Sci/Tech' : 181 examples.\n"
     ]
    },
    {
     "data": {
      "text/plain": [
       "29      The Easyjet founder teams up with UK download ...\n",
       "53      Rap artist ODB collapses and dies, aged 35, wh...\n",
       "84      Race car driver Tommy Baldwin was killed in a ...\n",
       "99      PUBS group JD Wetherspoon today said a sales s...\n",
       "110     A record \\$12.5 million grant to be announced ...\n",
       "                              ...                        \n",
       "3926    Safe boxes from a bank branch were taken away ...\n",
       "3927    More than a month after sustaining burns in a ...\n",
       "3937    VSNL, Indias largest telecommunications servic...\n",
       "3971    BEAVER CREEK - Most individuals wouldn #39;t b...\n",
       "3974    AP - Cambodia began three days of celebrations...\n",
       "Name: Text, Length: 181, dtype: object"
      ]
     },
     "metadata": {},
     "output_type": "display_data"
    },
    {
     "name": "stdout",
     "output_type": "stream",
     "text": [
      "\n",
      "'Business' predicted as 'Sci/Tech' : 246 examples.\n"
     ]
    },
    {
     "data": {
      "text/plain": [
       "17       SEOUL (Reuters) - South Korean President Roh ...\n",
       "20      AP - A suicide bombing at a Shiite mosque Sund...\n",
       "35      Prime Minister Manmohan Singh will arrive in S...\n",
       "36      A battle group of British troops began to roll...\n",
       "58      Cisco Systems Inc. on Tuesday reported signifi...\n",
       "                              ...                        \n",
       "3966    AP - Former President Clinton may be out on th...\n",
       "3987    A Connecticut computer hacker was arrested yes...\n",
       "3989    New Delhi, Sep 7 (UNI) What was External Affai...\n",
       "3990    France #39;s biggest carmaker, PSA Peugeot-Cit...\n",
       "3993    Jailed Palestinian uprising leader Marwan Barg...\n",
       "Name: Text, Length: 246, dtype: object"
      ]
     },
     "metadata": {},
     "output_type": "display_data"
    },
    {
     "name": "stdout",
     "output_type": "stream",
     "text": [
      "\n",
      "'World' predicted as 'Sci/Tech' : 235 examples.\n"
     ]
    },
    {
     "data": {
      "text/plain": [
       "5       SYDNEY : Australian airline Virgin Blue announ...\n",
       "13      In his most forceful move yet to bring an end ...\n",
       "31      BERLIN : Four US soldiers accused of abusing p...\n",
       "41      Bloated corpses and weeping relatives have fil...\n",
       "60      IBM (IBM) said Tuesday that it would sell its ...\n",
       "                              ...                        \n",
       "3942    Auto parts maker Tower Automotive Inc. (TWR.N:...\n",
       "3948    AP - With Justin Zwick hindered by a slightly ...\n",
       "3964    SYDNEY (Dow Jones)--Australian energy company ...\n",
       "3970    Antivirus vendor may pay \\$13 billion for the ...\n",
       "3999    A Russian physicist convicted of spying for Ch...\n",
       "Name: Text, Length: 235, dtype: object"
      ]
     },
     "metadata": {},
     "output_type": "display_data"
    },
    {
     "name": "stdout",
     "output_type": "stream",
     "text": [
      "\n",
      "'Sports' predicted as 'Business' : 304 examples.\n"
     ]
    },
    {
     "data": {
      "text/plain": [
       "0       AP - Washington Wizards point guard Steve Blak...\n",
       "9       It was two years ago when Ernie Els explained ...\n",
       "22      AP - International Business Machines Corp. sai...\n",
       "33      The British Ministry of Defense confirmed on S...\n",
       "52      Internet major Yahoo Inc will have a 25-member...\n",
       "                              ...                        \n",
       "3914     BEIT LAHIYA, Gaza Strip (Reuters) - Israeli t...\n",
       "3951    Google might close the bidding in its auction-...\n",
       "3957    Time Warner finally pulled the plug on CNNfn. ...\n",
       "3958    Blaming the complexity of the task, Nortel Net...\n",
       "3968    MANILA (Dow Jones)--President Gloria Macapagal...\n",
       "Name: Text, Length: 304, dtype: object"
      ]
     },
     "metadata": {},
     "output_type": "display_data"
    },
    {
     "name": "stdout",
     "output_type": "stream",
     "text": [
      "\n",
      "'Sci/Tech' predicted as 'Business' : 223 examples.\n"
     ]
    },
    {
     "data": {
      "text/plain": [
       "25       MIAMI (Reuters) - The eastern Caribbean islan...\n",
       "37      The Supreme Court has stayed the election and ...\n",
       "46      LINCOLN, Neb. -- University of Nebraska-Lincol...\n",
       "54      Jenson Button has remained silent about his de...\n",
       "56      Reuters - India's dwindling aboriginal\\populat...\n",
       "                              ...                        \n",
       "3963    Jordan have confirmed that Timo Glock will rep...\n",
       "3982    NAGPUR: After all the cameras had stopped roll...\n",
       "3983    : A misdemeanor court convicted a defrocked Ir...\n",
       "3988    NEW YORK, December 3 (newratings.com) - The Bo...\n",
       "3994     ROME (Reuters) - Simona Torretta and Simona P...\n",
       "Name: Text, Length: 223, dtype: object"
      ]
     },
     "metadata": {},
     "output_type": "display_data"
    },
    {
     "name": "stdout",
     "output_type": "stream",
     "text": [
      "\n",
      "'World' predicted as 'Business' : 267 examples.\n"
     ]
    },
    {
     "data": {
      "text/plain": [
       "3       A UK panel examining radiation risks says offi...\n",
       "10      Shares of Sirius Satellite Radio Inc. (SIRI.O:...\n",
       "26      SEOUL -- North Korea suggested yesterday that ...\n",
       "39      US gymnast Paul Hamm can keep the gold medal h...\n",
       "50      As part of its reincarnation, America Online I...\n",
       "                              ...                        \n",
       "3938    Linux and identity management will be Novell #...\n",
       "3947    ATHENS -- In one of the greatest 100-meter rac...\n",
       "3976    Whistling Straits has received magnificent rev...\n",
       "3978    Warring parties in Sudan  #39;s Darfur region ...\n",
       "3991    Public and private comments from Kobe Bryant h...\n",
       "Name: Text, Length: 267, dtype: object"
      ]
     },
     "metadata": {},
     "output_type": "display_data"
    },
    {
     "name": "stdout",
     "output_type": "stream",
     "text": [
      "\n",
      "'Sports' predicted as 'World' : 159 examples.\n"
     ]
    },
    {
     "data": {
      "text/plain": [
       "21      New York  Reuters News Service, 30 September 2...\n",
       "38      Quarterback Jason White, last year's Heisman w...\n",
       "44      LONDON, UK : Sep 26 (PNS) - An unbeaten ninth ...\n",
       "92      Scientists have said for decades that nicotine...\n",
       "108     A World Health Organization official has warne...\n",
       "                              ...                        \n",
       "3830    SAN JOSE, Calif.--San Jose has a reputation as...\n",
       "3839    AP - Bears cornerback Todd McMillon just laugh...\n",
       "3955    A fourth man was detained Saturday in connecti...\n",
       "3960    The Anglo-Dutch oil giant Shell today sought t...\n",
       "3995    World number one Roger Federer of Switzerland ...\n",
       "Name: Text, Length: 159, dtype: object"
      ]
     },
     "metadata": {},
     "output_type": "display_data"
    },
    {
     "name": "stdout",
     "output_type": "stream",
     "text": [
      "\n",
      "'Sci/Tech' predicted as 'World' : 241 examples.\n"
     ]
    },
    {
     "data": {
      "text/plain": [
       "30      AP - Consumer prices calmed down in November, ...\n",
       "32      AP - Former New York mayor Rudolph Giuliani, a...\n",
       "34      The Connecticut Sun had an off game last Satur...\n",
       "61      PHILIPPINES: The tides of mud carved a random ...\n",
       "89      The scandal-hit former head of the Organisatio...\n",
       "                              ...                        \n",
       "3889    A website is launched with the aim of educatin...\n",
       "3890    SPACE.com - Astronomers have found what they b...\n",
       "3925    MacCentral - The Bluetooth Special Interest Gr...\n",
       "3981    SPACE.com - This is the third article in a ser...\n",
       "3998    AP - Most mail to Canada must bear the complet...\n",
       "Name: Text, Length: 241, dtype: object"
      ]
     },
     "metadata": {},
     "output_type": "display_data"
    },
    {
     "name": "stdout",
     "output_type": "stream",
     "text": [
      "\n",
      "'Business' predicted as 'World' : 206 examples.\n"
     ]
    },
    {
     "data": {
      "text/plain": [
       "7       Honduras and other Central American countries ...\n",
       "15      The dollar, whose weakness has been fueled by ...\n",
       "43      Prime Minister Junichiro Koizumi shifted his e...\n",
       "47       TOKYO (Reuters) - The yen recouped some of it...\n",
       "106     AP - When Office Depot, Inc. stores ran an ele...\n",
       "                              ...                        \n",
       "3949    United goals-scored co-leader Alecko Eskandari...\n",
       "3961    Kilkenny - World number two Ernie Els and Denm...\n",
       "3969     NEW YORK (Reuters) - Treasuries eased into an...\n",
       "3972    BERLIN -- A group of American civil rights att...\n",
       "3984    Purses overflowing with cash, exotic locales, ...\n",
       "Name: Text, Length: 206, dtype: object"
      ]
     },
     "metadata": {},
     "output_type": "display_data"
    },
    {
     "name": "stdout",
     "output_type": "stream",
     "text": [
      "\n"
     ]
    }
   ],
   "source": [
    "indices_train = df.index\n",
    "indices_test = df2.index\n",
    "for predicted in category_id_df.category_id:\n",
    "    for actual in category_id_df.category_id:\n",
    "        if predicted != actual and conf_mat[actual, predicted] >= 2:\n",
    "            print(\"'{}' predicted as '{}' : {} examples.\".format(\n",
    "                id_to_category[actual], id_to_category[predicted], conf_mat[actual, predicted]))\n",
    "            display(df.loc[indices_test[(y_test == actual)\n",
    "                                        & (y_pred == predicted)]]['Text'])\n",
    "            print('')"
   ]
  },
  {
   "cell_type": "markdown",
   "metadata": {
    "hidden": true
   },
   "source": [
    "<mark>Print some accuracy and other criterias<mark>"
   ]
  },
  {
   "cell_type": "code",
   "execution_count": 22,
   "metadata": {
    "ExecuteTime": {
     "end_time": "2020-03-08T22:53:19.386437Z",
     "start_time": "2020-03-08T22:53:19.364486Z"
    },
    "hidden": true
   },
   "outputs": [
    {
     "name": "stdout",
     "output_type": "stream",
     "text": [
      "accuracy 0.35825\n",
      "              precision    recall  f1-score   support\n",
      "\n",
      "      Sports       0.41      0.36      0.38      1000\n",
      "    Sci/Tech       0.38      0.40      0.39      1000\n",
      "    Business       0.34      0.41      0.37      1000\n",
      "       World       0.30      0.26      0.28      1000\n",
      "\n",
      "    accuracy                           0.36      4000\n",
      "   macro avg       0.36      0.36      0.36      4000\n",
      "weighted avg       0.36      0.36      0.36      4000\n",
      "\n"
     ]
    }
   ],
   "source": [
    "print('accuracy %s' % accuracy_score(y_pred, y_test))\n",
    "print(classification_report(y_test, y_pred,\n",
    "                            target_names=category_id_df['Category'].values))"
   ]
  },
  {
   "cell_type": "markdown",
   "metadata": {
    "heading_collapsed": true,
    "hidden": true
   },
   "source": [
    "### Fitting Model: Logistic regression (TF-IDF features)"
   ]
  },
  {
   "cell_type": "markdown",
   "metadata": {
    "hidden": true
   },
   "source": [
    "<mark>Train & Make predictions by Logistic regression<mark> "
   ]
  },
  {
   "cell_type": "code",
   "execution_count": null,
   "metadata": {
    "hidden": true
   },
   "outputs": [],
   "source": [
    "from sklearn.linear_model import LogisticRegression\n",
    "from sklearn.model_selection import train_test_split\n",
    "from sklearn.metrics import classification_report\n",
    "from sklearn.metrics import accuracy_score, confusion_matrix\n",
    "from IPython.display import display\n",
    "import seaborn as sns\n",
    "import warnings\n",
    "warnings.filterwarnings('ignore')"
   ]
  },
  {
   "cell_type": "code",
   "execution_count": 15,
   "metadata": {
    "ExecuteTime": {
     "end_time": "2020-03-08T21:26:25.278402Z",
     "start_time": "2020-03-08T21:26:22.499866Z"
    },
    "hidden": true
   },
   "outputs": [],
   "source": [
    "model = LogisticRegression(random_state=0)\n",
    "\n",
    "# Train Algorithm\n",
    "model.fit(X_train, y_train)\n",
    "\n",
    "# Make Predictions\n",
    "y_pred = model.predict(X_test)"
   ]
  },
  {
   "cell_type": "markdown",
   "metadata": {
    "hidden": true
   },
   "source": [
    "<mark>Print  Logistic regression confusion matrix in test data <mark> "
   ]
  },
  {
   "cell_type": "code",
   "execution_count": 16,
   "metadata": {
    "ExecuteTime": {
     "end_time": "2020-03-08T21:26:29.446607Z",
     "start_time": "2020-03-08T21:26:29.074385Z"
    },
    "hidden": true
   },
   "outputs": [
    {
     "data": {
      "text/plain": [
       "Text(0.5, 15.0, 'Predicted')"
      ]
     },
     "execution_count": 16,
     "metadata": {},
     "output_type": "execute_result"
    },
    {
     "data": {
      "image/png": "[encoded data removed]",
      "text/plain": [
       "<Figure size 432x288 with 2 Axes>"
      ]
     },
     "metadata": {
      "needs_background": "light"
     },
     "output_type": "display_data"
    }
   ],
   "source": [
    "conf_mat = confusion_matrix(y_test, y_pred)\n",
    "sns.heatmap(conf_mat, annot=True, fmt='d',\n",
    "            xticklabels=category_id_df.Category.values, yticklabels=category_id_df.Category.values)\n",
    "plt.ylabel('Actual')\n",
    "plt.xlabel('Predicted')"
   ]
  },
  {
   "cell_type": "markdown",
   "metadata": {
    "hidden": true
   },
   "source": [
    "<mark>Print some miscategorised articles<mark>"
   ]
  },
  {
   "cell_type": "code",
   "execution_count": 17,
   "metadata": {
    "ExecuteTime": {
     "end_time": "2020-03-08T21:26:32.606424Z",
     "start_time": "2020-03-08T21:26:32.506728Z"
    },
    "hidden": true
   },
   "outputs": [
    {
     "name": "stdout",
     "output_type": "stream",
     "text": [
      "'Sci/Tech' predicted as 'Sports' : 119 examples.\n"
     ]
    },
    {
     "data": {
      "text/plain": [
       "113     AP - President Vladimir Putin says he will fig...\n",
       "152     The US military was investigating Thursday a N...\n",
       "160     It is reported that another  quot;Champion Sup...\n",
       "164     Computer Associates International Inc. (CA) pl...\n",
       "195     NEW YORK - Nervous investors sent stocks mostl...\n",
       "                              ...                        \n",
       "3774    It was a wild ride and NC State held on for as...\n",
       "3846     TOKYO (Reuters) - A Japanese court granted an...\n",
       "3851    Newest HDTV is the largest such device designe...\n",
       "3891    EILAT, Israel Thousands of Israelis trudged th...\n",
       "3932    Jennifer Capriati believes she has what it tak...\n",
       "Name: Text, Length: 119, dtype: object"
      ]
     },
     "metadata": {},
     "output_type": "display_data"
    },
    {
     "name": "stdout",
     "output_type": "stream",
     "text": [
      "\n",
      "'Business' predicted as 'Sports' : 114 examples.\n"
     ]
    },
    {
     "data": {
      "text/plain": [
       "11      With insurance claim projections from Hurrican...\n",
       "40      MONTERREY, Mexico - Governments throughout Mex...\n",
       "80      SPAIN #39;S Prime Minister has accused the gov...\n",
       "93       Manassas took a major step this week toward e...\n",
       "103     Sears, Roebuck and Co., which has successfully...\n",
       "                              ...                        \n",
       "3923    California will become hotter and drier by the...\n",
       "3931    America Online reversed course and said it wou...\n",
       "3953    Reuters - Javier Valentin smacked a three-run\\...\n",
       "3965    ACE Ltd. yesterday became the latest insurance...\n",
       "3980    AP - Reformist opposition candidate Traian Bas...\n",
       "Name: Text, Length: 114, dtype: object"
      ]
     },
     "metadata": {},
     "output_type": "display_data"
    },
    {
     "name": "stdout",
     "output_type": "stream",
     "text": [
      "\n",
      "'World' predicted as 'Sports' : 207 examples.\n"
     ]
    },
    {
     "data": {
      "text/plain": [
       "57      The government of Prime Minister Ariel Sharon ...\n",
       "68      Agrees to \\$210M Justice Dept. deal and propos...\n",
       "71      AP - Intuit Inc. posted a narrower net loss fo...\n",
       "73      Questions about the effectiveness and long-ter...\n",
       "114     Automakers, SUV owners, and the federal govern...\n",
       "                              ...                        \n",
       "3910    AP - Jhonny Peralta's two-run double keyed Cle...\n",
       "3929    Sony has confirmed that its PSP handheld conso...\n",
       "3933    Lycos Europe has axed the distribution of a co...\n",
       "3940    CAIRO, Nov 15 (AFP) - The Arab world is abuzz ...\n",
       "3985    Home builder Lennar Corp. (LEN.N: Quote, Profi...\n",
       "Name: Text, Length: 207, dtype: object"
      ]
     },
     "metadata": {},
     "output_type": "display_data"
    },
    {
     "name": "stdout",
     "output_type": "stream",
     "text": [
      "\n",
      "'Sports' predicted as 'Sci/Tech' : 216 examples.\n"
     ]
    },
    {
     "data": {
      "text/plain": [
       "29      The Easyjet founder teams up with UK download ...\n",
       "53      Rap artist ODB collapses and dies, aged 35, wh...\n",
       "87      Hubie Brown, the oldest coach in the NBA at th...\n",
       "99      PUBS group JD Wetherspoon today said a sales s...\n",
       "102     American tycoon Malcolm Glazer is reportedly p...\n",
       "                              ...                        \n",
       "3927    More than a month after sustaining burns in a ...\n",
       "3937    VSNL, Indias largest telecommunications servic...\n",
       "3958    Blaming the complexity of the task, Nortel Net...\n",
       "3971    BEAVER CREEK - Most individuals wouldn #39;t b...\n",
       "3974    AP - Cambodia began three days of celebrations...\n",
       "Name: Text, Length: 216, dtype: object"
      ]
     },
     "metadata": {},
     "output_type": "display_data"
    },
    {
     "name": "stdout",
     "output_type": "stream",
     "text": [
      "\n",
      "'Business' predicted as 'Sci/Tech' : 232 examples.\n"
     ]
    },
    {
     "data": {
      "text/plain": [
       "17       SEOUL (Reuters) - South Korean President Roh ...\n",
       "20      AP - A suicide bombing at a Shiite mosque Sund...\n",
       "35      Prime Minister Manmohan Singh will arrive in S...\n",
       "36      A battle group of British troops began to roll...\n",
       "58      Cisco Systems Inc. on Tuesday reported signifi...\n",
       "                              ...                        \n",
       "3945    AP - Frank Thomas is returning to the Chicago ...\n",
       "3966    AP - Former President Clinton may be out on th...\n",
       "3987    A Connecticut computer hacker was arrested yes...\n",
       "3989    New Delhi, Sep 7 (UNI) What was External Affai...\n",
       "3993    Jailed Palestinian uprising leader Marwan Barg...\n",
       "Name: Text, Length: 232, dtype: object"
      ]
     },
     "metadata": {},
     "output_type": "display_data"
    },
    {
     "name": "stdout",
     "output_type": "stream",
     "text": [
      "\n",
      "'World' predicted as 'Sci/Tech' : 240 examples.\n"
     ]
    },
    {
     "data": {
      "text/plain": [
       "13      In his most forceful move yet to bring an end ...\n",
       "31      BERLIN : Four US soldiers accused of abusing p...\n",
       "41      Bloated corpses and weeping relatives have fil...\n",
       "69      One of the men most wanted for war crimes comm...\n",
       "78      London - Prince Harry will not make a public a...\n",
       "                              ...                        \n",
       "3941    United Airlines, the bankrupt carrier, yesterd...\n",
       "3942    Auto parts maker Tower Automotive Inc. (TWR.N:...\n",
       "3948    AP - With Justin Zwick hindered by a slightly ...\n",
       "3964    SYDNEY (Dow Jones)--Australian energy company ...\n",
       "3970    Antivirus vendor may pay \\$13 billion for the ...\n",
       "Name: Text, Length: 240, dtype: object"
      ]
     },
     "metadata": {},
     "output_type": "display_data"
    },
    {
     "name": "stdout",
     "output_type": "stream",
     "text": [
      "\n",
      "'Sports' predicted as 'Business' : 317 examples.\n"
     ]
    },
    {
     "data": {
      "text/plain": [
       "0       AP - Washington Wizards point guard Steve Blak...\n",
       "9       It was two years ago when Ernie Els explained ...\n",
       "22      AP - International Business Machines Corp. sai...\n",
       "33      The British Ministry of Defense confirmed on S...\n",
       "52      Internet major Yahoo Inc will have a 25-member...\n",
       "                              ...                        \n",
       "3919     LONDON (Reuters) - Oil prices surged to recor...\n",
       "3951    Google might close the bidding in its auction-...\n",
       "3957    Time Warner finally pulled the plug on CNNfn. ...\n",
       "3968    MANILA (Dow Jones)--President Gloria Macapagal...\n",
       "3979    Tom Brady lost his helmet and a fumble on a ha...\n",
       "Name: Text, Length: 317, dtype: object"
      ]
     },
     "metadata": {},
     "output_type": "display_data"
    },
    {
     "name": "stdout",
     "output_type": "stream",
     "text": [
      "\n",
      "'Sci/Tech' predicted as 'Business' : 256 examples.\n"
     ]
    },
    {
     "data": {
      "text/plain": [
       "25       MIAMI (Reuters) - The eastern Caribbean islan...\n",
       "37      The Supreme Court has stayed the election and ...\n",
       "46      LINCOLN, Neb. -- University of Nebraska-Lincol...\n",
       "54      Jenson Button has remained silent about his de...\n",
       "56      Reuters - India's dwindling aboriginal\\populat...\n",
       "                              ...                        \n",
       "3959    Taser International says that a study endorses...\n",
       "3963    Jordan have confirmed that Timo Glock will rep...\n",
       "3982    NAGPUR: After all the cameras had stopped roll...\n",
       "3983    : A misdemeanor court convicted a defrocked Ir...\n",
       "3988    NEW YORK, December 3 (newratings.com) - The Bo...\n",
       "Name: Text, Length: 256, dtype: object"
      ]
     },
     "metadata": {},
     "output_type": "display_data"
    },
    {
     "name": "stdout",
     "output_type": "stream",
     "text": [
      "\n",
      "'World' predicted as 'Business' : 303 examples.\n"
     ]
    },
    {
     "data": {
      "text/plain": [
       "3       A UK panel examining radiation risks says offi...\n",
       "5       SYDNEY : Australian airline Virgin Blue announ...\n",
       "10      Shares of Sirius Satellite Radio Inc. (SIRI.O:...\n",
       "14      Reuters - Drugstore chain Rite Aid Corp. \\on T...\n",
       "26      SEOUL -- North Korea suggested yesterday that ...\n",
       "                              ...                        \n",
       "3947    ATHENS -- In one of the greatest 100-meter rac...\n",
       "3956    The scientist who created Dolly the Sheep at E...\n",
       "3976    Whistling Straits has received magnificent rev...\n",
       "3978    Warring parties in Sudan  #39;s Darfur region ...\n",
       "3999    A Russian physicist convicted of spying for Ch...\n",
       "Name: Text, Length: 303, dtype: object"
      ]
     },
     "metadata": {},
     "output_type": "display_data"
    },
    {
     "name": "stdout",
     "output_type": "stream",
     "text": [
      "\n",
      "'Sports' predicted as 'World' : 144 examples.\n"
     ]
    },
    {
     "data": {
      "text/plain": [
       "21      New York  Reuters News Service, 30 September 2...\n",
       "38      Quarterback Jason White, last year's Heisman w...\n",
       "44      LONDON, UK : Sep 26 (PNS) - An unbeaten ninth ...\n",
       "67       GROZNY, Russia (Reuters) - Chechnya's new lea...\n",
       "92      Scientists have said for decades that nicotine...\n",
       "                              ...                        \n",
       "3835    com November 1, 2004, 9:56 AM PT. This fourth ...\n",
       "3839    AP - Bears cornerback Todd McMillon just laugh...\n",
       "3955    A fourth man was detained Saturday in connecti...\n",
       "3960    The Anglo-Dutch oil giant Shell today sought t...\n",
       "3995    World number one Roger Federer of Switzerland ...\n",
       "Name: Text, Length: 144, dtype: object"
      ]
     },
     "metadata": {},
     "output_type": "display_data"
    },
    {
     "name": "stdout",
     "output_type": "stream",
     "text": [
      "\n",
      "'Sci/Tech' predicted as 'World' : 250 examples.\n"
     ]
    },
    {
     "data": {
      "text/plain": [
       "1       In a move designed to help it better compete i...\n",
       "30      AP - Consumer prices calmed down in November, ...\n",
       "32      AP - Former New York mayor Rudolph Giuliani, a...\n",
       "34      The Connecticut Sun had an off game last Satur...\n",
       "61      PHILIPPINES: The tides of mud carved a random ...\n",
       "                              ...                        \n",
       "3889    A website is launched with the aim of educatin...\n",
       "3890    SPACE.com - Astronomers have found what they b...\n",
       "3925    MacCentral - The Bluetooth Special Interest Gr...\n",
       "3981    SPACE.com - This is the third article in a ser...\n",
       "3998    AP - Most mail to Canada must bear the complet...\n",
       "Name: Text, Length: 250, dtype: object"
      ]
     },
     "metadata": {},
     "output_type": "display_data"
    },
    {
     "name": "stdout",
     "output_type": "stream",
     "text": [
      "\n",
      "'Business' predicted as 'World' : 195 examples.\n"
     ]
    },
    {
     "data": {
      "text/plain": [
       "7       Honduras and other Central American countries ...\n",
       "15      The dollar, whose weakness has been fueled by ...\n",
       "43      Prime Minister Junichiro Koizumi shifted his e...\n",
       "47       TOKYO (Reuters) - The yen recouped some of it...\n",
       "106     AP - When Office Depot, Inc. stores ran an ele...\n",
       "                              ...                        \n",
       "3928    A Quebec glass manufacturer will have to repla...\n",
       "3961    Kilkenny - World number two Ernie Els and Denm...\n",
       "3972    BERLIN -- A group of American civil rights att...\n",
       "3977    Union leaders at central Florida #39;s Walt Di...\n",
       "3984    Purses overflowing with cash, exotic locales, ...\n",
       "Name: Text, Length: 195, dtype: object"
      ]
     },
     "metadata": {},
     "output_type": "display_data"
    },
    {
     "name": "stdout",
     "output_type": "stream",
     "text": [
      "\n"
     ]
    }
   ],
   "source": [
    "indices_train = df.index\n",
    "indices_test = df2.index\n",
    "for predicted in category_id_df.category_id:\n",
    "    for actual in category_id_df.category_id:\n",
    "        if predicted != actual and conf_mat[actual, predicted] >= 2:\n",
    "            print(\"'{}' predicted as '{}' : {} examples.\".format(\n",
    "                id_to_category[actual], id_to_category[predicted], conf_mat[actual, predicted]))\n",
    "            display(df.loc[indices_test[(y_test == actual)\n",
    "                                        & (y_pred == predicted)]]['Text'])\n",
    "            print('')"
   ]
  },
  {
   "cell_type": "markdown",
   "metadata": {
    "hidden": true
   },
   "source": [
    "<mark>Print some accuracy and other criterias<mark>"
   ]
  },
  {
   "cell_type": "code",
   "execution_count": 18,
   "metadata": {
    "ExecuteTime": {
     "end_time": "2020-03-08T21:26:40.358922Z",
     "start_time": "2020-03-08T21:26:40.337980Z"
    },
    "code_folding": [],
    "hidden": true
   },
   "outputs": [
    {
     "name": "stdout",
     "output_type": "stream",
     "text": [
      "accuracy 0.35175\n",
      "              precision    recall  f1-score   support\n",
      "\n",
      "      Sports       0.42      0.32      0.37      1000\n",
      "    Sci/Tech       0.35      0.38      0.36      1000\n",
      "    Business       0.34      0.46      0.39      1000\n",
      "       World       0.30      0.25      0.27      1000\n",
      "\n",
      "    accuracy                           0.35      4000\n",
      "   macro avg       0.35      0.35      0.35      4000\n",
      "weighted avg       0.35      0.35      0.35      4000\n",
      "\n"
     ]
    }
   ],
   "source": [
    "print('accuracy %s' % accuracy_score(y_pred, y_test))\n",
    "print(classification_report(y_test, y_pred,\n",
    "                            target_names=category_id_df['Category'].values))"
   ]
  },
  {
   "cell_type": "markdown",
   "metadata": {
    "heading_collapsed": true,
    "hidden": true
   },
   "source": [
    "### Fitting Model: SVM (Word2Vec features)"
   ]
  },
  {
   "cell_type": "code",
   "execution_count": 17,
   "metadata": {
    "ExecuteTime": {
     "end_time": "2020-03-13T21:18:51.008491Z",
     "start_time": "2020-03-13T21:18:50.910236Z"
    },
    "hidden": true
   },
   "outputs": [],
   "source": [
    "from nltk.corpus import stopwords\n",
    "from gensim.models import word2vec\n",
    "import string\n",
    "import re\n",
    "import pandas as pd\n",
    "import numpy as np\n",
    "import re\n",
    "import nltk\n",
    "import matplotlib.pyplot as plt\n",
    "from sklearn.svm import SVC\n",
    "from sklearn.model_selection import train_test_split\n",
    "import seaborn as sns\n",
    "import warnings\n",
    "from sklearn.metrics import classification_report\n",
    "from sklearn.metrics import accuracy_score, confusion_matrix\n",
    "warnings.filterwarnings('ignore')\n",
    "pd.options.display.max_colwidth = 200\n",
    "%matplotlib inline"
   ]
  },
  {
   "cell_type": "markdown",
   "metadata": {
    "hidden": true
   },
   "source": [
    "<mark>Procedure<mark>\n",
    "    1. Build Word2Vec Model\n",
    "    2. Document level embeddings\n",
    "    3. Set X_train, y_train, x_test, y_test\n",
    "    4. Fit the model"
   ]
  },
  {
   "cell_type": "markdown",
   "metadata": {
    "hidden": true
   },
   "source": [
    "<mark>1. Build Word2Vec Model<mark>"
   ]
  },
  {
   "cell_type": "code",
   "execution_count": 18,
   "metadata": {
    "ExecuteTime": {
     "end_time": "2020-03-13T21:18:58.256563Z",
     "start_time": "2020-03-13T21:18:54.404775Z"
    },
    "hidden": true
   },
   "outputs": [
    {
     "data": {
      "text/plain": [
       "(40000,)"
      ]
     },
     "execution_count": 18,
     "metadata": {},
     "output_type": "execute_result"
    }
   ],
   "source": [
    "# Load training data\n",
    "corpus_df = pd.read_csv('train3.csv', header=None)\n",
    "corpus_df.columns = ['Category', 'Document']\n",
    "corpus = corpus_df['Document'].values\n",
    "\n",
    "# Cleaning training data\n",
    "wpt = nltk.WordPunctTokenizer()\n",
    "stop_words = nltk.corpus.stopwords.words('english')\n",
    "\n",
    "\n",
    "def normalize_document(doc):\n",
    "    # lower case and remove special characters\\whitespaces\n",
    "    doc = re.sub(r'[^a-zA-Z\\s]', '', doc, re.I | re.A)\n",
    "    doc = doc.lower()\n",
    "    doc = doc.strip()\n",
    "    # tokenize document\n",
    "    tokens = wpt.tokenize(doc)\n",
    "    # filter stopwords out of document\n",
    "    filtered_tokens = [token for token in tokens if token not in stop_words]\n",
    "    # re-create document from filtered tokens\n",
    "    doc = ' '.join(filtered_tokens)\n",
    "    return doc\n",
    "\n",
    "\n",
    "normalize_corpus = np.vectorize(normalize_document)\n",
    "\n",
    "norm_corpus = normalize_corpus(corpus)\n",
    "norm_corpus.shape"
   ]
  },
  {
   "cell_type": "code",
   "execution_count": 19,
   "metadata": {
    "ExecuteTime": {
     "end_time": "2020-03-13T21:20:30.810636Z",
     "start_time": "2020-03-13T21:18:58.259531Z"
    },
    "hidden": true
   },
   "outputs": [],
   "source": [
    "# tokenize sentences in corpus\n",
    "wpt = nltk.WordPunctTokenizer()\n",
    "tokenized_corpus = [wpt.tokenize(document) for document in norm_corpus]\n",
    "\n",
    "# Set values for various parameters\n",
    "feature_size = 100    # Word vector dimensionality\n",
    "window_context = 30          # Context window size\n",
    "min_word_count = 1   # Minimum word count\n",
    "sample = 1e-3   # Downsample setting for frequent words\n",
    "\n",
    "# Build model\n",
    "w2v_model = word2vec.Word2Vec(tokenized_corpus, size=feature_size,\n",
    "                              window=window_context, min_count=min_word_count,\n",
    "                              sample=sample, iter=50)"
   ]
  },
  {
   "cell_type": "code",
   "execution_count": 20,
   "metadata": {
    "ExecuteTime": {
     "end_time": "2020-03-13T21:20:30.824600Z",
     "start_time": "2020-03-13T21:20:30.813630Z"
    },
    "hidden": true
   },
   "outputs": [
    {
     "name": "stdout",
     "output_type": "stream",
     "text": [
      "Vocabulary Size: 50182 - Embedding Dim: 100\n"
     ]
    }
   ],
   "source": [
    "w2v_weights = w2v_model.wv.vectors\n",
    "vocab_size, embedding_size = w2v_weights.shape\n",
    "\n",
    "print(\"Vocabulary Size: {} - Embedding Dim: {}\".format(vocab_size, embedding_size))"
   ]
  },
  {
   "cell_type": "markdown",
   "metadata": {
    "hidden": true
   },
   "source": [
    "<mark> 2. Document level embeddings<mark>"
   ]
  },
  {
   "cell_type": "markdown",
   "metadata": {
    "hidden": true
   },
   "source": [
    "It would need to get the document level embeddings from each of the words present in each news article. \n",
    "Hence, average out the word embeddings for each word in a news article. "
   ]
  },
  {
   "cell_type": "code",
   "execution_count": 21,
   "metadata": {
    "ExecuteTime": {
     "end_time": "2020-03-13T21:20:37.633066Z",
     "start_time": "2020-03-13T21:20:30.828590Z"
    },
    "hidden": true
   },
   "outputs": [
    {
     "data": {
      "text/html": [
       "<div>\n",
       "<style scoped>\n",
       "    .dataframe tbody tr th:only-of-type {\n",
       "        vertical-align: middle;\n",
       "    }\n",
       "\n",
       "    .dataframe tbody tr th {\n",
       "        vertical-align: top;\n",
       "    }\n",
       "\n",
       "    .dataframe thead th {\n",
       "        text-align: right;\n",
       "    }\n",
       "</style>\n",
       "<table border=\"1\" class=\"dataframe\">\n",
       "  <thead>\n",
       "    <tr style=\"text-align: right;\">\n",
       "      <th></th>\n",
       "      <th>0</th>\n",
       "      <th>1</th>\n",
       "      <th>2</th>\n",
       "      <th>3</th>\n",
       "      <th>4</th>\n",
       "      <th>5</th>\n",
       "      <th>6</th>\n",
       "      <th>7</th>\n",
       "      <th>8</th>\n",
       "      <th>9</th>\n",
       "      <th>...</th>\n",
       "      <th>90</th>\n",
       "      <th>91</th>\n",
       "      <th>92</th>\n",
       "      <th>93</th>\n",
       "      <th>94</th>\n",
       "      <th>95</th>\n",
       "      <th>96</th>\n",
       "      <th>97</th>\n",
       "      <th>98</th>\n",
       "      <th>99</th>\n",
       "    </tr>\n",
       "  </thead>\n",
       "  <tbody>\n",
       "    <tr>\n",
       "      <th>0</th>\n",
       "      <td>1.421981</td>\n",
       "      <td>-0.305465</td>\n",
       "      <td>-0.607938</td>\n",
       "      <td>0.592017</td>\n",
       "      <td>0.418428</td>\n",
       "      <td>1.624794</td>\n",
       "      <td>-0.549020</td>\n",
       "      <td>0.547757</td>\n",
       "      <td>0.529329</td>\n",
       "      <td>1.042906</td>\n",
       "      <td>...</td>\n",
       "      <td>-0.398469</td>\n",
       "      <td>-0.801558</td>\n",
       "      <td>-0.950280</td>\n",
       "      <td>-0.335601</td>\n",
       "      <td>-0.215839</td>\n",
       "      <td>-0.524427</td>\n",
       "      <td>1.374568</td>\n",
       "      <td>0.822815</td>\n",
       "      <td>0.134391</td>\n",
       "      <td>-0.680693</td>\n",
       "    </tr>\n",
       "    <tr>\n",
       "      <th>1</th>\n",
       "      <td>-1.071817</td>\n",
       "      <td>0.101328</td>\n",
       "      <td>-0.670314</td>\n",
       "      <td>0.129650</td>\n",
       "      <td>-0.800482</td>\n",
       "      <td>-0.750762</td>\n",
       "      <td>-0.320761</td>\n",
       "      <td>0.038598</td>\n",
       "      <td>-1.103811</td>\n",
       "      <td>0.062447</td>\n",
       "      <td>...</td>\n",
       "      <td>-0.634829</td>\n",
       "      <td>-0.714540</td>\n",
       "      <td>1.829801</td>\n",
       "      <td>-0.475323</td>\n",
       "      <td>0.028403</td>\n",
       "      <td>0.575363</td>\n",
       "      <td>0.158807</td>\n",
       "      <td>1.786425</td>\n",
       "      <td>-0.550789</td>\n",
       "      <td>1.104262</td>\n",
       "    </tr>\n",
       "    <tr>\n",
       "      <th>2</th>\n",
       "      <td>0.603930</td>\n",
       "      <td>0.315987</td>\n",
       "      <td>-0.960669</td>\n",
       "      <td>-0.026417</td>\n",
       "      <td>-0.314272</td>\n",
       "      <td>-0.764278</td>\n",
       "      <td>-0.975902</td>\n",
       "      <td>-1.198911</td>\n",
       "      <td>0.375079</td>\n",
       "      <td>1.648332</td>\n",
       "      <td>...</td>\n",
       "      <td>0.229596</td>\n",
       "      <td>-0.484894</td>\n",
       "      <td>0.539998</td>\n",
       "      <td>-0.868783</td>\n",
       "      <td>0.237100</td>\n",
       "      <td>0.915182</td>\n",
       "      <td>1.258128</td>\n",
       "      <td>1.560748</td>\n",
       "      <td>-0.829716</td>\n",
       "      <td>0.719807</td>\n",
       "    </tr>\n",
       "    <tr>\n",
       "      <th>3</th>\n",
       "      <td>-0.000795</td>\n",
       "      <td>0.031213</td>\n",
       "      <td>-0.873378</td>\n",
       "      <td>0.373745</td>\n",
       "      <td>-0.328484</td>\n",
       "      <td>-0.420284</td>\n",
       "      <td>-0.207870</td>\n",
       "      <td>-0.379725</td>\n",
       "      <td>-0.550374</td>\n",
       "      <td>0.248494</td>\n",
       "      <td>...</td>\n",
       "      <td>-0.042522</td>\n",
       "      <td>-0.034246</td>\n",
       "      <td>-0.870937</td>\n",
       "      <td>0.107699</td>\n",
       "      <td>0.124933</td>\n",
       "      <td>1.940840</td>\n",
       "      <td>1.037932</td>\n",
       "      <td>-0.233809</td>\n",
       "      <td>-0.648709</td>\n",
       "      <td>0.832192</td>\n",
       "    </tr>\n",
       "    <tr>\n",
       "      <th>4</th>\n",
       "      <td>1.019395</td>\n",
       "      <td>-0.077322</td>\n",
       "      <td>0.393598</td>\n",
       "      <td>-0.457425</td>\n",
       "      <td>0.321983</td>\n",
       "      <td>0.068873</td>\n",
       "      <td>-1.243414</td>\n",
       "      <td>-0.874803</td>\n",
       "      <td>-0.054595</td>\n",
       "      <td>-0.060445</td>\n",
       "      <td>...</td>\n",
       "      <td>0.489910</td>\n",
       "      <td>0.823524</td>\n",
       "      <td>-0.894219</td>\n",
       "      <td>-0.846039</td>\n",
       "      <td>0.295043</td>\n",
       "      <td>-0.575912</td>\n",
       "      <td>0.364308</td>\n",
       "      <td>-0.609803</td>\n",
       "      <td>-0.889047</td>\n",
       "      <td>1.098035</td>\n",
       "    </tr>\n",
       "    <tr>\n",
       "      <th>...</th>\n",
       "      <td>...</td>\n",
       "      <td>...</td>\n",
       "      <td>...</td>\n",
       "      <td>...</td>\n",
       "      <td>...</td>\n",
       "      <td>...</td>\n",
       "      <td>...</td>\n",
       "      <td>...</td>\n",
       "      <td>...</td>\n",
       "      <td>...</td>\n",
       "      <td>...</td>\n",
       "      <td>...</td>\n",
       "      <td>...</td>\n",
       "      <td>...</td>\n",
       "      <td>...</td>\n",
       "      <td>...</td>\n",
       "      <td>...</td>\n",
       "      <td>...</td>\n",
       "      <td>...</td>\n",
       "      <td>...</td>\n",
       "      <td>...</td>\n",
       "    </tr>\n",
       "    <tr>\n",
       "      <th>39995</th>\n",
       "      <td>1.021884</td>\n",
       "      <td>0.535597</td>\n",
       "      <td>-0.434283</td>\n",
       "      <td>-0.922332</td>\n",
       "      <td>-0.144072</td>\n",
       "      <td>-0.018603</td>\n",
       "      <td>-0.068638</td>\n",
       "      <td>0.468576</td>\n",
       "      <td>1.137305</td>\n",
       "      <td>-0.115350</td>\n",
       "      <td>...</td>\n",
       "      <td>-0.131564</td>\n",
       "      <td>-0.088394</td>\n",
       "      <td>0.566270</td>\n",
       "      <td>-0.401683</td>\n",
       "      <td>0.222196</td>\n",
       "      <td>-0.360572</td>\n",
       "      <td>0.433052</td>\n",
       "      <td>-0.528214</td>\n",
       "      <td>-0.146116</td>\n",
       "      <td>0.399577</td>\n",
       "    </tr>\n",
       "    <tr>\n",
       "      <th>39996</th>\n",
       "      <td>0.320889</td>\n",
       "      <td>-0.076036</td>\n",
       "      <td>0.410688</td>\n",
       "      <td>-0.678471</td>\n",
       "      <td>-0.370639</td>\n",
       "      <td>1.357501</td>\n",
       "      <td>0.494719</td>\n",
       "      <td>0.942404</td>\n",
       "      <td>-0.749632</td>\n",
       "      <td>-0.391447</td>\n",
       "      <td>...</td>\n",
       "      <td>-0.449068</td>\n",
       "      <td>-0.583929</td>\n",
       "      <td>0.727180</td>\n",
       "      <td>-0.371342</td>\n",
       "      <td>0.023999</td>\n",
       "      <td>-0.207944</td>\n",
       "      <td>0.110025</td>\n",
       "      <td>-1.044238</td>\n",
       "      <td>-0.341574</td>\n",
       "      <td>-0.755663</td>\n",
       "    </tr>\n",
       "    <tr>\n",
       "      <th>39997</th>\n",
       "      <td>-0.009609</td>\n",
       "      <td>-0.228346</td>\n",
       "      <td>-0.011797</td>\n",
       "      <td>-1.680407</td>\n",
       "      <td>0.521500</td>\n",
       "      <td>2.394861</td>\n",
       "      <td>-0.720961</td>\n",
       "      <td>0.516011</td>\n",
       "      <td>-1.031077</td>\n",
       "      <td>-1.433284</td>\n",
       "      <td>...</td>\n",
       "      <td>0.184782</td>\n",
       "      <td>-0.316076</td>\n",
       "      <td>-1.469289</td>\n",
       "      <td>0.648637</td>\n",
       "      <td>-0.345201</td>\n",
       "      <td>-0.284542</td>\n",
       "      <td>1.006194</td>\n",
       "      <td>-1.250497</td>\n",
       "      <td>-0.398280</td>\n",
       "      <td>-0.959408</td>\n",
       "    </tr>\n",
       "    <tr>\n",
       "      <th>39998</th>\n",
       "      <td>-0.490485</td>\n",
       "      <td>-1.540457</td>\n",
       "      <td>0.158492</td>\n",
       "      <td>1.553908</td>\n",
       "      <td>-0.242752</td>\n",
       "      <td>-0.862852</td>\n",
       "      <td>0.550175</td>\n",
       "      <td>-0.691786</td>\n",
       "      <td>-0.747160</td>\n",
       "      <td>0.896515</td>\n",
       "      <td>...</td>\n",
       "      <td>-0.109498</td>\n",
       "      <td>-1.201005</td>\n",
       "      <td>0.184868</td>\n",
       "      <td>0.630817</td>\n",
       "      <td>-0.192306</td>\n",
       "      <td>0.740080</td>\n",
       "      <td>0.178136</td>\n",
       "      <td>0.898553</td>\n",
       "      <td>0.439615</td>\n",
       "      <td>1.512720</td>\n",
       "    </tr>\n",
       "    <tr>\n",
       "      <th>39999</th>\n",
       "      <td>0.225800</td>\n",
       "      <td>-0.969508</td>\n",
       "      <td>0.261064</td>\n",
       "      <td>1.075138</td>\n",
       "      <td>-0.693461</td>\n",
       "      <td>-0.786292</td>\n",
       "      <td>-0.874329</td>\n",
       "      <td>-0.991806</td>\n",
       "      <td>0.592986</td>\n",
       "      <td>1.802006</td>\n",
       "      <td>...</td>\n",
       "      <td>0.456529</td>\n",
       "      <td>-0.247124</td>\n",
       "      <td>-0.053696</td>\n",
       "      <td>-1.224490</td>\n",
       "      <td>0.901054</td>\n",
       "      <td>0.722529</td>\n",
       "      <td>0.813964</td>\n",
       "      <td>0.638702</td>\n",
       "      <td>-0.939025</td>\n",
       "      <td>0.590558</td>\n",
       "    </tr>\n",
       "  </tbody>\n",
       "</table>\n",
       "<p>40000 rows × 100 columns</p>\n",
       "</div>"
      ],
      "text/plain": [
       "             0         1         2         3         4         5         6   \\\n",
       "0      1.421981 -0.305465 -0.607938  0.592017  0.418428  1.624794 -0.549020   \n",
       "1     -1.071817  0.101328 -0.670314  0.129650 -0.800482 -0.750762 -0.320761   \n",
       "2      0.603930  0.315987 -0.960669 -0.026417 -0.314272 -0.764278 -0.975902   \n",
       "3     -0.000795  0.031213 -0.873378  0.373745 -0.328484 -0.420284 -0.207870   \n",
       "4      1.019395 -0.077322  0.393598 -0.457425  0.321983  0.068873 -1.243414   \n",
       "...         ...       ...       ...       ...       ...       ...       ...   \n",
       "39995  1.021884  0.535597 -0.434283 -0.922332 -0.144072 -0.018603 -0.068638   \n",
       "39996  0.320889 -0.076036  0.410688 -0.678471 -0.370639  1.357501  0.494719   \n",
       "39997 -0.009609 -0.228346 -0.011797 -1.680407  0.521500  2.394861 -0.720961   \n",
       "39998 -0.490485 -1.540457  0.158492  1.553908 -0.242752 -0.862852  0.550175   \n",
       "39999  0.225800 -0.969508  0.261064  1.075138 -0.693461 -0.786292 -0.874329   \n",
       "\n",
       "             7         8         9   ...        90        91        92  \\\n",
       "0      0.547757  0.529329  1.042906  ... -0.398469 -0.801558 -0.950280   \n",
       "1      0.038598 -1.103811  0.062447  ... -0.634829 -0.714540  1.829801   \n",
       "2     -1.198911  0.375079  1.648332  ...  0.229596 -0.484894  0.539998   \n",
       "3     -0.379725 -0.550374  0.248494  ... -0.042522 -0.034246 -0.870937   \n",
       "4     -0.874803 -0.054595 -0.060445  ...  0.489910  0.823524 -0.894219   \n",
       "...         ...       ...       ...  ...       ...       ...       ...   \n",
       "39995  0.468576  1.137305 -0.115350  ... -0.131564 -0.088394  0.566270   \n",
       "39996  0.942404 -0.749632 -0.391447  ... -0.449068 -0.583929  0.727180   \n",
       "39997  0.516011 -1.031077 -1.433284  ...  0.184782 -0.316076 -1.469289   \n",
       "39998 -0.691786 -0.747160  0.896515  ... -0.109498 -1.201005  0.184868   \n",
       "39999 -0.991806  0.592986  1.802006  ...  0.456529 -0.247124 -0.053696   \n",
       "\n",
       "             93        94        95        96        97        98        99  \n",
       "0     -0.335601 -0.215839 -0.524427  1.374568  0.822815  0.134391 -0.680693  \n",
       "1     -0.475323  0.028403  0.575363  0.158807  1.786425 -0.550789  1.104262  \n",
       "2     -0.868783  0.237100  0.915182  1.258128  1.560748 -0.829716  0.719807  \n",
       "3      0.107699  0.124933  1.940840  1.037932 -0.233809 -0.648709  0.832192  \n",
       "4     -0.846039  0.295043 -0.575912  0.364308 -0.609803 -0.889047  1.098035  \n",
       "...         ...       ...       ...       ...       ...       ...       ...  \n",
       "39995 -0.401683  0.222196 -0.360572  0.433052 -0.528214 -0.146116  0.399577  \n",
       "39996 -0.371342  0.023999 -0.207944  0.110025 -1.044238 -0.341574 -0.755663  \n",
       "39997  0.648637 -0.345201 -0.284542  1.006194 -1.250497 -0.398280 -0.959408  \n",
       "39998  0.630817 -0.192306  0.740080  0.178136  0.898553  0.439615  1.512720  \n",
       "39999 -1.224490  0.901054  0.722529  0.813964  0.638702 -0.939025  0.590558  \n",
       "\n",
       "[40000 rows x 100 columns]"
      ]
     },
     "execution_count": 21,
     "metadata": {},
     "output_type": "execute_result"
    }
   ],
   "source": [
    "def average_word_vectors(words, model, vocabulary, num_features):\n",
    "\n",
    "    feature_vector = np.zeros((num_features,), dtype=\"float64\")\n",
    "    nwords = 0.\n",
    "\n",
    "    for word in words:\n",
    "        if word in vocabulary:\n",
    "            nwords = nwords + 1.\n",
    "            feature_vector = np.add(feature_vector, model[word])\n",
    "\n",
    "    if nwords:\n",
    "        feature_vector = np.divide(feature_vector, nwords)\n",
    "\n",
    "    return feature_vector\n",
    "\n",
    "\n",
    "def averaged_word_vectorizer(corpus, model, num_features):\n",
    "    vocabulary = set(model.wv.index2word)\n",
    "    features = [average_word_vectors(tokenized_sentence, model, vocabulary, num_features)\n",
    "                for tokenized_sentence in corpus]\n",
    "    return np.array(features)\n",
    "\n",
    "\n",
    "# Get document level embeddings\n",
    "w2v_feature_array = averaged_word_vectorizer(corpus=tokenized_corpus, model=w2v_model,\n",
    "                                             num_features=feature_size)\n",
    "pd.DataFrame(w2v_feature_array)"
   ]
  },
  {
   "cell_type": "markdown",
   "metadata": {
    "hidden": true
   },
   "source": [
    "<mark> 3. Set X_train, y_train, x_test, y_test<mark>"
   ]
  },
  {
   "cell_type": "code",
   "execution_count": 22,
   "metadata": {
    "ExecuteTime": {
     "end_time": "2020-03-13T21:20:38.717236Z",
     "start_time": "2020-03-13T21:20:37.636059Z"
    },
    "hidden": true
   },
   "outputs": [
    {
     "data": {
      "text/html": [
       "<div>\n",
       "<style scoped>\n",
       "    .dataframe tbody tr th:only-of-type {\n",
       "        vertical-align: middle;\n",
       "    }\n",
       "\n",
       "    .dataframe tbody tr th {\n",
       "        vertical-align: top;\n",
       "    }\n",
       "\n",
       "    .dataframe thead th {\n",
       "        text-align: right;\n",
       "    }\n",
       "</style>\n",
       "<table border=\"1\" class=\"dataframe\">\n",
       "  <thead>\n",
       "    <tr style=\"text-align: right;\">\n",
       "      <th></th>\n",
       "      <th>0</th>\n",
       "      <th>1</th>\n",
       "      <th>2</th>\n",
       "      <th>3</th>\n",
       "      <th>4</th>\n",
       "      <th>5</th>\n",
       "      <th>6</th>\n",
       "      <th>7</th>\n",
       "      <th>8</th>\n",
       "      <th>9</th>\n",
       "      <th>...</th>\n",
       "      <th>90</th>\n",
       "      <th>91</th>\n",
       "      <th>92</th>\n",
       "      <th>93</th>\n",
       "      <th>94</th>\n",
       "      <th>95</th>\n",
       "      <th>96</th>\n",
       "      <th>97</th>\n",
       "      <th>98</th>\n",
       "      <th>99</th>\n",
       "    </tr>\n",
       "  </thead>\n",
       "  <tbody>\n",
       "    <tr>\n",
       "      <th>0</th>\n",
       "      <td>-0.538809</td>\n",
       "      <td>-0.172287</td>\n",
       "      <td>-0.026065</td>\n",
       "      <td>-0.699985</td>\n",
       "      <td>0.603379</td>\n",
       "      <td>0.404347</td>\n",
       "      <td>0.572482</td>\n",
       "      <td>1.601316</td>\n",
       "      <td>-0.863281</td>\n",
       "      <td>-0.340765</td>\n",
       "      <td>...</td>\n",
       "      <td>-0.574100</td>\n",
       "      <td>-0.635632</td>\n",
       "      <td>-0.384180</td>\n",
       "      <td>-0.727447</td>\n",
       "      <td>0.598545</td>\n",
       "      <td>1.561471</td>\n",
       "      <td>2.468050</td>\n",
       "      <td>-0.164535</td>\n",
       "      <td>0.376849</td>\n",
       "      <td>-0.036627</td>\n",
       "    </tr>\n",
       "    <tr>\n",
       "      <th>1</th>\n",
       "      <td>-0.081551</td>\n",
       "      <td>0.762256</td>\n",
       "      <td>0.235652</td>\n",
       "      <td>-0.229006</td>\n",
       "      <td>-0.999317</td>\n",
       "      <td>-0.056325</td>\n",
       "      <td>0.722005</td>\n",
       "      <td>0.197283</td>\n",
       "      <td>-0.419391</td>\n",
       "      <td>0.140813</td>\n",
       "      <td>...</td>\n",
       "      <td>-0.745721</td>\n",
       "      <td>-0.236720</td>\n",
       "      <td>-0.799104</td>\n",
       "      <td>-0.278496</td>\n",
       "      <td>0.433060</td>\n",
       "      <td>0.371629</td>\n",
       "      <td>-0.068019</td>\n",
       "      <td>0.449972</td>\n",
       "      <td>-0.989895</td>\n",
       "      <td>1.438243</td>\n",
       "    </tr>\n",
       "    <tr>\n",
       "      <th>2</th>\n",
       "      <td>0.063950</td>\n",
       "      <td>-1.824743</td>\n",
       "      <td>-0.024658</td>\n",
       "      <td>0.823678</td>\n",
       "      <td>0.045107</td>\n",
       "      <td>-0.429113</td>\n",
       "      <td>-0.623649</td>\n",
       "      <td>-2.251980</td>\n",
       "      <td>-0.164519</td>\n",
       "      <td>2.108791</td>\n",
       "      <td>...</td>\n",
       "      <td>1.277901</td>\n",
       "      <td>-0.721891</td>\n",
       "      <td>0.665240</td>\n",
       "      <td>0.554885</td>\n",
       "      <td>-0.075829</td>\n",
       "      <td>0.230573</td>\n",
       "      <td>0.443825</td>\n",
       "      <td>1.074036</td>\n",
       "      <td>-0.339206</td>\n",
       "      <td>1.862091</td>\n",
       "    </tr>\n",
       "    <tr>\n",
       "      <th>3</th>\n",
       "      <td>1.999191</td>\n",
       "      <td>-0.346016</td>\n",
       "      <td>1.597196</td>\n",
       "      <td>-1.091954</td>\n",
       "      <td>1.024062</td>\n",
       "      <td>0.360829</td>\n",
       "      <td>0.555348</td>\n",
       "      <td>-0.893718</td>\n",
       "      <td>1.245290</td>\n",
       "      <td>0.606120</td>\n",
       "      <td>...</td>\n",
       "      <td>2.391694</td>\n",
       "      <td>-0.554426</td>\n",
       "      <td>-1.401193</td>\n",
       "      <td>-0.733792</td>\n",
       "      <td>0.775731</td>\n",
       "      <td>-0.155339</td>\n",
       "      <td>0.192666</td>\n",
       "      <td>-1.439020</td>\n",
       "      <td>-0.173949</td>\n",
       "      <td>-0.975405</td>\n",
       "    </tr>\n",
       "    <tr>\n",
       "      <th>4</th>\n",
       "      <td>0.675748</td>\n",
       "      <td>0.952563</td>\n",
       "      <td>-0.266479</td>\n",
       "      <td>0.598096</td>\n",
       "      <td>-0.081425</td>\n",
       "      <td>-0.211602</td>\n",
       "      <td>-0.105525</td>\n",
       "      <td>1.280068</td>\n",
       "      <td>0.151863</td>\n",
       "      <td>-0.031884</td>\n",
       "      <td>...</td>\n",
       "      <td>0.057903</td>\n",
       "      <td>0.748151</td>\n",
       "      <td>-0.225375</td>\n",
       "      <td>-0.502281</td>\n",
       "      <td>-0.223915</td>\n",
       "      <td>0.494791</td>\n",
       "      <td>0.495991</td>\n",
       "      <td>1.895558</td>\n",
       "      <td>-0.351877</td>\n",
       "      <td>1.970355</td>\n",
       "    </tr>\n",
       "    <tr>\n",
       "      <th>...</th>\n",
       "      <td>...</td>\n",
       "      <td>...</td>\n",
       "      <td>...</td>\n",
       "      <td>...</td>\n",
       "      <td>...</td>\n",
       "      <td>...</td>\n",
       "      <td>...</td>\n",
       "      <td>...</td>\n",
       "      <td>...</td>\n",
       "      <td>...</td>\n",
       "      <td>...</td>\n",
       "      <td>...</td>\n",
       "      <td>...</td>\n",
       "      <td>...</td>\n",
       "      <td>...</td>\n",
       "      <td>...</td>\n",
       "      <td>...</td>\n",
       "      <td>...</td>\n",
       "      <td>...</td>\n",
       "      <td>...</td>\n",
       "      <td>...</td>\n",
       "    </tr>\n",
       "    <tr>\n",
       "      <th>3995</th>\n",
       "      <td>1.966316</td>\n",
       "      <td>0.090040</td>\n",
       "      <td>-0.458965</td>\n",
       "      <td>-1.593921</td>\n",
       "      <td>0.670998</td>\n",
       "      <td>2.003940</td>\n",
       "      <td>-0.071858</td>\n",
       "      <td>-0.449871</td>\n",
       "      <td>-0.991260</td>\n",
       "      <td>-1.073583</td>\n",
       "      <td>...</td>\n",
       "      <td>-0.566980</td>\n",
       "      <td>-1.387671</td>\n",
       "      <td>0.361506</td>\n",
       "      <td>-0.283132</td>\n",
       "      <td>1.270528</td>\n",
       "      <td>-0.146984</td>\n",
       "      <td>-0.068361</td>\n",
       "      <td>0.084956</td>\n",
       "      <td>-0.057732</td>\n",
       "      <td>0.299479</td>\n",
       "    </tr>\n",
       "    <tr>\n",
       "      <th>3996</th>\n",
       "      <td>-0.171166</td>\n",
       "      <td>-0.032206</td>\n",
       "      <td>-0.695540</td>\n",
       "      <td>-0.868012</td>\n",
       "      <td>-0.303634</td>\n",
       "      <td>-1.608846</td>\n",
       "      <td>-1.249697</td>\n",
       "      <td>0.702734</td>\n",
       "      <td>0.094030</td>\n",
       "      <td>0.507577</td>\n",
       "      <td>...</td>\n",
       "      <td>0.959258</td>\n",
       "      <td>0.997629</td>\n",
       "      <td>0.954753</td>\n",
       "      <td>-0.368137</td>\n",
       "      <td>0.068276</td>\n",
       "      <td>-0.441767</td>\n",
       "      <td>-0.022865</td>\n",
       "      <td>-0.206460</td>\n",
       "      <td>-0.594525</td>\n",
       "      <td>0.653106</td>\n",
       "    </tr>\n",
       "    <tr>\n",
       "      <th>3997</th>\n",
       "      <td>0.935405</td>\n",
       "      <td>-0.613401</td>\n",
       "      <td>0.545776</td>\n",
       "      <td>-0.298327</td>\n",
       "      <td>0.253994</td>\n",
       "      <td>0.153930</td>\n",
       "      <td>0.104382</td>\n",
       "      <td>-0.964312</td>\n",
       "      <td>0.444843</td>\n",
       "      <td>0.994956</td>\n",
       "      <td>...</td>\n",
       "      <td>1.954735</td>\n",
       "      <td>-1.227290</td>\n",
       "      <td>0.456946</td>\n",
       "      <td>-0.081062</td>\n",
       "      <td>0.369229</td>\n",
       "      <td>0.708935</td>\n",
       "      <td>0.302591</td>\n",
       "      <td>0.593527</td>\n",
       "      <td>0.402936</td>\n",
       "      <td>-1.431231</td>\n",
       "    </tr>\n",
       "    <tr>\n",
       "      <th>3998</th>\n",
       "      <td>0.436403</td>\n",
       "      <td>-0.081537</td>\n",
       "      <td>-1.155153</td>\n",
       "      <td>0.569472</td>\n",
       "      <td>-0.821220</td>\n",
       "      <td>-0.019096</td>\n",
       "      <td>-1.731241</td>\n",
       "      <td>0.460767</td>\n",
       "      <td>-0.336501</td>\n",
       "      <td>0.400682</td>\n",
       "      <td>...</td>\n",
       "      <td>-0.267696</td>\n",
       "      <td>-0.790731</td>\n",
       "      <td>0.985031</td>\n",
       "      <td>0.681846</td>\n",
       "      <td>-0.360418</td>\n",
       "      <td>0.184452</td>\n",
       "      <td>0.101749</td>\n",
       "      <td>0.224249</td>\n",
       "      <td>-0.650540</td>\n",
       "      <td>1.006927</td>\n",
       "    </tr>\n",
       "    <tr>\n",
       "      <th>3999</th>\n",
       "      <td>1.549814</td>\n",
       "      <td>0.094677</td>\n",
       "      <td>-0.057446</td>\n",
       "      <td>0.737487</td>\n",
       "      <td>1.425642</td>\n",
       "      <td>0.398293</td>\n",
       "      <td>-0.795424</td>\n",
       "      <td>0.176942</td>\n",
       "      <td>-0.438476</td>\n",
       "      <td>-0.044547</td>\n",
       "      <td>...</td>\n",
       "      <td>-0.570345</td>\n",
       "      <td>0.089523</td>\n",
       "      <td>-0.022169</td>\n",
       "      <td>0.256238</td>\n",
       "      <td>-0.729905</td>\n",
       "      <td>-0.088833</td>\n",
       "      <td>1.058546</td>\n",
       "      <td>0.994567</td>\n",
       "      <td>-0.286447</td>\n",
       "      <td>0.269554</td>\n",
       "    </tr>\n",
       "  </tbody>\n",
       "</table>\n",
       "<p>4000 rows × 100 columns</p>\n",
       "</div>"
      ],
      "text/plain": [
       "            0         1         2         3         4         5         6   \\\n",
       "0    -0.538809 -0.172287 -0.026065 -0.699985  0.603379  0.404347  0.572482   \n",
       "1    -0.081551  0.762256  0.235652 -0.229006 -0.999317 -0.056325  0.722005   \n",
       "2     0.063950 -1.824743 -0.024658  0.823678  0.045107 -0.429113 -0.623649   \n",
       "3     1.999191 -0.346016  1.597196 -1.091954  1.024062  0.360829  0.555348   \n",
       "4     0.675748  0.952563 -0.266479  0.598096 -0.081425 -0.211602 -0.105525   \n",
       "...        ...       ...       ...       ...       ...       ...       ...   \n",
       "3995  1.966316  0.090040 -0.458965 -1.593921  0.670998  2.003940 -0.071858   \n",
       "3996 -0.171166 -0.032206 -0.695540 -0.868012 -0.303634 -1.608846 -1.249697   \n",
       "3997  0.935405 -0.613401  0.545776 -0.298327  0.253994  0.153930  0.104382   \n",
       "3998  0.436403 -0.081537 -1.155153  0.569472 -0.821220 -0.019096 -1.731241   \n",
       "3999  1.549814  0.094677 -0.057446  0.737487  1.425642  0.398293 -0.795424   \n",
       "\n",
       "            7         8         9   ...        90        91        92  \\\n",
       "0     1.601316 -0.863281 -0.340765  ... -0.574100 -0.635632 -0.384180   \n",
       "1     0.197283 -0.419391  0.140813  ... -0.745721 -0.236720 -0.799104   \n",
       "2    -2.251980 -0.164519  2.108791  ...  1.277901 -0.721891  0.665240   \n",
       "3    -0.893718  1.245290  0.606120  ...  2.391694 -0.554426 -1.401193   \n",
       "4     1.280068  0.151863 -0.031884  ...  0.057903  0.748151 -0.225375   \n",
       "...        ...       ...       ...  ...       ...       ...       ...   \n",
       "3995 -0.449871 -0.991260 -1.073583  ... -0.566980 -1.387671  0.361506   \n",
       "3996  0.702734  0.094030  0.507577  ...  0.959258  0.997629  0.954753   \n",
       "3997 -0.964312  0.444843  0.994956  ...  1.954735 -1.227290  0.456946   \n",
       "3998  0.460767 -0.336501  0.400682  ... -0.267696 -0.790731  0.985031   \n",
       "3999  0.176942 -0.438476 -0.044547  ... -0.570345  0.089523 -0.022169   \n",
       "\n",
       "            93        94        95        96        97        98        99  \n",
       "0    -0.727447  0.598545  1.561471  2.468050 -0.164535  0.376849 -0.036627  \n",
       "1    -0.278496  0.433060  0.371629 -0.068019  0.449972 -0.989895  1.438243  \n",
       "2     0.554885 -0.075829  0.230573  0.443825  1.074036 -0.339206  1.862091  \n",
       "3    -0.733792  0.775731 -0.155339  0.192666 -1.439020 -0.173949 -0.975405  \n",
       "4    -0.502281 -0.223915  0.494791  0.495991  1.895558 -0.351877  1.970355  \n",
       "...        ...       ...       ...       ...       ...       ...       ...  \n",
       "3995 -0.283132  1.270528 -0.146984 -0.068361  0.084956 -0.057732  0.299479  \n",
       "3996 -0.368137  0.068276 -0.441767 -0.022865 -0.206460 -0.594525  0.653106  \n",
       "3997 -0.081062  0.369229  0.708935  0.302591  0.593527  0.402936 -1.431231  \n",
       "3998  0.681846 -0.360418  0.184452  0.101749  0.224249 -0.650540  1.006927  \n",
       "3999  0.256238 -0.729905 -0.088833  1.058546  0.994567 -0.286447  0.269554  \n",
       "\n",
       "[4000 rows x 100 columns]"
      ]
     },
     "execution_count": 22,
     "metadata": {},
     "output_type": "execute_result"
    }
   ],
   "source": [
    "# Load test data\n",
    "corpus_df2 = pd.read_csv('test3.csv', header=None)\n",
    "corpus_df2.columns = ['Category', 'Document']\n",
    "corpus2 = corpus_df2['Document'].values\n",
    "\n",
    "# Clean the testing data\n",
    "norm_corpus2 = normalize_corpus(corpus2)\n",
    "norm_corpus2.shape\n",
    "\n",
    "# fit testing data into w2v model\n",
    "tokenized_corpus2 = [wpt.tokenize(document) for document in norm_corpus2]\n",
    "\n",
    "# get document level embeddings\n",
    "w2v_feature_array2 = averaged_word_vectorizer(corpus=tokenized_corpus2, model=w2v_model,\n",
    "                                              num_features=feature_size)\n",
    "pd.DataFrame(w2v_feature_array2)"
   ]
  },
  {
   "cell_type": "code",
   "execution_count": 23,
   "metadata": {
    "ExecuteTime": {
     "end_time": "2020-03-13T21:20:39.017415Z",
     "start_time": "2020-03-13T21:20:38.720176Z"
    },
    "hidden": true
   },
   "outputs": [
    {
     "name": "stdout",
     "output_type": "stream",
     "text": [
      "(40000, 100)\n",
      "(40000,)\n",
      "(4000, 100)\n",
      "(4000,)\n"
     ]
    }
   ],
   "source": [
    "# Set X_train, y_train, x_test, y_test\n",
    "df = pd.read_csv('train3.csv', header=None)\n",
    "df.columns = ['Category', 'Text']\n",
    "df.head()\n",
    "# create new column and new category_id for Category name\n",
    "df['category_id'] = df['Category'].factorize()[0]\n",
    "\n",
    "# Create a new pandas dataframe \"category_id_df\", use it to iterate over the categories\n",
    "category_id_df = df[['Category', 'category_id']\n",
    "                    ].drop_duplicates().sort_values('category_id')\n",
    "category_id_df\n",
    "# Create a dictionary that can easily convert category names into category_ids\n",
    "category_to_id = dict(category_id_df.values)\n",
    "id_to_category = dict(category_id_df[['category_id', 'Category']].values)\n",
    "id_to_category\n",
    "\n",
    "df2 = pd.read_csv('test3.csv', header=None)\n",
    "df2.columns = ['Category', 'Text']\n",
    "df2.head()\n",
    "df2['category_id'] = df2['Category'].factorize()[0]\n",
    "\n",
    "features = pd.DataFrame(w2v_feature_array).values\n",
    "features2 = pd.DataFrame(w2v_feature_array2).values\n",
    "labels = df.category_id\n",
    "labels2 = df2.category_id\n",
    "\n",
    "X_train = features\n",
    "y_train = labels\n",
    "X_test = features2\n",
    "y_test = labels2\n",
    "print(X_train.shape)\n",
    "print(y_train.shape)\n",
    "print(X_test.shape)\n",
    "print(y_test.shape)"
   ]
  },
  {
   "cell_type": "markdown",
   "metadata": {
    "ExecuteTime": {
     "end_time": "2020-03-08T16:40:45.862085Z",
     "start_time": "2020-03-08T16:40:45.855735Z"
    },
    "hidden": true
   },
   "source": [
    "<mark> 4.Fit SVM model <mark>"
   ]
  },
  {
   "cell_type": "code",
   "execution_count": 24,
   "metadata": {
    "ExecuteTime": {
     "end_time": "2020-03-13T21:21:16.830272Z",
     "start_time": "2020-03-13T21:21:16.826287Z"
    },
    "hidden": true
   },
   "outputs": [],
   "source": [
    "# Set SVM model\n",
    "model = SVC()"
   ]
  },
  {
   "cell_type": "code",
   "execution_count": 25,
   "metadata": {
    "ExecuteTime": {
     "end_time": "2020-03-13T21:23:06.702017Z",
     "start_time": "2020-03-13T21:21:21.082929Z"
    },
    "hidden": true
   },
   "outputs": [
    {
     "name": "stdout",
     "output_type": "stream",
     "text": [
      "Wall time: 1min 45s\n"
     ]
    },
    {
     "data": {
      "text/plain": [
       "SVC(C=1.0, break_ties=False, cache_size=200, class_weight=None, coef0=0.0,\n",
       "    decision_function_shape='ovr', degree=3, gamma='scale', kernel='rbf',\n",
       "    max_iter=-1, probability=False, random_state=None, shrinking=True,\n",
       "    tol=0.001, verbose=False)"
      ]
     },
     "execution_count": 25,
     "metadata": {},
     "output_type": "execute_result"
    }
   ],
   "source": [
    "% % time\n",
    "model.fit(X_train, y_train)"
   ]
  },
  {
   "cell_type": "code",
   "execution_count": 26,
   "metadata": {
    "ExecuteTime": {
     "end_time": "2020-03-13T21:24:52.095713Z",
     "start_time": "2020-03-13T21:24:52.002453Z"
    },
    "hidden": true
   },
   "outputs": [
    {
     "data": {
      "text/plain": [
       "['svmmodel.pkl']"
      ]
     },
     "execution_count": 26,
     "metadata": {},
     "output_type": "execute_result"
    }
   ],
   "source": [
    "# Save the model\n",
    "from sklearn.externals import joblib\n",
    "joblib.dump(model, 'svmmodel.pkl')"
   ]
  },
  {
   "cell_type": "code",
   "execution_count": 30,
   "metadata": {
    "ExecuteTime": {
     "end_time": "2020-03-13T21:42:26.970789Z",
     "start_time": "2020-03-13T21:42:26.963769Z"
    },
    "hidden": true
   },
   "outputs": [
    {
     "name": "stdout",
     "output_type": "stream",
     "text": [
      "Training SVM using Word2Vec cost : 1 minutes 45 seconds\n"
     ]
    }
   ],
   "source": [
    "print(\"Training SVM using Word2Vec cost : 1 minutes 45 seconds\")"
   ]
  },
  {
   "cell_type": "code",
   "execution_count": 27,
   "metadata": {
    "ExecuteTime": {
     "end_time": "2020-03-13T21:27:00.225695Z",
     "start_time": "2020-03-13T21:26:52.000589Z"
    },
    "hidden": true
   },
   "outputs": [],
   "source": [
    "# Make Predictions\n",
    "y_pred = model.predict(X_test)"
   ]
  },
  {
   "cell_type": "code",
   "execution_count": 28,
   "metadata": {
    "ExecuteTime": {
     "end_time": "2020-03-13T21:27:00.896319Z",
     "start_time": "2020-03-13T21:27:00.228340Z"
    },
    "hidden": true
   },
   "outputs": [
    {
     "data": {
      "text/plain": [
       "Text(0.5, 15.0, 'Predicted')"
      ]
     },
     "execution_count": 28,
     "metadata": {},
     "output_type": "execute_result"
    },
    {
     "data": {
      "image/png": "[encoded data removed]",
      "text/plain": [
       "<Figure size 432x288 with 2 Axes>"
      ]
     },
     "metadata": {
      "needs_background": "light"
     },
     "output_type": "display_data"
    }
   ],
   "source": [
    "conf_mat = confusion_matrix(y_test, y_pred)\n",
    "sns.heatmap(conf_mat, annot=True, fmt='d',\n",
    "            xticklabels=category_id_df.Category.values, yticklabels=category_id_df.Category.values)\n",
    "plt.ylabel('Actual')\n",
    "plt.xlabel('Predicted')"
   ]
  },
  {
   "cell_type": "code",
   "execution_count": 29,
   "metadata": {
    "ExecuteTime": {
     "end_time": "2020-03-13T21:27:00.931226Z",
     "start_time": "2020-03-13T21:27:00.899310Z"
    },
    "hidden": true
   },
   "outputs": [
    {
     "name": "stdout",
     "output_type": "stream",
     "text": [
      "accuracy 0.89325\n",
      "              precision    recall  f1-score   support\n",
      "\n",
      "      Sports       0.94      0.97      0.95      1000\n",
      "    Sci/Tech       0.84      0.88      0.86      1000\n",
      "    Business       0.87      0.85      0.86      1000\n",
      "       World       0.92      0.88      0.90      1000\n",
      "\n",
      "    accuracy                           0.89      4000\n",
      "   macro avg       0.89      0.89      0.89      4000\n",
      "weighted avg       0.89      0.89      0.89      4000\n",
      "\n"
     ]
    }
   ],
   "source": [
    "print('accuracy %s' % accuracy_score(y_pred, y_test))\n",
    "print(classification_report(y_test, y_pred,\n",
    "                            target_names=category_id_df['Category'].values))"
   ]
  },
  {
   "cell_type": "markdown",
   "metadata": {
    "heading_collapsed": true,
    "hidden": true
   },
   "source": [
    "### Fitting Model: Logistic regression (Word2Vec features)"
   ]
  },
  {
   "cell_type": "code",
   "execution_count": null,
   "metadata": {
    "hidden": true
   },
   "outputs": [],
   "source": [
    "from sklearn.linear_model import LogisticRegression\n",
    "from sklearn.model_selection import train_test_split\n",
    "from sklearn.metrics import confusion_matrix\n",
    "from sklearn.metrics import classification_report\n",
    "from sklearn.metrics import accuracy_score, confusion_matrix\n",
    "import seaborn as sns\n",
    "import warnings\n",
    "warnings.filterwarnings('ignore')"
   ]
  },
  {
   "cell_type": "code",
   "execution_count": 74,
   "metadata": {
    "ExecuteTime": {
     "end_time": "2020-03-08T16:51:29.669162Z",
     "start_time": "2020-03-08T16:51:24.838158Z"
    },
    "hidden": true
   },
   "outputs": [],
   "source": [
    "model = LogisticRegression(random_state=0)\n",
    "\n",
    "# Train Algorithm\n",
    "model.fit(X_train, y_train)\n",
    "\n",
    "# Make Predictions\n",
    "y_pred = model.predict(X_test)"
   ]
  },
  {
   "cell_type": "code",
   "execution_count": 84,
   "metadata": {
    "ExecuteTime": {
     "end_time": "2020-03-08T17:04:53.384422Z",
     "start_time": "2020-03-08T17:04:50.313647Z"
    },
    "hidden": true
   },
   "outputs": [
    {
     "name": "stdout",
     "output_type": "stream",
     "text": [
      "Wall time: 3.06 s\n"
     ]
    },
    {
     "data": {
      "text/plain": [
       "LogisticRegression(C=1.0, class_weight=None, dual=False, fit_intercept=True,\n",
       "                   intercept_scaling=1, l1_ratio=None, max_iter=100,\n",
       "                   multi_class='auto', n_jobs=None, penalty='l2',\n",
       "                   random_state=0, solver='lbfgs', tol=0.0001, verbose=0,\n",
       "                   warm_start=False)"
      ]
     },
     "execution_count": 84,
     "metadata": {},
     "output_type": "execute_result"
    }
   ],
   "source": [
    "% % time\n",
    "\n",
    "model.fit(X_train, y_train)"
   ]
  },
  {
   "cell_type": "code",
   "execution_count": 92,
   "metadata": {
    "ExecuteTime": {
     "end_time": "2020-03-08T17:07:23.212251Z",
     "start_time": "2020-03-08T17:07:23.206268Z"
    },
    "hidden": true
   },
   "outputs": [
    {
     "name": "stdout",
     "output_type": "stream",
     "text": [
      "Training Logistic regression using Word2Vec cost :3.06 seconds\n"
     ]
    }
   ],
   "source": [
    "print(\"Training Logistic regression using Word2Vec cost :3.06 seconds\")"
   ]
  },
  {
   "cell_type": "code",
   "execution_count": 75,
   "metadata": {
    "ExecuteTime": {
     "end_time": "2020-03-08T16:51:33.820653Z",
     "start_time": "2020-03-08T16:51:33.541398Z"
    },
    "hidden": true
   },
   "outputs": [
    {
     "data": {
      "text/plain": [
       "Text(0.5, 15.0, 'Predicted')"
      ]
     },
     "execution_count": 75,
     "metadata": {},
     "output_type": "execute_result"
    },
    {
     "data": {
      "image/png": "[encoded data removed]",
      "text/plain": [
       "<Figure size 432x288 with 2 Axes>"
      ]
     },
     "metadata": {
      "needs_background": "light"
     },
     "output_type": "display_data"
    }
   ],
   "source": [
    "conf_mat = confusion_matrix(y_test, y_pred)\n",
    "sns.heatmap(conf_mat, annot=True, fmt='d',\n",
    "            xticklabels=category_id_df.Category.values, yticklabels=category_id_df.Category.values)\n",
    "plt.ylabel('Actual')\n",
    "plt.xlabel('Predicted')"
   ]
  },
  {
   "cell_type": "code",
   "execution_count": 76,
   "metadata": {
    "ExecuteTime": {
     "end_time": "2020-03-08T16:51:44.220854Z",
     "start_time": "2020-03-08T16:51:44.197880Z"
    },
    "hidden": true
   },
   "outputs": [
    {
     "name": "stdout",
     "output_type": "stream",
     "text": [
      "accuracy 0.8695\n",
      "              precision    recall  f1-score   support\n",
      "\n",
      "      Sports       0.93      0.95      0.94      1000\n",
      "    Sci/Tech       0.83      0.83      0.83      1000\n",
      "    Business       0.83      0.81      0.82      1000\n",
      "       World       0.89      0.88      0.88      1000\n",
      "\n",
      "    accuracy                           0.87      4000\n",
      "   macro avg       0.87      0.87      0.87      4000\n",
      "weighted avg       0.87      0.87      0.87      4000\n",
      "\n"
     ]
    }
   ],
   "source": [
    "print('accuracy %s' % accuracy_score(y_pred, y_test))\n",
    "print(classification_report(y_test, y_pred,\n",
    "                            target_names=category_id_df['Category'].values))"
   ]
  },
  {
   "cell_type": "markdown",
   "metadata": {
    "heading_collapsed": true
   },
   "source": [
    "## 3) Train Deep Learning model LSTM with word2vec features extracted in step1"
   ]
  },
  {
   "cell_type": "markdown",
   "metadata": {
    "hidden": true
   },
   "source": [
    "<mark>Loading and cleaning training data<mark>"
   ]
  },
  {
   "cell_type": "code",
   "execution_count": 8,
   "metadata": {
    "ExecuteTime": {
     "end_time": "2020-03-13T20:37:59.815082Z",
     "start_time": "2020-03-13T20:37:59.801119Z"
    },
    "hidden": true
   },
   "outputs": [],
   "source": [
    "from nltk.corpus import stopwords\n",
    "from gensim.models import word2vec\n",
    "import string\n",
    "import re\n",
    "import pandas as pd\n",
    "import numpy as np\n",
    "import re\n",
    "import nltk\n",
    "import matplotlib.pyplot as plt\n",
    "from keras.preprocessing.sequence import pad_sequences\n",
    "from keras.utils.vis_utils import plot_model\n",
    "from keras.models import Sequential\n",
    "from keras.layers import *\n",
    "from keras.layers import Dropout\n",
    "from keras.layers.embeddings import Embedding\n",
    "from keras.models import load_model\n",
    "pd.options.display.max_colwidth = 200\n",
    "%matplotlib inline"
   ]
  },
  {
   "cell_type": "code",
   "execution_count": 7,
   "metadata": {
    "ExecuteTime": {
     "end_time": "2020-03-13T20:37:56.975395Z",
     "start_time": "2020-03-13T20:37:53.154616Z"
    },
    "hidden": true
   },
   "outputs": [
    {
     "data": {
      "text/plain": [
       "(40000,)"
      ]
     },
     "execution_count": 7,
     "metadata": {},
     "output_type": "execute_result"
    }
   ],
   "source": [
    "# Load training data\n",
    "corpus_df = pd.read_csv('train3.csv', header=None)\n",
    "corpus_df.columns = ['Category', 'Document']\n",
    "corpus = corpus_df['Document'].values\n",
    "\n",
    "# Cleaning training data\n",
    "wpt = nltk.WordPunctTokenizer()\n",
    "stop_words = nltk.corpus.stopwords.words('english')\n",
    "\n",
    "\n",
    "def normalize_document(doc):\n",
    "    # lower case and remove special characters\\whitespaces\n",
    "    doc = re.sub(r'[^a-zA-Z\\s]', '', doc, re.I | re.A)\n",
    "    doc = doc.lower()\n",
    "    doc = doc.strip()\n",
    "    # tokenize document\n",
    "    tokens = wpt.tokenize(doc)\n",
    "    # filter stopwords out of document\n",
    "    filtered_tokens = [token for token in tokens if token not in stop_words]\n",
    "    # re-create document from filtered tokens\n",
    "    doc = ' '.join(filtered_tokens)\n",
    "    return doc\n",
    "\n",
    "\n",
    "normalize_corpus = np.vectorize(normalize_document)\n",
    "\n",
    "norm_corpus = normalize_corpus(corpus)\n",
    "norm_corpus.shape"
   ]
  },
  {
   "cell_type": "markdown",
   "metadata": {
    "ExecuteTime": {
     "end_time": "2020-03-11T11:26:21.801055Z",
     "start_time": "2020-03-11T11:26:21.794068Z"
    },
    "hidden": true
   },
   "source": [
    "<mark>Building Word2Vec Model<mark>"
   ]
  },
  {
   "cell_type": "code",
   "execution_count": 9,
   "metadata": {
    "ExecuteTime": {
     "end_time": "2020-03-13T20:39:35.622292Z",
     "start_time": "2020-03-13T20:38:07.408341Z"
    },
    "hidden": true
   },
   "outputs": [],
   "source": [
    "# tokenize sentences in corpus\n",
    "wpt = nltk.WordPunctTokenizer()\n",
    "tokenized_corpus = [wpt.tokenize(document) for document in norm_corpus]\n",
    "\n",
    "# Set values for various parameters\n",
    "feature_size = 100    # Word vector dimensionality\n",
    "window_context = 30          # Context window size\n",
    "min_word_count = 1   # Minimum word count\n",
    "sample = 1e-3   # Downsample setting for frequent words\n",
    "\n",
    "# Build model\n",
    "w2v_model = word2vec.Word2Vec(tokenized_corpus, size=feature_size,\n",
    "                              window=window_context, min_count=min_word_count,\n",
    "                              sample=sample, iter=50)"
   ]
  },
  {
   "cell_type": "code",
   "execution_count": 10,
   "metadata": {
    "ExecuteTime": {
     "end_time": "2020-03-13T20:39:35.638260Z",
     "start_time": "2020-03-13T20:39:35.624296Z"
    },
    "hidden": true
   },
   "outputs": [
    {
     "name": "stdout",
     "output_type": "stream",
     "text": [
      "Vocabulary Size: 50182 - Embedding Dim: 100\n"
     ]
    }
   ],
   "source": [
    "# Retrieve the weights from the model.\n",
    "# This is used for initializing the weightsin Keras Embedding layer\n",
    "w2v_weights = w2v_model.wv.vectors\n",
    "vocab_size, embedding_size = w2v_weights.shape\n",
    "\n",
    "print(\"Vocabulary Size: {} - Embedding Dim: {}\".format(vocab_size, embedding_size))"
   ]
  },
  {
   "cell_type": "code",
   "execution_count": 11,
   "metadata": {
    "ExecuteTime": {
     "end_time": "2020-03-13T20:39:35.649229Z",
     "start_time": "2020-03-13T20:39:35.642247Z"
    },
    "hidden": true
   },
   "outputs": [],
   "source": [
    "def word2token(word):\n",
    "    try:\n",
    "        return w2v_model.wv.vocab[word].index\n",
    "    except KeyError:\n",
    "        return 0\n",
    "\n",
    "\n",
    "def token2word(token):\n",
    "    return w2v_model.wv.index2word[token]"
   ]
  },
  {
   "cell_type": "markdown",
   "metadata": {
    "ExecuteTime": {
     "end_time": "2020-03-11T11:28:19.830672Z",
     "start_time": "2020-03-11T11:28:19.824687Z"
    },
    "hidden": true
   },
   "source": [
    "<mark>Prepare training data for LSTM<mark>"
   ]
  },
  {
   "cell_type": "code",
   "execution_count": 12,
   "metadata": {
    "ExecuteTime": {
     "end_time": "2020-03-13T20:39:37.510700Z",
     "start_time": "2020-03-13T20:39:35.652221Z"
    },
    "hidden": true
   },
   "outputs": [
    {
     "name": "stdout",
     "output_type": "stream",
     "text": [
      "(40000, 88)\n",
      "(40000,)\n"
     ]
    }
   ],
   "source": [
    "# Count the categories in the dataset\n",
    "categories, ccount = np.unique(corpus_df.Category, return_counts=True)\n",
    "n_categories = len(categories)\n",
    "\n",
    "# Create an iterator that formats data from the dataset proper for LSTM training\n",
    "\n",
    "# Calculate the maximum sequence length\n",
    "max_length = max([len(s.split()) for s in norm_corpus])\n",
    "\n",
    "# Sequences will be padded or truncated to this length\n",
    "MAX_SEQUENCE_LENGTH = max_length\n",
    "\n",
    "\n",
    "class SequenceIterator:\n",
    "    def __init__(self, dataset, seq_length):\n",
    "        self.dataset = dataset\n",
    "\n",
    "        self.translator = str.maketrans('', '', string.punctuation + '–')\n",
    "        self.categories, self.ccount = np.unique(\n",
    "            dataset.Category, return_counts=True)\n",
    "\n",
    "        self.seq_length = seq_length\n",
    "\n",
    "    def __iter__(self):\n",
    "        for news, cat in zip(self.dataset.iloc[:, 1], self.dataset.iloc[:, 0]):\n",
    "\n",
    "            # Make all characters lower-case\n",
    "            news = news.lower()\n",
    "\n",
    "            # Clean string of all punctuation\n",
    "            news = news.translate(self.translator)\n",
    "\n",
    "            words = np.array([word2token(w) for w in news.split(' ')[\n",
    "                             :self.seq_length] if w != ''])\n",
    "\n",
    "            yield (words, cat)\n",
    "\n",
    "\n",
    "sequences = SequenceIterator(corpus_df, MAX_SEQUENCE_LENGTH)\n",
    "\n",
    "# Used for generating the labels in the set\n",
    "cat_dict = {k: v for k, v in zip(\n",
    "    sequences.categories, range(len(sequences.categories)))}\n",
    "\n",
    "set_x = []\n",
    "set_y = []\n",
    "for w, c in sequences:\n",
    "    set_x.append(w)\n",
    "    set_y.append(cat_dict[c])\n",
    "\n",
    "# Padding sequences with 0.\n",
    "set_x = pad_sequences(set_x, maxlen=MAX_SEQUENCE_LENGTH,\n",
    "                      padding='pre', value=0)\n",
    "set_y = np.array(set_y)\n",
    "\n",
    "print(set_x.shape)\n",
    "print(set_y.shape)"
   ]
  },
  {
   "cell_type": "markdown",
   "metadata": {
    "hidden": true
   },
   "source": [
    "<mark>Prepare testing data for LSTM<mark>"
   ]
  },
  {
   "cell_type": "code",
   "execution_count": 13,
   "metadata": {
    "ExecuteTime": {
     "end_time": "2020-03-13T20:39:37.549614Z",
     "start_time": "2020-03-13T20:39:37.513669Z"
    },
    "hidden": true
   },
   "outputs": [],
   "source": [
    "corpus_df2 = pd.read_csv('test3.csv', header=None)\n",
    "corpus_df2.columns = ['Category', 'Document']"
   ]
  },
  {
   "cell_type": "code",
   "execution_count": 14,
   "metadata": {
    "ExecuteTime": {
     "end_time": "2020-03-13T20:39:37.742055Z",
     "start_time": "2020-03-13T20:39:37.552563Z"
    },
    "hidden": true
   },
   "outputs": [
    {
     "name": "stdout",
     "output_type": "stream",
     "text": [
      "(4000, 88)\n",
      "(4000,)\n"
     ]
    }
   ],
   "source": [
    "# Sequences will be padded or truncated to this length\n",
    "MAX_SEQUENCE_LENGTH = 88\n",
    "\n",
    "\n",
    "class SequenceIterator:\n",
    "    def __init__(self, dataset, seq_length):\n",
    "        self.dataset = dataset\n",
    "\n",
    "        self.translator = str.maketrans('', '', string.punctuation + '–')\n",
    "        self.categories, self.ccount = np.unique(\n",
    "            dataset.Category, return_counts=True)\n",
    "\n",
    "        self.seq_length = seq_length\n",
    "\n",
    "    def __iter__(self):\n",
    "        for news, cat in zip(self.dataset.iloc[:, 1], self.dataset.iloc[:, 0]):\n",
    "\n",
    "            # Make all characters lower-case\n",
    "            news = news.lower()\n",
    "\n",
    "            # Clean string of all punctuation\n",
    "            news = news.translate(self.translator)\n",
    "\n",
    "            words = np.array([word2token(w) for w in news.split(' ')[\n",
    "                             :self.seq_length] if w != ''])\n",
    "\n",
    "            yield (words, cat)\n",
    "\n",
    "\n",
    "sequences = SequenceIterator(corpus_df2, MAX_SEQUENCE_LENGTH)\n",
    "\n",
    "# Used for generating the labels in the set\n",
    "cat_dict = {k: v for k, v in zip(\n",
    "    sequences.categories, range(len(sequences.categories)))}\n",
    "\n",
    "set_x2 = []\n",
    "set_y2 = []\n",
    "for w, c in sequences:\n",
    "    set_x2.append(w)\n",
    "    set_y2.append(cat_dict[c])\n",
    "\n",
    "# Padding sequences with 0.\n",
    "set_x2 = pad_sequences(\n",
    "    set_x2, maxlen=MAX_SEQUENCE_LENGTH, padding='pre', value=0)\n",
    "set_y2 = np.array(set_y2)\n",
    "\n",
    "print(set_x2.shape)\n",
    "print(set_y2.shape)"
   ]
  },
  {
   "cell_type": "markdown",
   "metadata": {
    "ExecuteTime": {
     "end_time": "2020-03-11T11:50:05.528063Z",
     "start_time": "2020-03-11T11:50:05.520048Z"
    },
    "hidden": true
   },
   "source": [
    "<mark>Set training & testing data for LSTM<mark>"
   ]
  },
  {
   "cell_type": "code",
   "execution_count": 15,
   "metadata": {
    "ExecuteTime": {
     "end_time": "2020-03-13T20:39:37.752030Z",
     "start_time": "2020-03-13T20:39:37.745074Z"
    },
    "hidden": true
   },
   "outputs": [
    {
     "name": "stdout",
     "output_type": "stream",
     "text": [
      "Train Shapes - X: (40000, 88) - Y: (40000,)\n",
      "Test Shapes - X: (4000, 88) - Y: (4000,)\n"
     ]
    }
   ],
   "source": [
    "train_x = set_x\n",
    "train_y = set_y\n",
    "test_x = set_x2\n",
    "test_y = set_y2\n",
    "\n",
    "print(\"Train Shapes - X: {} - Y: {}\".format(train_x.shape, train_y.shape))\n",
    "print(\"Test Shapes - X: {} - Y: {}\".format(test_x.shape, test_y.shape))"
   ]
  },
  {
   "cell_type": "code",
   "execution_count": 16,
   "metadata": {
    "ExecuteTime": {
     "end_time": "2020-03-13T20:41:24.923394Z",
     "start_time": "2020-03-13T20:41:24.917451Z"
    },
    "hidden": true
   },
   "outputs": [
    {
     "data": {
      "text/plain": [
       "array([2, 1, 0, ..., 3, 1, 3])"
      ]
     },
     "execution_count": 16,
     "metadata": {},
     "output_type": "execute_result"
    }
   ],
   "source": [
    "test_y"
   ]
  },
  {
   "cell_type": "markdown",
   "metadata": {
    "ExecuteTime": {
     "end_time": "2020-03-11T11:53:00.619928Z",
     "start_time": "2020-03-11T11:53:00.614931Z"
    },
    "hidden": true
   },
   "source": [
    "<mark>Define LSTM Model<mark>"
   ]
  },
  {
   "cell_type": "code",
   "execution_count": 45,
   "metadata": {
    "ExecuteTime": {
     "end_time": "2020-03-12T23:51:29.178320Z",
     "start_time": "2020-03-12T23:51:25.027947Z"
    },
    "hidden": true
   },
   "outputs": [
    {
     "name": "stdout",
     "output_type": "stream",
     "text": [
      "_________________________________________________________________\n",
      "Layer (type)                 Output Shape              Param #   \n",
      "=================================================================\n",
      "embedding_5 (Embedding)      (None, 88, 100)           5018200   \n",
      "_________________________________________________________________\n",
      "dropout_7 (Dropout)          (None, 88, 100)           0         \n",
      "_________________________________________________________________\n",
      "bidirectional_5 (Bidirection (None, 200)               160800    \n",
      "_________________________________________________________________\n",
      "dropout_8 (Dropout)          (None, 200)               0         \n",
      "_________________________________________________________________\n",
      "dense_5 (Dense)              (None, 4)                 804       \n",
      "=================================================================\n",
      "Total params: 5,179,804\n",
      "Trainable params: 161,604\n",
      "Non-trainable params: 5,018,200\n",
      "_________________________________________________________________\n",
      "None\n"
     ]
    }
   ],
   "source": [
    "model = Sequential()\n",
    "\n",
    "# Keras Embedding layer with Word2Vec weights initialization\n",
    "model.add(Embedding(input_dim=vocab_size,\n",
    "                    output_dim=embedding_size,\n",
    "                    weights=[w2v_weights],\n",
    "                    input_length=MAX_SEQUENCE_LENGTH,\n",
    "                    mask_zero=True,\n",
    "                    trainable=False))\n",
    "model.add(Dropout(0.2))\n",
    "model.add(Bidirectional(LSTM(100)))\n",
    "model.add(Dropout(0.2))\n",
    "model.add(Dense(n_categories, activation='softmax'))\n",
    "\n",
    "model.compile(optimizer='adam',\n",
    "              loss='sparse_categorical_crossentropy', metrics=['accuracy'])\n",
    "\n",
    "plot_model(model, to_file='model.png', show_shapes=True)\n",
    "\n",
    "print(model.summary())"
   ]
  },
  {
   "cell_type": "markdown",
   "metadata": {
    "hidden": true
   },
   "source": [
    "<mark>Fitting LSTM Model<mark>"
   ]
  },
  {
   "cell_type": "code",
   "execution_count": 11,
   "metadata": {
    "ExecuteTime": {
     "end_time": "2020-03-11T22:50:47.962595Z",
     "start_time": "2020-03-11T22:07:58.232968Z"
    },
    "hidden": true
   },
   "outputs": [
    {
     "name": "stdout",
     "output_type": "stream",
     "text": [
      "WARNING:tensorflow:From D:\\Anaconda\\envs\\tf5-nogpu\\lib\\site-packages\\keras\\backend\\tensorflow_backend.py:986: The name tf.assign_add is deprecated. Please use tf.compat.v1.assign_add instead.\n",
      "\n",
      "WARNING:tensorflow:From D:\\Anaconda\\envs\\tf5-nogpu\\lib\\site-packages\\keras\\backend\\tensorflow_backend.py:973: The name tf.assign is deprecated. Please use tf.compat.v1.assign instead.\n",
      "\n",
      "Epoch 1/5\n",
      "40000/40000 [==============================] - 240s 6ms/step - loss: 0.4077 - acc: 0.8569\n",
      "Epoch 2/5\n",
      "40000/40000 [==============================] - 345s 9ms/step - loss: 0.2985 - acc: 0.8960\n",
      "Epoch 3/5\n",
      "40000/40000 [==============================] - 472s 12ms/step - loss: 0.2643 - acc: 0.9066\n",
      "Epoch 4/5\n",
      "40000/40000 [==============================] - 664s 17ms/step - loss: 0.2378 - acc: 0.9140\n",
      "Epoch 5/5\n",
      "40000/40000 [==============================] - 846s 21ms/step - loss: 0.2137 - acc: 0.9221\n",
      "Wall time: 42min 49s\n"
     ]
    },
    {
     "data": {
      "text/plain": [
       "<keras.callbacks.History at 0x2d74d7c0a88>"
      ]
     },
     "execution_count": 11,
     "metadata": {},
     "output_type": "execute_result"
    }
   ],
   "source": [
    "% % time\n",
    "\n",
    "model.fit(train_x, train_y, epochs=5, batch_size=64, verbose=1)"
   ]
  },
  {
   "cell_type": "code",
   "execution_count": 43,
   "metadata": {
    "ExecuteTime": {
     "end_time": "2020-03-12T23:30:23.112121Z",
     "start_time": "2020-03-12T23:30:23.037318Z"
    },
    "hidden": true
   },
   "outputs": [
    {
     "name": "stdout",
     "output_type": "stream",
     "text": [
      "Training LSTM model using Word2Vec features takes : 42 minutes 49 seconds\n"
     ]
    }
   ],
   "source": [
    "print(\"Training LSTM model using Word2Vec features takes : 42 minutes 49 seconds\")"
   ]
  },
  {
   "cell_type": "code",
   "execution_count": 12,
   "metadata": {
    "ExecuteTime": {
     "end_time": "2020-03-11T22:53:56.032083Z",
     "start_time": "2020-03-11T22:53:52.949193Z"
    },
    "hidden": true
   },
   "outputs": [],
   "source": [
    "model.save('model.h5')  # creates a HDF5 file 'model.h5'"
   ]
  },
  {
   "cell_type": "markdown",
   "metadata": {
    "hidden": true
   },
   "source": [
    "<mark>Testing data accuracy<mark>"
   ]
  },
  {
   "cell_type": "code",
   "execution_count": 15,
   "metadata": {
    "ExecuteTime": {
     "end_time": "2020-03-11T22:55:23.992969Z",
     "start_time": "2020-03-11T22:55:10.261553Z"
    },
    "hidden": true
   },
   "outputs": [
    {
     "name": "stdout",
     "output_type": "stream",
     "text": [
      "4000/4000 [==============================] - 14s 3ms/step\n",
      "Test Accuracy: 89.28%\n"
     ]
    }
   ],
   "source": [
    "score = model.evaluate(test_x,  test_y,\n",
    "                       batch_size=32, verbose=1)\n",
    "\n",
    "print(\"Test Accuracy: %.2f%%\" % (score[1]*100))"
   ]
  },
  {
   "cell_type": "markdown",
   "metadata": {
    "heading_collapsed": true
   },
   "source": [
    "## 4) Analyse and compare the performance and training time results for both ML and DL models"
   ]
  },
  {
   "cell_type": "markdown",
   "metadata": {
    "hidden": true
   },
   "source": [
    "<mark>Performance of ML & DL <mark>"
   ]
  },
  {
   "cell_type": "code",
   "execution_count": 31,
   "metadata": {
    "ExecuteTime": {
     "end_time": "2020-03-13T21:44:44.796144Z",
     "start_time": "2020-03-13T21:44:44.617404Z"
    },
    "hidden": true
   },
   "outputs": [
    {
     "data": {
      "image/png": "[encoded data removed]",
      "text/plain": [
       "<Figure size 432x288 with 1 Axes>"
      ]
     },
     "metadata": {
      "needs_background": "light"
     },
     "output_type": "display_data"
    }
   ],
   "source": [
    "import matplotlib.pyplot as plt\n",
    "x = [\"ML\", \"DL\"]\n",
    "y = [89.32, 89.28]\n",
    "\n",
    "\n",
    "plt.bar(x, y, width=0.65, color=['orange', 'mediumseagreen'])\n",
    "plt.title(\"Accuracy\")\n",
    "plt.ylim(0, 100)\n",
    "plt.ylabel('Percentage')\n",
    "\n",
    "for a, b in zip(x, y):\n",
    "\n",
    "    plt.text(a, b+0.05, '%1.2f%%' % b, ha='center', va='bottom', fontsize=12)"
   ]
  },
  {
   "cell_type": "markdown",
   "metadata": {
    "ExecuteTime": {
     "end_time": "2020-03-11T23:19:34.849659Z",
     "start_time": "2020-03-11T23:19:34.789819Z"
    },
    "hidden": true
   },
   "source": [
    "<mark> Training time of ML & DL <mark>"
   ]
  },
  {
   "cell_type": "code",
   "execution_count": 32,
   "metadata": {
    "ExecuteTime": {
     "end_time": "2020-03-13T21:45:52.318410Z",
     "start_time": "2020-03-13T21:45:52.161826Z"
    },
    "hidden": true
   },
   "outputs": [
    {
     "data": {
      "image/png": "[encoded data removed]",
      "text/plain": [
       "<Figure size 432x288 with 1 Axes>"
      ]
     },
     "metadata": {
      "needs_background": "light"
     },
     "output_type": "display_data"
    }
   ],
   "source": [
    "import matplotlib.pyplot as plt\n",
    "x = [\"ML\", \"DL\"]\n",
    "y = [2, 43]\n",
    "\n",
    "\n",
    "plt.bar(x, y, width=0.65, color=['slateblue', 'mediumvioletred'])\n",
    "plt.title(\"Training time\")\n",
    "plt.ylim(0, 50)\n",
    "plt.ylabel('Minutes')\n",
    "\n",
    "for a, b in zip(x, y):\n",
    "\n",
    "    plt.text(a, b+0.05, '%0.f' % b, ha='center', va='bottom', fontsize=12)"
   ]
  },
  {
   "cell_type": "markdown",
   "metadata": {
    "heading_collapsed": true
   },
   "source": [
    "## 5) Build a text generation model using topic ‘Sports’. Use it to generate 100 samples"
   ]
  },
  {
   "cell_type": "markdown",
   "metadata": {
    "heading_collapsed": true,
    "hidden": true
   },
   "source": [
    "### Language Model Design"
   ]
  },
  {
   "cell_type": "code",
   "execution_count": 1,
   "metadata": {
    "ExecuteTime": {
     "end_time": "2020-03-15T18:53:59.286100Z",
     "start_time": "2020-03-15T18:53:59.282119Z"
    },
    "hidden": true
   },
   "outputs": [],
   "source": [
    "import string\n",
    "import re"
   ]
  },
  {
   "cell_type": "markdown",
   "metadata": {
    "hidden": true
   },
   "source": [
    "<mark>Load Text<mark>"
   ]
  },
  {
   "cell_type": "code",
   "execution_count": 2,
   "metadata": {
    "ExecuteTime": {
     "end_time": "2020-03-15T18:54:02.477833Z",
     "start_time": "2020-03-15T18:54:01.744302Z"
    },
    "hidden": true
   },
   "outputs": [
    {
     "name": "stdout",
     "output_type": "stream",
     "text": [
      "AP - Washington Wizards point guard Steve Blake will miss the first month of the season after injuring his ankle in a pickup game.Baseball fans across Japan Saturday honored Ichiro Suzuki, the Seattle\n"
     ]
    }
   ],
   "source": [
    "import pandas as pd\n",
    "# 5000 samples of news\n",
    "corpus_df = pd.read_csv('train9.csv', header=None)\n",
    "corpus_df.columns = ['Category', 'Document']\n",
    "corpus_df = corpus_df[corpus_df['Category'] == 'Sports']\n",
    "corpus_df.head()\n",
    "corpus = corpus_df['Document'].values\n",
    "doc = corpus.tolist()\n",
    "str = ''\n",
    "doc = str.join(doc)\n",
    "print(doc[:200])"
   ]
  },
  {
   "cell_type": "markdown",
   "metadata": {
    "hidden": true
   },
   "source": [
    "<mark>Clean Text<mark>"
   ]
  },
  {
   "cell_type": "code",
   "execution_count": 3,
   "metadata": {
    "ExecuteTime": {
     "end_time": "2020-03-15T18:54:15.629235Z",
     "start_time": "2020-03-15T18:54:15.623251Z"
    },
    "hidden": true
   },
   "outputs": [],
   "source": [
    "# turn a doc into clean tokens\n",
    "def clean_doc(doc):\n",
    "    # replace '--' with a space ' '\n",
    "    doc = doc.replace('--', ' ')\n",
    "    # split into tokens by white space\n",
    "    tokens = doc.split()\n",
    "    # prepare regex for char filtering\n",
    "    re_punc = re.compile('[%s]' % re.escape(string.punctuation))\n",
    "    # remove punctuation from each word\n",
    "    tokens = [re_punc.sub('', w) for w in tokens]\n",
    "    # remove remaining tokens that are not alphabetic\n",
    "    tokens = [word for word in tokens if word.isalpha()]\n",
    "    # make lower case\n",
    "    tokens = [word.lower() for word in tokens]\n",
    "    return tokens"
   ]
  },
  {
   "cell_type": "code",
   "execution_count": 4,
   "metadata": {
    "ExecuteTime": {
     "end_time": "2020-03-15T18:54:18.724471Z",
     "start_time": "2020-03-15T18:54:18.670617Z"
    },
    "hidden": true
   },
   "outputs": [
    {
     "name": "stdout",
     "output_type": "stream",
     "text": [
      "['ap', 'washington', 'wizards', 'point', 'guard', 'steve', 'blake', 'will', 'miss', 'the', 'first', 'month', 'of', 'the', 'season', 'after', 'injuring', 'his', 'ankle', 'in', 'a', 'pickup', 'gamebaseball', 'fans', 'across', 'japan', 'saturday', 'honored', 'ichiro', 'suzuki', 'the', 'seattle', 'mariners', 'japanese', 'player', 'who', 'broke', 'major', 'league', 'baseball', 'record', 'for', 'a', 'season', 'hitsit', 'was', 'two', 'years', 'ago', 'when', 'ernie', 'els', 'explained', 'how', 'it', 'was', 'possible', 'that', 'tiger', 'woods', 'could', 'be', 'overtaken', 'in', 'the', 'world', 'rankings', 'of', 'course', 'at', 'the', 'time', 'the', 'south', 'african', 'what', 'appeared', 'to', 'be', 'a', 'mismatch', 'took', 'a', 'turn', 'for', 'the', 'competitive', 'in', 'the', 'second', 'set', 'before', 'heninhardenne', 'regrouped', 'to', 'win', 'serena', 'williams', 'blamed', 'a', 'headache', 'for', 'her', 'poor', 'play', 'in', 'a', 'upset', 'loss', 'to', 'qualifier', 'alina', 'jidkova', 'in', 'the', 'second', 'round', 'of', 'the', 'generali', 'ladies', 'openthe', 'connecticut', 'sun', 'had', 'an', 'off', 'game', 'last', 'saturday', 'when', 'they', 'dropped', 'the', 'opener', 'of', 'their', 'wnba', 'eastern', 'conference', 'semifinal', 'series', 'against', 'the', 'washington', 'mystics', 'but', 'the', 'sun', 'came', 'back', 'to', 'even', 'the', 'series', 'monday', 'and', 'it', 'was', 'the', 'mystics', 'who', 'had', 'the', 'off', 'gamethe', 'supreme', 'court', 'has', 'stayed', 'the', 'election', 'and', 'appointment', 'of', 'jagmohan', 'dalmiya', 'as', 'patroninchief', 'of', 'the', 'bcci', 'the', 'court', 'has', 'also', 'stayed', 'the', 'appointment', 'of', 'justice', 's', 'mohan', 'as', 'bcci', 'administrator', 'and', 'restored', 'quarterback', 'jason']\n",
      "\n",
      "Total Tokens: 36314\n",
      "Unique Tokens: 7648\n"
     ]
    }
   ],
   "source": [
    "# clean document\n",
    "tokens = clean_doc(doc)\n",
    "print(tokens[:200])\n",
    "print()\n",
    "print(f'Total Tokens: {len(tokens)}')\n",
    "print(f'Unique Tokens: {len(set(tokens))}')"
   ]
  },
  {
   "cell_type": "code",
   "execution_count": 5,
   "metadata": {
    "ExecuteTime": {
     "end_time": "2020-03-15T18:54:25.836718Z",
     "start_time": "2020-03-15T18:54:25.735991Z"
    },
    "hidden": true
   },
   "outputs": [
    {
     "name": "stdout",
     "output_type": "stream",
     "text": [
      "Total Sequences: 36263\n"
     ]
    }
   ],
   "source": [
    "# organize into sequences of tokens\n",
    "length = 50 + 1\n",
    "sequences = list()\n",
    "for i in range(length, len(tokens)):\n",
    "    # select sequence of tokens\n",
    "    seq = tokens[i - length:i]\n",
    "    # convert into a line\n",
    "    line = ' '.join(seq)\n",
    "    # store\n",
    "    sequences.append(line)\n",
    "print('Total Sequences: %d' % len(sequences))"
   ]
  },
  {
   "cell_type": "markdown",
   "metadata": {
    "ExecuteTime": {
     "end_time": "2020-03-13T22:13:06.486222Z",
     "start_time": "2020-03-13T22:13:06.478243Z"
    },
    "hidden": true
   },
   "source": [
    "<mark>Save Clean Text<mark>"
   ]
  },
  {
   "cell_type": "code",
   "execution_count": 6,
   "metadata": {
    "ExecuteTime": {
     "end_time": "2020-03-15T18:54:52.513191Z",
     "start_time": "2020-03-15T18:54:52.383536Z"
    },
    "hidden": true
   },
   "outputs": [
    {
     "name": "stdout",
     "output_type": "stream",
     "text": [
      "Total Sequences: 36263\n"
     ]
    }
   ],
   "source": [
    "# organize into sequences of tokens\n",
    "length = 50 + 1\n",
    "sequences = list()\n",
    "for i in range(length, len(tokens)):\n",
    "    # select sequence of tokens\n",
    "    seq = tokens[i - length:i]\n",
    "    # convert into a line\n",
    "    line = ' '.join(seq)\n",
    "    # store\n",
    "    sequences.append(line)\n",
    "print('Total Sequences: %d' % len(sequences))"
   ]
  },
  {
   "cell_type": "code",
   "execution_count": 7,
   "metadata": {
    "ExecuteTime": {
     "end_time": "2020-03-15T18:54:54.925407Z",
     "start_time": "2020-03-15T18:54:54.919423Z"
    },
    "hidden": true
   },
   "outputs": [],
   "source": [
    "# save tokens to file, one dialog per line\n",
    "def save_doc(lines, filename):\n",
    "    data = '\\n'.join(lines)\n",
    "    file = open(filename, 'w')\n",
    "    file.write(data)\n",
    "    file.close()"
   ]
  },
  {
   "cell_type": "code",
   "execution_count": 8,
   "metadata": {
    "ExecuteTime": {
     "end_time": "2020-03-15T18:55:07.962745Z",
     "start_time": "2020-03-15T18:55:07.870990Z"
    },
    "hidden": true
   },
   "outputs": [],
   "source": [
    "# save sequences to file\n",
    "out_filename = 'sports_sequences.txt'\n",
    "save_doc(sequences, out_filename)"
   ]
  },
  {
   "cell_type": "markdown",
   "metadata": {
    "heading_collapsed": true,
    "hidden": true
   },
   "source": [
    "### Train Language Model"
   ]
  },
  {
   "cell_type": "code",
   "execution_count": 28,
   "metadata": {
    "ExecuteTime": {
     "end_time": "2020-03-15T19:01:15.911843Z",
     "start_time": "2020-03-15T19:01:15.902870Z"
    },
    "hidden": true
   },
   "outputs": [],
   "source": [
    "from numpy import array\n",
    "from pickle import dump\n",
    "import numpy as np\n",
    "import pandas as pd\n",
    "from keras.preprocessing.text import Tokenizer\n",
    "from keras.utils.vis_utils import plot_model\n",
    "from keras.utils import to_categorical\n",
    "from keras.models import Sequential\n",
    "from keras.layers import Dense\n",
    "from keras.layers import LSTM\n",
    "from keras.layers import Embedding"
   ]
  },
  {
   "cell_type": "markdown",
   "metadata": {
    "hidden": true
   },
   "source": [
    "<mark>Load Sequences<mark>"
   ]
  },
  {
   "cell_type": "code",
   "execution_count": 10,
   "metadata": {
    "ExecuteTime": {
     "end_time": "2020-03-15T18:55:20.403724Z",
     "start_time": "2020-03-15T18:55:20.396744Z"
    },
    "hidden": true
   },
   "outputs": [],
   "source": [
    "# load doc into memory\n",
    "def load_doc(filename):\n",
    "    # open the file as read only\n",
    "    file = open(filename, 'r')\n",
    "    # read all text\n",
    "    text = file.read()\n",
    "    # close the file\n",
    "    file.close()\n",
    "    return text"
   ]
  },
  {
   "cell_type": "code",
   "execution_count": 11,
   "metadata": {
    "ExecuteTime": {
     "end_time": "2020-03-15T18:55:21.280797Z",
     "start_time": "2020-03-15T18:55:21.134178Z"
    },
    "hidden": true
   },
   "outputs": [],
   "source": [
    "# load\n",
    "in_filename = 'sports_sequences.txt'\n",
    "doc = load_doc(in_filename)\n",
    "lines = doc.split('\\n')"
   ]
  },
  {
   "cell_type": "markdown",
   "metadata": {
    "hidden": true
   },
   "source": [
    "<mark>Encode Sequence<mark>"
   ]
  },
  {
   "cell_type": "code",
   "execution_count": 12,
   "metadata": {
    "ExecuteTime": {
     "end_time": "2020-03-15T18:55:30.101170Z",
     "start_time": "2020-03-15T18:55:26.526271Z"
    },
    "hidden": true
   },
   "outputs": [],
   "source": [
    "# integer encode sequences of words\n",
    "tokenizer = Tokenizer()\n",
    "tokenizer.fit_on_texts(lines)\n",
    "sequences = tokenizer.texts_to_sequences(lines)"
   ]
  },
  {
   "cell_type": "code",
   "execution_count": 13,
   "metadata": {
    "ExecuteTime": {
     "end_time": "2020-03-15T18:55:30.109687Z",
     "start_time": "2020-03-15T18:55:30.103702Z"
    },
    "hidden": true
   },
   "outputs": [
    {
     "name": "stdout",
     "output_type": "stream",
     "text": [
      "7648\n"
     ]
    }
   ],
   "source": [
    "# vocabulary size\n",
    "vocab_size = len(tokenizer.word_index) + 1\n",
    "print(vocab_size)"
   ]
  },
  {
   "cell_type": "markdown",
   "metadata": {
    "hidden": true
   },
   "source": [
    "<mark>Sequence Inputs and Output<mark>"
   ]
  },
  {
   "cell_type": "code",
   "execution_count": 14,
   "metadata": {
    "ExecuteTime": {
     "end_time": "2020-03-15T18:55:34.099516Z",
     "start_time": "2020-03-15T18:55:33.829203Z"
    },
    "hidden": true
   },
   "outputs": [
    {
     "name": "stdout",
     "output_type": "stream",
     "text": [
      "(36263, 50)\n",
      "(36263, 7648)\n"
     ]
    }
   ],
   "source": [
    "# separate into input and output\n",
    "sequences = array(sequences)\n",
    "X, y = sequences[:, :-1], sequences[:, -1]\n",
    "y = to_categorical(y, num_classes=vocab_size)\n",
    "seq_length = X.shape[1]\n",
    "print(X.shape)\n",
    "print(y.shape)"
   ]
  },
  {
   "cell_type": "markdown",
   "metadata": {
    "hidden": true
   },
   "source": [
    "<mark>Fit Model<mark>"
   ]
  },
  {
   "cell_type": "code",
   "execution_count": 15,
   "metadata": {
    "ExecuteTime": {
     "end_time": "2020-03-15T18:55:39.333546Z",
     "start_time": "2020-03-15T18:55:39.325568Z"
    },
    "hidden": true
   },
   "outputs": [],
   "source": [
    "# define the model\n",
    "def define_model(vocab_size, seq_length):\n",
    "    model = Sequential()\n",
    "    model.add(Embedding(vocab_size, 50, input_length=seq_length))\n",
    "    model.add(LSTM(100, return_sequences=True))\n",
    "    model.add(LSTM(100))\n",
    "    model.add(Dense(100, activation='relu'))\n",
    "    model.add(Dense(vocab_size, activation='softmax'))\n",
    "    # compile network\n",
    "    model.compile(loss='categorical_crossentropy',\n",
    "                  optimizer='adam',\n",
    "                  metrics=['accuracy'])\n",
    "    # summarize defined model\n",
    "    model.summary()\n",
    "    plot_model(model, to_file='model_g.png', show_shapes=True)\n",
    "    return model"
   ]
  },
  {
   "cell_type": "code",
   "execution_count": 16,
   "metadata": {
    "ExecuteTime": {
     "end_time": "2020-03-15T18:55:43.835189Z",
     "start_time": "2020-03-15T18:55:41.471511Z"
    },
    "hidden": true
   },
   "outputs": [
    {
     "name": "stdout",
     "output_type": "stream",
     "text": [
      "WARNING:tensorflow:From D:\\Anaconda\\envs\\tf5-nogpu\\lib\\site-packages\\keras\\backend\\tensorflow_backend.py:74: The name tf.get_default_graph is deprecated. Please use tf.compat.v1.get_default_graph instead.\n",
      "\n",
      "WARNING:tensorflow:From D:\\Anaconda\\envs\\tf5-nogpu\\lib\\site-packages\\keras\\backend\\tensorflow_backend.py:517: The name tf.placeholder is deprecated. Please use tf.compat.v1.placeholder instead.\n",
      "\n",
      "WARNING:tensorflow:From D:\\Anaconda\\envs\\tf5-nogpu\\lib\\site-packages\\keras\\backend\\tensorflow_backend.py:4138: The name tf.random_uniform is deprecated. Please use tf.random.uniform instead.\n",
      "\n",
      "WARNING:tensorflow:From D:\\Anaconda\\envs\\tf5-nogpu\\lib\\site-packages\\keras\\optimizers.py:790: The name tf.train.Optimizer is deprecated. Please use tf.compat.v1.train.Optimizer instead.\n",
      "\n",
      "WARNING:tensorflow:From D:\\Anaconda\\envs\\tf5-nogpu\\lib\\site-packages\\keras\\backend\\tensorflow_backend.py:3295: The name tf.log is deprecated. Please use tf.math.log instead.\n",
      "\n",
      "_________________________________________________________________\n",
      "Layer (type)                 Output Shape              Param #   \n",
      "=================================================================\n",
      "embedding_1 (Embedding)      (None, 50, 50)            382400    \n",
      "_________________________________________________________________\n",
      "lstm_1 (LSTM)                (None, 50, 100)           60400     \n",
      "_________________________________________________________________\n",
      "lstm_2 (LSTM)                (None, 100)               80400     \n",
      "_________________________________________________________________\n",
      "dense_1 (Dense)              (None, 100)               10100     \n",
      "_________________________________________________________________\n",
      "dense_2 (Dense)              (None, 7648)              772448    \n",
      "=================================================================\n",
      "Total params: 1,305,748\n",
      "Trainable params: 1,305,748\n",
      "Non-trainable params: 0\n",
      "_________________________________________________________________\n"
     ]
    }
   ],
   "source": [
    "# define model\n",
    "model = define_model(vocab_size, seq_length)"
   ]
  },
  {
   "cell_type": "markdown",
   "metadata": {
    "hidden": true
   },
   "source": [
    "<mark>Save Model<mark>"
   ]
  },
  {
   "cell_type": "code",
   "execution_count": 17,
   "metadata": {
    "ExecuteTime": {
     "end_time": "2020-03-15T18:56:21.550987Z",
     "start_time": "2020-03-15T18:56:21.546989Z"
    },
    "hidden": true
   },
   "outputs": [],
   "source": [
    "answer = input(\n",
    "    \"Are you sure you want to train the model. It will take a long time. Type 'Yes' to continue. Anything else to skip.\")\n",
    "if answer == 'Yes':\n",
    "    # define model\n",
    "    model = define_model(vocab_size, seq_length)\n",
    "    # fit model\n",
    "    model.fit(X, y, batch_size=128, epochs=50)\n",
    "    # save the model to file\n",
    "    model.save('model2.h5')\n",
    "    # save the tokenizer\n",
    "    dump(tokenizer, open('tokenizer.pkl', 'wb'))"
   ]
  },
  {
   "cell_type": "markdown",
   "metadata": {
    "heading_collapsed": true,
    "hidden": true
   },
   "source": [
    "### Use Language Model"
   ]
  },
  {
   "cell_type": "code",
   "execution_count": 18,
   "metadata": {
    "ExecuteTime": {
     "end_time": "2020-03-15T18:56:42.462648Z",
     "start_time": "2020-03-15T18:56:42.457661Z"
    },
    "hidden": true
   },
   "outputs": [],
   "source": [
    "from random import randint\n",
    "from pickle import load\n",
    "from keras.models import load_model\n",
    "from keras.preprocessing.sequence import pad_sequences"
   ]
  },
  {
   "cell_type": "markdown",
   "metadata": {
    "ExecuteTime": {
     "end_time": "2020-03-13T22:37:23.157238Z",
     "start_time": "2020-03-13T22:37:23.149263Z"
    },
    "hidden": true
   },
   "source": [
    "<mark>Load Data<mark>"
   ]
  },
  {
   "cell_type": "code",
   "execution_count": 19,
   "metadata": {
    "ExecuteTime": {
     "end_time": "2020-03-15T18:56:46.181138Z",
     "start_time": "2020-03-15T18:56:46.175156Z"
    },
    "hidden": true
   },
   "outputs": [],
   "source": [
    "# load doc into memory\n",
    "def load_doc(filename):\n",
    "    # open the file as read only\n",
    "    file = open(filename, 'r')\n",
    "    # read all text\n",
    "    text = file.read()\n",
    "    # close the file\n",
    "    file.close()\n",
    "    return text"
   ]
  },
  {
   "cell_type": "code",
   "execution_count": 20,
   "metadata": {
    "ExecuteTime": {
     "end_time": "2020-03-15T18:56:48.825884Z",
     "start_time": "2020-03-15T18:56:48.704208Z"
    },
    "hidden": true
   },
   "outputs": [],
   "source": [
    "# load cleaned text sequences\n",
    "in_filename = 'sports_sequences.txt'\n",
    "doc = load_doc(in_filename)\n",
    "lines = doc.split('\\n')"
   ]
  },
  {
   "cell_type": "code",
   "execution_count": 21,
   "metadata": {
    "ExecuteTime": {
     "end_time": "2020-03-15T18:56:49.872086Z",
     "start_time": "2020-03-15T18:56:49.865105Z"
    },
    "hidden": true
   },
   "outputs": [
    {
     "name": "stdout",
     "output_type": "stream",
     "text": [
      "50\n"
     ]
    }
   ],
   "source": [
    "seq_length = len(lines[0].split()) - 1\n",
    "print(seq_length)"
   ]
  },
  {
   "cell_type": "markdown",
   "metadata": {
    "hidden": true
   },
   "source": [
    "<mark>Load Model<mark>"
   ]
  },
  {
   "cell_type": "code",
   "execution_count": 22,
   "metadata": {
    "ExecuteTime": {
     "end_time": "2020-03-15T18:56:58.853878Z",
     "start_time": "2020-03-15T18:56:57.806613Z"
    },
    "hidden": true
   },
   "outputs": [
    {
     "name": "stdout",
     "output_type": "stream",
     "text": [
      "WARNING:tensorflow:From D:\\Anaconda\\envs\\tf5-nogpu\\lib\\site-packages\\keras\\backend\\tensorflow_backend.py:174: The name tf.get_default_session is deprecated. Please use tf.compat.v1.get_default_session instead.\n",
      "\n",
      "WARNING:tensorflow:From D:\\Anaconda\\envs\\tf5-nogpu\\lib\\site-packages\\keras\\backend\\tensorflow_backend.py:181: The name tf.ConfigProto is deprecated. Please use tf.compat.v1.ConfigProto instead.\n",
      "\n",
      "WARNING:tensorflow:From D:\\Anaconda\\envs\\tf5-nogpu\\lib\\site-packages\\keras\\backend\\tensorflow_backend.py:186: The name tf.Session is deprecated. Please use tf.compat.v1.Session instead.\n",
      "\n",
      "WARNING:tensorflow:From D:\\Anaconda\\envs\\tf5-nogpu\\lib\\site-packages\\keras\\backend\\tensorflow_backend.py:190: The name tf.global_variables is deprecated. Please use tf.compat.v1.global_variables instead.\n",
      "\n",
      "WARNING:tensorflow:From D:\\Anaconda\\envs\\tf5-nogpu\\lib\\site-packages\\keras\\backend\\tensorflow_backend.py:199: The name tf.is_variable_initialized is deprecated. Please use tf.compat.v1.is_variable_initialized instead.\n",
      "\n",
      "WARNING:tensorflow:From D:\\Anaconda\\envs\\tf5-nogpu\\lib\\site-packages\\keras\\backend\\tensorflow_backend.py:206: The name tf.variables_initializer is deprecated. Please use tf.compat.v1.variables_initializer instead.\n",
      "\n"
     ]
    }
   ],
   "source": [
    "# load the model\n",
    "model = load_model('model2.h5', compile=False)"
   ]
  },
  {
   "cell_type": "code",
   "execution_count": 23,
   "metadata": {
    "ExecuteTime": {
     "end_time": "2020-03-15T18:57:01.640909Z",
     "start_time": "2020-03-15T18:57:01.622960Z"
    },
    "hidden": true
   },
   "outputs": [],
   "source": [
    "# load the tokenizer\n",
    "tokenizer = load(open('tokenizer.pkl', 'rb'))"
   ]
  },
  {
   "cell_type": "markdown",
   "metadata": {
    "hidden": true
   },
   "source": [
    "<mark>Generate Text<mark>"
   ]
  },
  {
   "cell_type": "code",
   "execution_count": 24,
   "metadata": {
    "ExecuteTime": {
     "end_time": "2020-03-15T18:57:09.707396Z",
     "start_time": "2020-03-15T18:57:09.695419Z"
    },
    "hidden": true
   },
   "outputs": [
    {
     "name": "stdout",
     "output_type": "stream",
     "text": [
      "on saturdaythe way alex rodriguez jumped out of the batter box in the ninth inning last night he looked as happy as a little leaguer after his first big hitloudon nh sports network jeff gordon will assume the pole position for sunday sylvania at the new hampshire international speedway after a\n",
      "\n"
     ]
    }
   ],
   "source": [
    "# select a seed text\n",
    "seed_text = lines[randint(0, len(lines))]\n",
    "print(seed_text + '\\n')"
   ]
  },
  {
   "cell_type": "code",
   "execution_count": 25,
   "metadata": {
    "ExecuteTime": {
     "end_time": "2020-03-15T18:57:26.080113Z",
     "start_time": "2020-03-15T18:57:26.072135Z"
    },
    "hidden": true
   },
   "outputs": [],
   "source": [
    "# generate a sequence from a language model\n",
    "def generate_seq(model, tokenizer, seq_length, seed_text, n_words):\n",
    "    result = list()\n",
    "    in_text = seed_text\n",
    "    # generate a fixed number of words\n",
    "    for _ in range(n_words):\n",
    "        # encode the text as integer\n",
    "        encoded = tokenizer.texts_to_sequences([in_text])[0]\n",
    "        # truncate sequences to a fixed length\n",
    "        encoded = pad_sequences([encoded], maxlen=seq_length, truncating='pre')\n",
    "        # predict probabilities for each word\n",
    "        yhat = model.predict_classes(encoded, verbose=0)\n",
    "        # map predicted word index to word\n",
    "        out_word = ''\n",
    "        for word, index in tokenizer.word_index.items():\n",
    "            if index == yhat:\n",
    "                out_word = word\n",
    "                break\n",
    "        # append to input\n",
    "        in_text += ' ' + out_word\n",
    "        result.append(out_word)\n",
    "    return ' '.join(result)"
   ]
  },
  {
   "cell_type": "code",
   "execution_count": 26,
   "metadata": {
    "ExecuteTime": {
     "end_time": "2020-03-15T18:57:48.915054Z",
     "start_time": "2020-03-15T18:57:47.630977Z"
    },
    "hidden": true
   },
   "outputs": [
    {
     "name": "stdout",
     "output_type": "stream",
     "text": [
      "steady celebration in the new york yankees and quite ohio on the first time in the final minutesvengoran weekap the new england patriots have it wasnt easysince the first time in the second inning in the second inning in the final class of highly seeds lleyton hewitt will be the\n"
     ]
    }
   ],
   "source": [
    "# generate new text\n",
    "generated = generate_seq(model, tokenizer, seq_length, seed_text, 50)\n",
    "print(generated)"
   ]
  },
  {
   "cell_type": "markdown",
   "metadata": {
    "hidden": true
   },
   "source": [
    "<mark>Using for loop to generate 100 sports news sample<mark>"
   ]
  },
  {
   "cell_type": "code",
   "execution_count": 27,
   "metadata": {
    "ExecuteTime": {
     "end_time": "2020-03-15T19:01:15.900934Z",
     "start_time": "2020-03-15T18:59:08.755642Z"
    },
    "hidden": true
   },
   "outputs": [],
   "source": [
    "a = []\n",
    "for i in range(100):\n",
    "    seed_text = lines[randint(0, len(lines))]\n",
    "    generated = generate_seq(model, tokenizer, seq_length, seed_text, 88)\n",
    "    a.append(generated)"
   ]
  },
  {
   "cell_type": "markdown",
   "metadata": {
    "hidden": true
   },
   "source": [
    "<mark>Create dataframe for new 100 sample<mark>"
   ]
  },
  {
   "cell_type": "code",
   "execution_count": 29,
   "metadata": {
    "ExecuteTime": {
     "end_time": "2020-03-15T19:02:04.387748Z",
     "start_time": "2020-03-15T19:02:04.341839Z"
    },
    "hidden": true
   },
   "outputs": [
    {
     "data": {
      "text/html": [
       "<div>\n",
       "<style scoped>\n",
       "    .dataframe tbody tr th:only-of-type {\n",
       "        vertical-align: middle;\n",
       "    }\n",
       "\n",
       "    .dataframe tbody tr th {\n",
       "        vertical-align: top;\n",
       "    }\n",
       "\n",
       "    .dataframe thead th {\n",
       "        text-align: right;\n",
       "    }\n",
       "</style>\n",
       "<table border=\"1\" class=\"dataframe\">\n",
       "  <thead>\n",
       "    <tr style=\"text-align: right;\">\n",
       "      <th></th>\n",
       "      <th>Category</th>\n",
       "      <th>Document</th>\n",
       "    </tr>\n",
       "  </thead>\n",
       "  <tbody>\n",
       "    <tr>\n",
       "      <th>0</th>\n",
       "      <td>Sports</td>\n",
       "      <td>stages of the team for the team and a devil de...</td>\n",
       "    </tr>\n",
       "    <tr>\n",
       "      <th>1</th>\n",
       "      <td>Sports</td>\n",
       "      <td>likely to be fit for saturday on the team he c...</td>\n",
       "    </tr>\n",
       "    <tr>\n",
       "      <th>2</th>\n",
       "      <td>Sports</td>\n",
       "      <td>second pirates pittsburghs cup chief all the t...</td>\n",
       "    </tr>\n",
       "    <tr>\n",
       "      <th>3</th>\n",
       "      <td>Sports</td>\n",
       "      <td>replace onestroke internal autumn culminates f...</td>\n",
       "    </tr>\n",
       "    <tr>\n",
       "      <th>4</th>\n",
       "      <td>Sports</td>\n",
       "      <td>league nl fridaythe los angeles dodgers rallie...</td>\n",
       "    </tr>\n",
       "  </tbody>\n",
       "</table>\n",
       "</div>"
      ],
      "text/plain": [
       "  Category                                           Document\n",
       "0   Sports  stages of the team for the team and a devil de...\n",
       "1   Sports  likely to be fit for saturday on the team he c...\n",
       "2   Sports  second pirates pittsburghs cup chief all the t...\n",
       "3   Sports  replace onestroke internal autumn culminates f...\n",
       "4   Sports  league nl fridaythe los angeles dodgers rallie..."
      ]
     },
     "execution_count": 29,
     "metadata": {},
     "output_type": "execute_result"
    }
   ],
   "source": [
    "data = {'Document': a}\n",
    "df = pd.DataFrame(data, columns=['Document'])\n",
    "df['Category'] = 'Sports'\n",
    "df = df[['Category', 'Document']]\n",
    "df.head()"
   ]
  },
  {
   "cell_type": "markdown",
   "metadata": {
    "hidden": true
   },
   "source": [
    "<mark>Write to csv file<mark>"
   ]
  },
  {
   "cell_type": "code",
   "execution_count": 31,
   "metadata": {
    "ExecuteTime": {
     "end_time": "2020-03-15T19:04:19.429517Z",
     "start_time": "2020-03-15T19:04:19.418511Z"
    },
    "hidden": true
   },
   "outputs": [],
   "source": [
    "df.to_csv('sample.csv')"
   ]
  },
  {
   "cell_type": "markdown",
   "metadata": {
    "heading_collapsed": true
   },
   "source": [
    "## 6) Use these 100 generated samples to test the performance of the ML & DL models"
   ]
  },
  {
   "cell_type": "markdown",
   "metadata": {
    "heading_collapsed": true,
    "hidden": true
   },
   "source": [
    "### Test ML (SVM) model"
   ]
  },
  {
   "cell_type": "code",
   "execution_count": 42,
   "metadata": {
    "ExecuteTime": {
     "end_time": "2020-03-15T19:35:13.768785Z",
     "start_time": "2020-03-15T19:35:13.751814Z"
    },
    "hidden": true
   },
   "outputs": [],
   "source": [
    "from nltk.corpus import stopwords\n",
    "from gensim.models import word2vec\n",
    "import string\n",
    "import re\n",
    "import pandas as pd\n",
    "import numpy as np\n",
    "import re\n",
    "import nltk\n",
    "import matplotlib.pyplot as plt\n",
    "from sklearn.svm import SVC\n",
    "from sklearn.model_selection import train_test_split\n",
    "import seaborn as sns\n",
    "import warnings\n",
    "from sklearn.metrics import classification_report\n",
    "from sklearn.metrics import accuracy_score, confusion_matrix\n",
    "from sklearn.externals import joblib\n",
    "warnings.filterwarnings('ignore')\n",
    "pd.options.display.max_colwidth = 200\n",
    "%matplotlib inline"
   ]
  },
  {
   "cell_type": "markdown",
   "metadata": {
    "ExecuteTime": {
     "end_time": "2020-03-15T19:30:09.026494Z",
     "start_time": "2020-03-15T19:30:09.019513Z"
    },
    "hidden": true
   },
   "source": [
    "<mark>Use the same w2v model get document level embeddings<mark>"
   ]
  },
  {
   "cell_type": "code",
   "execution_count": 62,
   "metadata": {
    "ExecuteTime": {
     "end_time": "2020-03-15T19:39:44.057106Z",
     "start_time": "2020-03-15T19:39:39.762067Z"
    },
    "hidden": true
   },
   "outputs": [
    {
     "data": {
      "text/plain": [
       "(40000,)"
      ]
     },
     "execution_count": 62,
     "metadata": {},
     "output_type": "execute_result"
    }
   ],
   "source": [
    "corpus_df = pd.read_csv('train3.csv', header=None)\n",
    "corpus_df.columns = ['Category', 'Document']\n",
    "corpus = corpus_df['Document'].values\n",
    "\n",
    "# Cleaning training data\n",
    "wpt = nltk.WordPunctTokenizer()\n",
    "stop_words = nltk.corpus.stopwords.words('english')\n",
    "\n",
    "\n",
    "def normalize_document(doc):\n",
    "    # lower case and remove special characters\\whitespaces\n",
    "    doc = re.sub(r'[^a-zA-Z\\s]', '', doc, re.I | re.A)\n",
    "    doc = doc.lower()\n",
    "    doc = doc.strip()\n",
    "    # tokenize document\n",
    "    tokens = wpt.tokenize(doc)\n",
    "    # filter stopwords out of document\n",
    "    filtered_tokens = [token for token in tokens if token not in stop_words]\n",
    "    # re-create document from filtered tokens\n",
    "    doc = ' '.join(filtered_tokens)\n",
    "    return doc\n",
    "\n",
    "\n",
    "normalize_corpus = np.vectorize(normalize_document)\n",
    "\n",
    "norm_corpus = normalize_corpus(corpus)\n",
    "norm_corpus.shape"
   ]
  },
  {
   "cell_type": "code",
   "execution_count": 63,
   "metadata": {
    "ExecuteTime": {
     "end_time": "2020-03-15T19:41:03.675374Z",
     "start_time": "2020-03-15T19:39:44.061093Z"
    },
    "hidden": true
   },
   "outputs": [],
   "source": [
    "# tokenize sentences in corpus\n",
    "wpt = nltk.WordPunctTokenizer()\n",
    "tokenized_corpus = [wpt.tokenize(document) for document in norm_corpus]\n",
    "\n",
    "# Set values for various parameters\n",
    "feature_size = 100    # Word vector dimensionality\n",
    "window_context = 30          # Context window size\n",
    "min_word_count = 1   # Minimum word count\n",
    "sample = 1e-3   # Downsample setting for frequent words\n",
    "\n",
    "# Build model\n",
    "w2v_model = word2vec.Word2Vec(tokenized_corpus, size=feature_size,\n",
    "                              window=window_context, min_count=min_word_count,\n",
    "                              sample=sample, iter=50)"
   ]
  },
  {
   "cell_type": "code",
   "execution_count": 64,
   "metadata": {
    "ExecuteTime": {
     "end_time": "2020-03-15T19:41:03.687346Z",
     "start_time": "2020-03-15T19:41:03.677369Z"
    },
    "hidden": true
   },
   "outputs": [
    {
     "name": "stdout",
     "output_type": "stream",
     "text": [
      "Vocabulary Size: 50182 - Embedding Dim: 100\n"
     ]
    }
   ],
   "source": [
    "w2v_weights = w2v_model.wv.vectors\n",
    "vocab_size, embedding_size = w2v_weights.shape\n",
    "\n",
    "print(\"Vocabulary Size: {} - Embedding Dim: {}\".format(vocab_size, embedding_size))"
   ]
  },
  {
   "cell_type": "code",
   "execution_count": 65,
   "metadata": {
    "ExecuteTime": {
     "end_time": "2020-03-15T19:41:03.702304Z",
     "start_time": "2020-03-15T19:41:03.690335Z"
    },
    "hidden": true
   },
   "outputs": [],
   "source": [
    "def average_word_vectors(words, model, vocabulary, num_features):\n",
    "\n",
    "    feature_vector = np.zeros((num_features,), dtype=\"float64\")\n",
    "    nwords = 0.\n",
    "\n",
    "    for word in words:\n",
    "        if word in vocabulary:\n",
    "            nwords = nwords + 1.\n",
    "            feature_vector = np.add(feature_vector, model[word])\n",
    "\n",
    "    if nwords:\n",
    "        feature_vector = np.divide(feature_vector, nwords)\n",
    "\n",
    "    return feature_vector\n",
    "\n",
    "\n",
    "def averaged_word_vectorizer(corpus, model, num_features):\n",
    "    vocabulary = set(model.wv.index2word)\n",
    "    features = [average_word_vectors(tokenized_sentence, model, vocabulary, num_features)\n",
    "                for tokenized_sentence in corpus]\n",
    "    return np.array(features)"
   ]
  },
  {
   "cell_type": "code",
   "execution_count": 66,
   "metadata": {
    "ExecuteTime": {
     "end_time": "2020-03-15T19:41:03.840933Z",
     "start_time": "2020-03-15T19:41:03.709284Z"
    },
    "hidden": true
   },
   "outputs": [
    {
     "data": {
      "text/html": [
       "<div>\n",
       "<style scoped>\n",
       "    .dataframe tbody tr th:only-of-type {\n",
       "        vertical-align: middle;\n",
       "    }\n",
       "\n",
       "    .dataframe tbody tr th {\n",
       "        vertical-align: top;\n",
       "    }\n",
       "\n",
       "    .dataframe thead th {\n",
       "        text-align: right;\n",
       "    }\n",
       "</style>\n",
       "<table border=\"1\" class=\"dataframe\">\n",
       "  <thead>\n",
       "    <tr style=\"text-align: right;\">\n",
       "      <th></th>\n",
       "      <th>0</th>\n",
       "      <th>1</th>\n",
       "      <th>2</th>\n",
       "      <th>3</th>\n",
       "      <th>4</th>\n",
       "      <th>5</th>\n",
       "      <th>6</th>\n",
       "      <th>7</th>\n",
       "      <th>8</th>\n",
       "      <th>9</th>\n",
       "      <th>...</th>\n",
       "      <th>90</th>\n",
       "      <th>91</th>\n",
       "      <th>92</th>\n",
       "      <th>93</th>\n",
       "      <th>94</th>\n",
       "      <th>95</th>\n",
       "      <th>96</th>\n",
       "      <th>97</th>\n",
       "      <th>98</th>\n",
       "      <th>99</th>\n",
       "    </tr>\n",
       "  </thead>\n",
       "  <tbody>\n",
       "    <tr>\n",
       "      <th>0</th>\n",
       "      <td>-1.847784</td>\n",
       "      <td>0.132991</td>\n",
       "      <td>0.023631</td>\n",
       "      <td>0.935539</td>\n",
       "      <td>-0.195021</td>\n",
       "      <td>-1.288283</td>\n",
       "      <td>0.547306</td>\n",
       "      <td>0.213339</td>\n",
       "      <td>0.436048</td>\n",
       "      <td>-0.503643</td>\n",
       "      <td>...</td>\n",
       "      <td>0.713449</td>\n",
       "      <td>-0.543534</td>\n",
       "      <td>-1.175138</td>\n",
       "      <td>0.906836</td>\n",
       "      <td>-0.232104</td>\n",
       "      <td>-0.029717</td>\n",
       "      <td>-2.824145</td>\n",
       "      <td>0.612580</td>\n",
       "      <td>1.263698</td>\n",
       "      <td>1.803682</td>\n",
       "    </tr>\n",
       "    <tr>\n",
       "      <th>1</th>\n",
       "      <td>-2.189043</td>\n",
       "      <td>-0.279245</td>\n",
       "      <td>-1.009501</td>\n",
       "      <td>0.546516</td>\n",
       "      <td>-0.995631</td>\n",
       "      <td>-1.449291</td>\n",
       "      <td>0.345696</td>\n",
       "      <td>0.306930</td>\n",
       "      <td>1.149023</td>\n",
       "      <td>0.133607</td>\n",
       "      <td>...</td>\n",
       "      <td>0.175203</td>\n",
       "      <td>-0.078281</td>\n",
       "      <td>-1.640365</td>\n",
       "      <td>0.864689</td>\n",
       "      <td>-0.192158</td>\n",
       "      <td>-0.434408</td>\n",
       "      <td>-2.376381</td>\n",
       "      <td>1.204683</td>\n",
       "      <td>1.240302</td>\n",
       "      <td>1.744256</td>\n",
       "    </tr>\n",
       "    <tr>\n",
       "      <th>2</th>\n",
       "      <td>-0.812503</td>\n",
       "      <td>0.260584</td>\n",
       "      <td>-0.195387</td>\n",
       "      <td>0.466829</td>\n",
       "      <td>-0.432340</td>\n",
       "      <td>-0.843229</td>\n",
       "      <td>0.351714</td>\n",
       "      <td>0.151733</td>\n",
       "      <td>-0.256489</td>\n",
       "      <td>-0.136022</td>\n",
       "      <td>...</td>\n",
       "      <td>0.388044</td>\n",
       "      <td>0.284495</td>\n",
       "      <td>-1.153346</td>\n",
       "      <td>0.402060</td>\n",
       "      <td>0.252776</td>\n",
       "      <td>0.062953</td>\n",
       "      <td>-1.173212</td>\n",
       "      <td>0.450952</td>\n",
       "      <td>0.934383</td>\n",
       "      <td>1.054168</td>\n",
       "    </tr>\n",
       "    <tr>\n",
       "      <th>3</th>\n",
       "      <td>-2.600859</td>\n",
       "      <td>-0.213615</td>\n",
       "      <td>-0.743818</td>\n",
       "      <td>0.750528</td>\n",
       "      <td>-0.936309</td>\n",
       "      <td>-1.667650</td>\n",
       "      <td>-0.056886</td>\n",
       "      <td>-0.406998</td>\n",
       "      <td>1.262713</td>\n",
       "      <td>-0.137356</td>\n",
       "      <td>...</td>\n",
       "      <td>0.375475</td>\n",
       "      <td>-1.079031</td>\n",
       "      <td>-1.695178</td>\n",
       "      <td>1.172919</td>\n",
       "      <td>-0.574351</td>\n",
       "      <td>-0.719459</td>\n",
       "      <td>-3.701954</td>\n",
       "      <td>1.129937</td>\n",
       "      <td>1.734837</td>\n",
       "      <td>2.957388</td>\n",
       "    </tr>\n",
       "    <tr>\n",
       "      <th>4</th>\n",
       "      <td>-0.913640</td>\n",
       "      <td>-0.230554</td>\n",
       "      <td>-0.226524</td>\n",
       "      <td>0.902236</td>\n",
       "      <td>-0.205406</td>\n",
       "      <td>-1.221910</td>\n",
       "      <td>0.217581</td>\n",
       "      <td>0.368860</td>\n",
       "      <td>-0.117320</td>\n",
       "      <td>-0.575721</td>\n",
       "      <td>...</td>\n",
       "      <td>-0.434084</td>\n",
       "      <td>0.237051</td>\n",
       "      <td>-1.124399</td>\n",
       "      <td>0.473271</td>\n",
       "      <td>-0.251611</td>\n",
       "      <td>0.337884</td>\n",
       "      <td>-1.224569</td>\n",
       "      <td>0.435492</td>\n",
       "      <td>1.253399</td>\n",
       "      <td>0.887759</td>\n",
       "    </tr>\n",
       "    <tr>\n",
       "      <th>...</th>\n",
       "      <td>...</td>\n",
       "      <td>...</td>\n",
       "      <td>...</td>\n",
       "      <td>...</td>\n",
       "      <td>...</td>\n",
       "      <td>...</td>\n",
       "      <td>...</td>\n",
       "      <td>...</td>\n",
       "      <td>...</td>\n",
       "      <td>...</td>\n",
       "      <td>...</td>\n",
       "      <td>...</td>\n",
       "      <td>...</td>\n",
       "      <td>...</td>\n",
       "      <td>...</td>\n",
       "      <td>...</td>\n",
       "      <td>...</td>\n",
       "      <td>...</td>\n",
       "      <td>...</td>\n",
       "      <td>...</td>\n",
       "      <td>...</td>\n",
       "    </tr>\n",
       "    <tr>\n",
       "      <th>95</th>\n",
       "      <td>-2.595929</td>\n",
       "      <td>-0.350132</td>\n",
       "      <td>-1.248151</td>\n",
       "      <td>0.596087</td>\n",
       "      <td>-1.462927</td>\n",
       "      <td>-1.694892</td>\n",
       "      <td>0.198309</td>\n",
       "      <td>-0.295640</td>\n",
       "      <td>1.349536</td>\n",
       "      <td>-0.105495</td>\n",
       "      <td>...</td>\n",
       "      <td>0.366406</td>\n",
       "      <td>-0.953094</td>\n",
       "      <td>-2.022358</td>\n",
       "      <td>0.963399</td>\n",
       "      <td>-0.401150</td>\n",
       "      <td>-0.507663</td>\n",
       "      <td>-3.489565</td>\n",
       "      <td>1.342747</td>\n",
       "      <td>1.612514</td>\n",
       "      <td>2.570882</td>\n",
       "    </tr>\n",
       "    <tr>\n",
       "      <th>96</th>\n",
       "      <td>-1.510500</td>\n",
       "      <td>-0.033125</td>\n",
       "      <td>-0.824408</td>\n",
       "      <td>0.882340</td>\n",
       "      <td>-0.468357</td>\n",
       "      <td>-1.246829</td>\n",
       "      <td>0.627367</td>\n",
       "      <td>0.468577</td>\n",
       "      <td>0.462442</td>\n",
       "      <td>-0.109349</td>\n",
       "      <td>...</td>\n",
       "      <td>0.576700</td>\n",
       "      <td>-0.094986</td>\n",
       "      <td>-1.347305</td>\n",
       "      <td>0.543373</td>\n",
       "      <td>0.181485</td>\n",
       "      <td>-0.003572</td>\n",
       "      <td>-1.430578</td>\n",
       "      <td>1.036156</td>\n",
       "      <td>1.214435</td>\n",
       "      <td>1.406230</td>\n",
       "    </tr>\n",
       "    <tr>\n",
       "      <th>97</th>\n",
       "      <td>-1.986790</td>\n",
       "      <td>-0.000833</td>\n",
       "      <td>-0.481103</td>\n",
       "      <td>0.887314</td>\n",
       "      <td>-0.520862</td>\n",
       "      <td>-1.657750</td>\n",
       "      <td>-0.129073</td>\n",
       "      <td>-0.037732</td>\n",
       "      <td>1.119915</td>\n",
       "      <td>-0.362989</td>\n",
       "      <td>...</td>\n",
       "      <td>0.263814</td>\n",
       "      <td>-0.790301</td>\n",
       "      <td>-1.226264</td>\n",
       "      <td>1.208289</td>\n",
       "      <td>-0.335279</td>\n",
       "      <td>-0.569296</td>\n",
       "      <td>-3.257815</td>\n",
       "      <td>0.392643</td>\n",
       "      <td>1.594304</td>\n",
       "      <td>2.874302</td>\n",
       "    </tr>\n",
       "    <tr>\n",
       "      <th>98</th>\n",
       "      <td>-2.463994</td>\n",
       "      <td>-0.294856</td>\n",
       "      <td>-1.388945</td>\n",
       "      <td>0.946770</td>\n",
       "      <td>-0.891211</td>\n",
       "      <td>-1.756670</td>\n",
       "      <td>-0.269740</td>\n",
       "      <td>-0.104142</td>\n",
       "      <td>1.198939</td>\n",
       "      <td>-0.321465</td>\n",
       "      <td>...</td>\n",
       "      <td>-0.477956</td>\n",
       "      <td>-0.679434</td>\n",
       "      <td>-1.503008</td>\n",
       "      <td>1.170296</td>\n",
       "      <td>-0.129007</td>\n",
       "      <td>-0.313280</td>\n",
       "      <td>-2.773789</td>\n",
       "      <td>0.969906</td>\n",
       "      <td>1.923504</td>\n",
       "      <td>1.824114</td>\n",
       "    </tr>\n",
       "    <tr>\n",
       "      <th>99</th>\n",
       "      <td>-3.049816</td>\n",
       "      <td>0.110182</td>\n",
       "      <td>-1.001196</td>\n",
       "      <td>0.625881</td>\n",
       "      <td>-1.100160</td>\n",
       "      <td>-1.977262</td>\n",
       "      <td>-0.346336</td>\n",
       "      <td>-0.372389</td>\n",
       "      <td>1.772151</td>\n",
       "      <td>-0.310488</td>\n",
       "      <td>...</td>\n",
       "      <td>0.154730</td>\n",
       "      <td>-1.240803</td>\n",
       "      <td>-1.986490</td>\n",
       "      <td>1.769049</td>\n",
       "      <td>-0.219670</td>\n",
       "      <td>-0.704147</td>\n",
       "      <td>-3.886733</td>\n",
       "      <td>1.004992</td>\n",
       "      <td>1.973763</td>\n",
       "      <td>3.237511</td>\n",
       "    </tr>\n",
       "  </tbody>\n",
       "</table>\n",
       "<p>100 rows × 100 columns</p>\n",
       "</div>"
      ],
      "text/plain": [
       "          0         1         2         3         4         5         6   \\\n",
       "0  -1.847784  0.132991  0.023631  0.935539 -0.195021 -1.288283  0.547306   \n",
       "1  -2.189043 -0.279245 -1.009501  0.546516 -0.995631 -1.449291  0.345696   \n",
       "2  -0.812503  0.260584 -0.195387  0.466829 -0.432340 -0.843229  0.351714   \n",
       "3  -2.600859 -0.213615 -0.743818  0.750528 -0.936309 -1.667650 -0.056886   \n",
       "4  -0.913640 -0.230554 -0.226524  0.902236 -0.205406 -1.221910  0.217581   \n",
       "..       ...       ...       ...       ...       ...       ...       ...   \n",
       "95 -2.595929 -0.350132 -1.248151  0.596087 -1.462927 -1.694892  0.198309   \n",
       "96 -1.510500 -0.033125 -0.824408  0.882340 -0.468357 -1.246829  0.627367   \n",
       "97 -1.986790 -0.000833 -0.481103  0.887314 -0.520862 -1.657750 -0.129073   \n",
       "98 -2.463994 -0.294856 -1.388945  0.946770 -0.891211 -1.756670 -0.269740   \n",
       "99 -3.049816  0.110182 -1.001196  0.625881 -1.100160 -1.977262 -0.346336   \n",
       "\n",
       "          7         8         9   ...        90        91        92        93  \\\n",
       "0   0.213339  0.436048 -0.503643  ...  0.713449 -0.543534 -1.175138  0.906836   \n",
       "1   0.306930  1.149023  0.133607  ...  0.175203 -0.078281 -1.640365  0.864689   \n",
       "2   0.151733 -0.256489 -0.136022  ...  0.388044  0.284495 -1.153346  0.402060   \n",
       "3  -0.406998  1.262713 -0.137356  ...  0.375475 -1.079031 -1.695178  1.172919   \n",
       "4   0.368860 -0.117320 -0.575721  ... -0.434084  0.237051 -1.124399  0.473271   \n",
       "..       ...       ...       ...  ...       ...       ...       ...       ...   \n",
       "95 -0.295640  1.349536 -0.105495  ...  0.366406 -0.953094 -2.022358  0.963399   \n",
       "96  0.468577  0.462442 -0.109349  ...  0.576700 -0.094986 -1.347305  0.543373   \n",
       "97 -0.037732  1.119915 -0.362989  ...  0.263814 -0.790301 -1.226264  1.208289   \n",
       "98 -0.104142  1.198939 -0.321465  ... -0.477956 -0.679434 -1.503008  1.170296   \n",
       "99 -0.372389  1.772151 -0.310488  ...  0.154730 -1.240803 -1.986490  1.769049   \n",
       "\n",
       "          94        95        96        97        98        99  \n",
       "0  -0.232104 -0.029717 -2.824145  0.612580  1.263698  1.803682  \n",
       "1  -0.192158 -0.434408 -2.376381  1.204683  1.240302  1.744256  \n",
       "2   0.252776  0.062953 -1.173212  0.450952  0.934383  1.054168  \n",
       "3  -0.574351 -0.719459 -3.701954  1.129937  1.734837  2.957388  \n",
       "4  -0.251611  0.337884 -1.224569  0.435492  1.253399  0.887759  \n",
       "..       ...       ...       ...       ...       ...       ...  \n",
       "95 -0.401150 -0.507663 -3.489565  1.342747  1.612514  2.570882  \n",
       "96  0.181485 -0.003572 -1.430578  1.036156  1.214435  1.406230  \n",
       "97 -0.335279 -0.569296 -3.257815  0.392643  1.594304  2.874302  \n",
       "98 -0.129007 -0.313280 -2.773789  0.969906  1.923504  1.824114  \n",
       "99 -0.219670 -0.704147 -3.886733  1.004992  1.973763  3.237511  \n",
       "\n",
       "[100 rows x 100 columns]"
      ]
     },
     "execution_count": 66,
     "metadata": {},
     "output_type": "execute_result"
    }
   ],
   "source": [
    "# Load 100 generated sample data as test data\n",
    "corpus_df2 = pd.read_csv('sample.csv', header=None)\n",
    "corpus_df2.columns = ['Category', 'Document']\n",
    "corpus2 = corpus_df2['Document'].values\n",
    "\n",
    "# Clean the testing data\n",
    "norm_corpus2 = normalize_corpus(corpus2)\n",
    "norm_corpus2.shape\n",
    "\n",
    "# fit testing data into w2v model\n",
    "tokenized_corpus2 = [wpt.tokenize(document) for document in norm_corpus2]\n",
    "\n",
    "# get document level embeddings\n",
    "w2v_feature_array2 = averaged_word_vectorizer(corpus=tokenized_corpus2, model=w2v_model,\n",
    "                                              num_features=feature_size)\n",
    "pd.DataFrame(w2v_feature_array2)"
   ]
  },
  {
   "cell_type": "markdown",
   "metadata": {
    "hidden": true
   },
   "source": [
    "<mark>Prepare X test and Y test <mark>"
   ]
  },
  {
   "cell_type": "code",
   "execution_count": 67,
   "metadata": {
    "ExecuteTime": {
     "end_time": "2020-03-15T19:41:04.026436Z",
     "start_time": "2020-03-15T19:41:03.846916Z"
    },
    "hidden": true
   },
   "outputs": [
    {
     "name": "stdout",
     "output_type": "stream",
     "text": [
      "(100, 100)\n",
      "(100,)\n"
     ]
    }
   ],
   "source": [
    "# Set X_train, y_train, x_test, y_test\n",
    "df = pd.read_csv('train3.csv', header=None)\n",
    "df.columns = ['Category', 'Text']\n",
    "df.head()\n",
    "# create new column and new category_id for Category name\n",
    "df['category_id'] = df['Category'].factorize()[0]\n",
    "\n",
    "# Create a new pandas dataframe \"category_id_df\", use it to iterate over the categories\n",
    "category_id_df = df[['Category', 'category_id']\n",
    "                    ].drop_duplicates().sort_values('category_id')\n",
    "category_id_df\n",
    "# Create a dictionary that can easily convert category names into category_ids\n",
    "category_to_id = dict(category_id_df.values)\n",
    "id_to_category = dict(category_id_df[['category_id', 'Category']].values)\n",
    "id_to_category\n",
    "\n",
    "df2 = pd.read_csv('sample.csv', header=None)\n",
    "df2.columns = ['Category', 'Text']\n",
    "df2.head()\n",
    "df2['category_id'] = df2['Category'].factorize()[0]\n",
    "\n",
    "\n",
    "features2 = pd.DataFrame(w2v_feature_array2).values\n",
    "labels2 = df2.category_id\n",
    "\n",
    "\n",
    "X_test = features2\n",
    "y_test = labels2\n",
    "print(X_test.shape)\n",
    "print(y_test.shape)"
   ]
  },
  {
   "cell_type": "code",
   "execution_count": 68,
   "metadata": {
    "ExecuteTime": {
     "end_time": "2020-03-15T19:41:04.037406Z",
     "start_time": "2020-03-15T19:41:04.030426Z"
    },
    "hidden": true
   },
   "outputs": [],
   "source": [
    "y_test = []\n",
    "for i in range(100):\n",
    "    a = 1\n",
    "    y_test.append(a)\n",
    "y_test = np.array(y_test)"
   ]
  },
  {
   "cell_type": "markdown",
   "metadata": {
    "hidden": true
   },
   "source": [
    "<mark>Load SVM model <mark>"
   ]
  },
  {
   "cell_type": "code",
   "execution_count": 69,
   "metadata": {
    "ExecuteTime": {
     "end_time": "2020-03-15T19:41:04.067332Z",
     "start_time": "2020-03-15T19:41:04.042394Z"
    },
    "hidden": true
   },
   "outputs": [],
   "source": [
    "model = joblib.load('svmmodel.pkl')"
   ]
  },
  {
   "cell_type": "markdown",
   "metadata": {
    "ExecuteTime": {
     "end_time": "2020-03-15T19:36:09.599284Z",
     "start_time": "2020-03-15T19:36:09.593301Z"
    },
    "hidden": true
   },
   "source": [
    "<mark>Accuracy <mark>"
   ]
  },
  {
   "cell_type": "code",
   "execution_count": 70,
   "metadata": {
    "ExecuteTime": {
     "end_time": "2020-03-15T19:41:04.322644Z",
     "start_time": "2020-03-15T19:41:04.069322Z"
    },
    "hidden": true
   },
   "outputs": [
    {
     "name": "stdout",
     "output_type": "stream",
     "text": [
      "accuracy 0.99\n"
     ]
    }
   ],
   "source": [
    "# Make Predictions\n",
    "y_pred = model.predict(X_test)\n",
    "print('accuracy %s' % accuracy_score(y_pred, y_test))"
   ]
  },
  {
   "cell_type": "markdown",
   "metadata": {
    "heading_collapsed": true,
    "hidden": true
   },
   "source": [
    "### Test DL (LSTM) model"
   ]
  },
  {
   "cell_type": "code",
   "execution_count": 71,
   "metadata": {
    "ExecuteTime": {
     "end_time": "2020-03-15T19:47:41.527138Z",
     "start_time": "2020-03-15T19:47:41.514173Z"
    },
    "hidden": true
   },
   "outputs": [],
   "source": [
    "from nltk.corpus import stopwords\n",
    "from gensim.models import word2vec\n",
    "import string\n",
    "import re\n",
    "import pandas as pd\n",
    "import numpy as np\n",
    "import re\n",
    "import nltk\n",
    "import matplotlib.pyplot as plt\n",
    "from keras.preprocessing.sequence import pad_sequences\n",
    "from keras.utils.vis_utils import plot_model\n",
    "from keras.models import Sequential\n",
    "from keras.layers import *\n",
    "from keras.layers import Dropout\n",
    "from keras.layers.embeddings import Embedding\n",
    "from keras.models import load_model\n",
    "pd.options.display.max_colwidth = 200\n",
    "%matplotlib inline"
   ]
  },
  {
   "cell_type": "markdown",
   "metadata": {
    "hidden": true
   },
   "source": [
    "<mark>Use the same w2v model to tokenize the 100 generated samples<mark>"
   ]
  },
  {
   "cell_type": "code",
   "execution_count": 72,
   "metadata": {
    "ExecuteTime": {
     "end_time": "2020-03-15T19:49:53.912579Z",
     "start_time": "2020-03-15T19:49:49.823513Z"
    },
    "hidden": true
   },
   "outputs": [
    {
     "data": {
      "text/plain": [
       "(40000,)"
      ]
     },
     "execution_count": 72,
     "metadata": {},
     "output_type": "execute_result"
    }
   ],
   "source": [
    "# Load training data\n",
    "corpus_df = pd.read_csv('train3.csv', header=None)\n",
    "corpus_df.columns = ['Category', 'Document']\n",
    "corpus = corpus_df['Document'].values\n",
    "\n",
    "# Cleaning training data\n",
    "wpt = nltk.WordPunctTokenizer()\n",
    "stop_words = nltk.corpus.stopwords.words('english')\n",
    "\n",
    "\n",
    "def normalize_document(doc):\n",
    "    # lower case and remove special characters\\whitespaces\n",
    "    doc = re.sub(r'[^a-zA-Z\\s]', '', doc, re.I | re.A)\n",
    "    doc = doc.lower()\n",
    "    doc = doc.strip()\n",
    "    # tokenize document\n",
    "    tokens = wpt.tokenize(doc)\n",
    "    # filter stopwords out of document\n",
    "    filtered_tokens = [token for token in tokens if token not in stop_words]\n",
    "    # re-create document from filtered tokens\n",
    "    doc = ' '.join(filtered_tokens)\n",
    "    return doc\n",
    "\n",
    "\n",
    "normalize_corpus = np.vectorize(normalize_document)\n",
    "\n",
    "norm_corpus = normalize_corpus(corpus)\n",
    "norm_corpus.shape"
   ]
  },
  {
   "cell_type": "code",
   "execution_count": 73,
   "metadata": {
    "ExecuteTime": {
     "end_time": "2020-03-15T19:51:22.689340Z",
     "start_time": "2020-03-15T19:49:56.649984Z"
    },
    "hidden": true
   },
   "outputs": [],
   "source": [
    "# tokenize sentences in corpus\n",
    "wpt = nltk.WordPunctTokenizer()\n",
    "tokenized_corpus = [wpt.tokenize(document) for document in norm_corpus]\n",
    "\n",
    "# Set values for various parameters\n",
    "feature_size = 100    # Word vector dimensionality\n",
    "window_context = 30          # Context window size\n",
    "min_word_count = 1   # Minimum word count\n",
    "sample = 1e-3   # Downsample setting for frequent words\n",
    "\n",
    "# Build model\n",
    "w2v_model = word2vec.Word2Vec(tokenized_corpus, size=feature_size,\n",
    "                              window=window_context, min_count=min_word_count,\n",
    "                              sample=sample, iter=50)"
   ]
  },
  {
   "cell_type": "code",
   "execution_count": 74,
   "metadata": {
    "ExecuteTime": {
     "end_time": "2020-03-15T19:51:22.700297Z",
     "start_time": "2020-03-15T19:51:22.691321Z"
    },
    "hidden": true
   },
   "outputs": [
    {
     "name": "stdout",
     "output_type": "stream",
     "text": [
      "Vocabulary Size: 50182 - Embedding Dim: 100\n"
     ]
    }
   ],
   "source": [
    "# Retrieve the weights from the model.\n",
    "# This is used for initializing the weightsin Keras Embedding layer\n",
    "w2v_weights = w2v_model.wv.vectors\n",
    "vocab_size, embedding_size = w2v_weights.shape\n",
    "\n",
    "print(\"Vocabulary Size: {} - Embedding Dim: {}\".format(vocab_size, embedding_size))"
   ]
  },
  {
   "cell_type": "code",
   "execution_count": 75,
   "metadata": {
    "ExecuteTime": {
     "end_time": "2020-03-15T19:51:22.713262Z",
     "start_time": "2020-03-15T19:51:22.705285Z"
    },
    "hidden": true
   },
   "outputs": [],
   "source": [
    "def word2token(word):\n",
    "    try:\n",
    "        return w2v_model.wv.vocab[word].index\n",
    "    except KeyError:\n",
    "        return 0\n",
    "\n",
    "\n",
    "def token2word(token):\n",
    "    return w2v_model.wv.index2word[token]"
   ]
  },
  {
   "cell_type": "markdown",
   "metadata": {
    "hidden": true
   },
   "source": [
    "<mark>Prepare test data<mark>"
   ]
  },
  {
   "cell_type": "code",
   "execution_count": 76,
   "metadata": {
    "ExecuteTime": {
     "end_time": "2020-03-15T19:52:23.625134Z",
     "start_time": "2020-03-15T19:52:23.615126Z"
    },
    "hidden": true
   },
   "outputs": [],
   "source": [
    "corpus_df2 = pd.read_csv('sample.csv', header=None)\n",
    "corpus_df2.columns = ['Category', 'Document']"
   ]
  },
  {
   "cell_type": "code",
   "execution_count": 77,
   "metadata": {
    "ExecuteTime": {
     "end_time": "2020-03-15T19:52:41.109796Z",
     "start_time": "2020-03-15T19:52:41.083864Z"
    },
    "hidden": true
   },
   "outputs": [
    {
     "name": "stdout",
     "output_type": "stream",
     "text": [
      "(100, 88)\n",
      "(100,)\n"
     ]
    }
   ],
   "source": [
    "# Sequences will be padded or truncated to this length\n",
    "MAX_SEQUENCE_LENGTH = 88\n",
    "\n",
    "\n",
    "class SequenceIterator:\n",
    "    def __init__(self, dataset, seq_length):\n",
    "        self.dataset = dataset\n",
    "\n",
    "        self.translator = str.maketrans('', '', string.punctuation + '–')\n",
    "        self.categories, self.ccount = np.unique(\n",
    "            dataset.Category, return_counts=True)\n",
    "\n",
    "        self.seq_length = seq_length\n",
    "\n",
    "    def __iter__(self):\n",
    "        for news, cat in zip(self.dataset.iloc[:, 1], self.dataset.iloc[:, 0]):\n",
    "\n",
    "            # Make all characters lower-case\n",
    "            news = news.lower()\n",
    "\n",
    "            # Clean string of all punctuation\n",
    "            news = news.translate(self.translator)\n",
    "\n",
    "            words = np.array([word2token(w) for w in news.split(' ')[\n",
    "                             :self.seq_length] if w != ''])\n",
    "\n",
    "            yield (words, cat)\n",
    "\n",
    "\n",
    "sequences = SequenceIterator(corpus_df2, MAX_SEQUENCE_LENGTH)\n",
    "\n",
    "# Used for generating the labels in the set\n",
    "cat_dict = {k: v for k, v in zip(\n",
    "    sequences.categories, range(len(sequences.categories)))}\n",
    "\n",
    "set_x2 = []\n",
    "set_y2 = []\n",
    "for w, c in sequences:\n",
    "    set_x2.append(w)\n",
    "    set_y2.append(cat_dict[c])\n",
    "\n",
    "# Padding sequences with 0.\n",
    "set_x2 = pad_sequences(\n",
    "    set_x2, maxlen=MAX_SEQUENCE_LENGTH, padding='pre', value=0)\n",
    "set_y2 = np.array(set_y2)\n",
    "\n",
    "print(set_x2.shape)\n",
    "print(set_y2.shape)"
   ]
  },
  {
   "cell_type": "code",
   "execution_count": 83,
   "metadata": {
    "ExecuteTime": {
     "end_time": "2020-03-15T19:55:12.228213Z",
     "start_time": "2020-03-15T19:55:12.219267Z"
    },
    "hidden": true
   },
   "outputs": [
    {
     "name": "stdout",
     "output_type": "stream",
     "text": [
      "Test Shapes - X: (100, 88) - Y: (100,)\n"
     ]
    }
   ],
   "source": [
    "test_x = set_x2\n",
    "test_y = []\n",
    "for i in range(100):\n",
    "    a = 2\n",
    "    test_y.append(a)\n",
    "test_y = np.array(test_y)\n",
    "print(\"Test Shapes - X: {} - Y: {}\".format(test_x.shape, test_y.shape))"
   ]
  },
  {
   "cell_type": "markdown",
   "metadata": {
    "ExecuteTime": {
     "end_time": "2020-03-15T19:56:22.142598Z",
     "start_time": "2020-03-15T19:56:22.135591Z"
    },
    "hidden": true
   },
   "source": [
    "<mark>Load LSTM model<mark>"
   ]
  },
  {
   "cell_type": "code",
   "execution_count": 87,
   "metadata": {
    "ExecuteTime": {
     "end_time": "2020-03-15T19:57:54.800420Z",
     "start_time": "2020-03-15T19:57:49.461919Z"
    },
    "hidden": true
   },
   "outputs": [],
   "source": [
    "model = load_model('model.h5')"
   ]
  },
  {
   "cell_type": "markdown",
   "metadata": {
    "ExecuteTime": {
     "end_time": "2020-03-15T19:58:48.494765Z",
     "start_time": "2020-03-15T19:58:48.487781Z"
    },
    "hidden": true
   },
   "source": [
    "<mark>Accuracy<mark>"
   ]
  },
  {
   "cell_type": "code",
   "execution_count": 88,
   "metadata": {
    "ExecuteTime": {
     "end_time": "2020-03-15T19:57:59.530232Z",
     "start_time": "2020-03-15T19:57:58.472062Z"
    },
    "hidden": true
   },
   "outputs": [
    {
     "name": "stdout",
     "output_type": "stream",
     "text": [
      "100/100 [==============================] - 1s 10ms/step\n",
      "Test Accuracy: 100.00%\n"
     ]
    }
   ],
   "source": [
    "score = model.evaluate(test_x,  test_y,\n",
    "                       batch_size=32, verbose=1)\n",
    "\n",
    "print(\"Test Accuracy: %.2f%%\" % (score[1]*100))"
   ]
  },
  {
   "cell_type": "markdown",
   "metadata": {
    "heading_collapsed": true,
    "hidden": true
   },
   "source": [
    "### Summary: Performance results"
   ]
  },
  {
   "cell_type": "markdown",
   "metadata": {
    "hidden": true
   },
   "source": [
    "<mark>Performance of ML & DL <mark>"
   ]
  },
  {
   "cell_type": "code",
   "execution_count": 94,
   "metadata": {
    "ExecuteTime": {
     "end_time": "2020-03-15T20:37:59.085599Z",
     "start_time": "2020-03-15T20:37:58.943978Z"
    },
    "hidden": true
   },
   "outputs": [
    {
     "data": {
      "image/png": "[encoded data removed]",
      "text/plain": [
       "<Figure size 432x288 with 1 Axes>"
      ]
     },
     "metadata": {
      "needs_background": "light"
     },
     "output_type": "display_data"
    }
   ],
   "source": [
    "import matplotlib.pyplot as plt\n",
    "x = [\"ML\", \"DL\"]\n",
    "y = [99, 100]\n",
    "\n",
    "plt.bar(x, y, width=0.65, color=['lightsalmon', 'skyblue'])\n",
    "plt.title(\"Accuracy\")\n",
    "plt.ylim(0, 100)\n",
    "plt.ylabel('Percentage')\n",
    "\n",
    "for a, b in zip(x, y):\n",
    "    plt.text(a, b+0.05, '%1.0f%%' % b, ha='center', va='bottom', fontsize=12)"
   ]
  }
 ],
 "metadata": {
  "kernelspec": {
   "display_name": "Python 3",
   "language": "python",
   "name": "python3"
  },
  "language_info": {
   "codemirror_mode": {
    "name": "ipython",
    "version": 3
   },
   "file_extension": ".py",
   "mimetype": "text/x-python",
   "name": "python",
   "nbconvert_exporter": "python",
   "pygments_lexer": "ipython3",
   "version": "3.7.6"
  },
  "toc": {
   "base_numbering": "1",
   "nav_menu": {},
   "number_sections": false,
   "sideBar": true,
   "skip_h1_title": false,
   "title_cell": "Table of Contents",
   "title_sidebar": "Contents",
   "toc_cell": false,
   "toc_position": {
    "height": "calc(100% - 180px)",
    "left": "10px",
    "top": "150px",
    "width": "384px"
   },
   "toc_section_display": true,
   "toc_window_display": false
  }
 },
 "nbformat": 4,
 "nbformat_minor": 4
}
